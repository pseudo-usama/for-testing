{
 "cells": [
  {
   "cell_type": "code",
   "execution_count": null,
   "id": "b09ab7dc-dd38-411f-af49-d47d17d7dbfa",
   "metadata": {
    "id": "83dd1c10-90b4-4462-93a9-3e723858258d"
   },
   "outputs": [],
   "source": [
    "import torch\n",
    "from torch import nn\n",
    "from torchvision.datasets import MNIST\n",
    "from torchvision import transforms\n",
    "from torchvision.utils import make_grid\n",
    "from torch.utils.data import DataLoader\n",
    "\n",
    "from tqdm.auto import tqdm\n",
    "import matplotlib.pyplot as plt"
   ]
  },
  {
   "cell_type": "code",
   "execution_count": 2,
   "id": "301a6d86-dc5a-43dd-9707-cdc6bffbc450",
   "metadata": {},
   "outputs": [],
   "source": [
    "def display_gen_pred(imgs, size=(1, 28, 28)):\n",
    "    img_unflat = imgs.detach().cpu().view(-1, *size)\n",
    "    img_grid = make_grid(img_unflat[:25], nrow=5)\n",
    "    plt.imshow(img_grid.permute(1, 2, 0).squeeze())\n",
    "    plt.show()\n",
    "    \n",
    "def display_loss_plot(gen_loss, disc_loss):\n",
    "    plt.plot(range(len(gen_loss)), gen_loss, label='Generator loss')\n",
    "    plt.plot(range(len(disc_loss)), disc_loss, label='Critic loss')\n",
    "    plt.legend()\n",
    "    plt.show()"
   ]
  },
  {
   "cell_type": "markdown",
   "id": "e5d13a9a-6aa2-4692-8b87-f5a2f64e86d5",
   "metadata": {
    "id": "e5d13a9a-6aa2-4692-8b87-f5a2f64e86d5",
    "tags": []
   },
   "source": [
    "# Generator"
   ]
  },
  {
   "cell_type": "code",
   "execution_count": 3,
   "id": "7e9b2379-fc88-4ce8-91c7-be5dce03c7f1",
   "metadata": {
    "id": "7e9b2379-fc88-4ce8-91c7-be5dce03c7f1"
   },
   "outputs": [],
   "source": [
    "class Generator(nn.Module):\n",
    "    def __init__(self, z_chan=10, n_classes=10, img_chan=1, h_chan=64, device='cpu'):\n",
    "        super(Generator, self).__init__()\n",
    "        \n",
    "        self.device = device\n",
    "        self.z_chan = z_chan\n",
    "        self.n_classes = n_classes\n",
    "        self.inp_chan = z_chan + n_classes\n",
    "\n",
    "        self.gen = nn.Sequential(\n",
    "            self.layer(self.inp_chan, h_chan*4),\n",
    "            self.layer(h_chan*4, h_chan*2, kernel_size=4, stride=1),\n",
    "            self.layer(h_chan*2, h_chan),\n",
    "            self.layer(h_chan, img_chan, kernel_size=4, last_layer=True)\n",
    "        )\n",
    "\n",
    "    def layer(self, in_chan, out_chan, kernel_size=3, stride=2, last_layer=False):\n",
    "        if not last_layer:\n",
    "            return nn.Sequential(\n",
    "                nn.ConvTranspose2d(in_chan, out_chan, kernel_size, stride),\n",
    "                nn.BatchNorm2d(out_chan),\n",
    "                nn.ReLU(),\n",
    "            )\n",
    "        return nn.Sequential(\n",
    "            nn.ConvTranspose2d(in_chan, out_chan, kernel_size, stride),\n",
    "            nn.Tanh(),\n",
    "        )\n",
    "\n",
    "    def forward(self, inp):\n",
    "        inp = inp.view(len(inp), self.inp_chan, 1, 1)\n",
    "        return self.gen(inp)\n",
    "\n",
    "    def get_imgs(self, labels):\n",
    "        noise = self.get_noise(len(labels))\n",
    "        inp = self.add_labels_to_noise(noise, labels)\n",
    "        return self(inp)\n",
    "\n",
    "    def add_labels_to_noise(self, noise, labels):\n",
    "        enc_labels = nn.functional.one_hot(labels, self.n_classes).type(torch.float)\n",
    "        return torch.cat((noise, enc_labels), dim=1)\n",
    "\n",
    "    def get_noise(self, n_samples):\n",
    "        return torch.randn(n_samples, self.z_chan, device=self.device)"
   ]
  },
  {
   "cell_type": "markdown",
   "id": "4e4d5551-7722-46d9-9fe5-56fa3a10ded3",
   "metadata": {
    "id": "4e4d5551-7722-46d9-9fe5-56fa3a10ded3"
   },
   "source": [
    "# Discriminator"
   ]
  },
  {
   "cell_type": "code",
   "execution_count": 4,
   "id": "d92d00a9-e42f-40ef-8ec9-fa9ffaaf7710",
   "metadata": {
    "id": "d92d00a9-e42f-40ef-8ec9-fa9ffaaf7710"
   },
   "outputs": [],
   "source": [
    "class Discriminator(nn.Module):\n",
    "    def __init__(self, img_chan=1, n_classes=10, h_chan=16, device='cpu'):\n",
    "        super(Discriminator, self).__init__()\n",
    "\n",
    "        self.device = device\n",
    "        self.n_classes = n_classes\n",
    "        self.inp_chan = img_chan + n_classes\n",
    "\n",
    "        self.disc = nn.Sequential(\n",
    "            self.layer(self.inp_chan, h_chan),\n",
    "            self.layer(h_chan, h_chan*2),\n",
    "            self.layer(h_chan*2, 1, last_layer=True),\n",
    "        )\n",
    "\n",
    "    def layer(self, in_chan, out_chan, kernel_size=4, stride=2, last_layer=False):\n",
    "        if not last_layer:\n",
    "            return nn.Sequential(\n",
    "                nn.Conv2d(in_chan, out_chan, kernel_size, stride),\n",
    "                nn.BatchNorm2d(out_chan),\n",
    "                nn.LeakyReLU(negative_slope=0.2),\n",
    "            )\n",
    "        return nn.Sequential(\n",
    "            nn.Conv2d(in_chan, out_chan, kernel_size, stride),\n",
    "        )\n",
    "\n",
    "    def forward(self, inp):\n",
    "        pred = self.disc(inp)\n",
    "        return pred.view(len(pred), -1)\n",
    "    \n",
    "    def add_labels_to_imgs(self, imgs, labels):\n",
    "        enc_labels = nn.functional.one_hot(labels, self.n_classes).type(torch.float)\n",
    "        enc_labels = enc_labels[:, :, None, None]                             # Increasing dim to 4D\n",
    "        enc_labels = enc_labels.repeat(1, 1, imgs.shape[2], imgs.shape[3])    # Making encoding as img channel\n",
    "        \n",
    "        inp = torch.cat((imgs, enc_labels), dim=1)\n",
    "        return inp"
   ]
  },
  {
   "cell_type": "markdown",
   "id": "98203973-070e-44c6-a83d-86d4a9bec902",
   "metadata": {
    "id": "98203973-070e-44c6-a83d-86d4a9bec902"
   },
   "source": [
    "# Data Loading & Initialization"
   ]
  },
  {
   "cell_type": "code",
   "execution_count": 5,
   "id": "2aaeac85-b43d-40e4-9b49-5e86d19fe2e7",
   "metadata": {
    "id": "2aaeac85-b43d-40e4-9b49-5e86d19fe2e7"
   },
   "outputs": [],
   "source": [
    "Z_DIM=64\n",
    "BATCH_SIZE=128\n",
    "BETAS=(0.5, 0.999)\n",
    "LR=0.0002\n",
    "N_EPOCHS=100\n",
    "DISPLAY_STEP=5\n",
    "DEVICE='cpu'"
   ]
  },
  {
   "cell_type": "code",
   "execution_count": 6,
   "id": "ce7d8566-4a8c-42fc-89c3-fbedd98ffe08",
   "metadata": {
    "id": "ce7d8566-4a8c-42fc-89c3-fbedd98ffe08"
   },
   "outputs": [],
   "source": [
    "transform = transforms.Compose([\n",
    "    transforms.ToTensor(),\n",
    "    transforms.Normalize((0.5,), (0.5,)),\n",
    "])\n",
    "\n",
    "dataloader = DataLoader(\n",
    "    MNIST('.', download=True, transform=transform),\n",
    "    batch_size=BATCH_SIZE,\n",
    "    shuffle=True\n",
    ")"
   ]
  },
  {
   "cell_type": "code",
   "execution_count": 7,
   "id": "aa9312ab-3f98-4bf8-8814-900c2f0f20ea",
   "metadata": {
    "id": "aa9312ab-3f98-4bf8-8814-900c2f0f20ea"
   },
   "outputs": [],
   "source": [
    "criterion = nn.BCEWithLogitsLoss()\n",
    "\n",
    "gen = Generator(Z_DIM, device=DEVICE).to(DEVICE)\n",
    "disc = Discriminator(device=DEVICE).to(DEVICE)\n",
    "gen_opt = torch.optim.Adam(gen.parameters(), lr=LR, betas=BETAS)\n",
    "disc_opt = torch.optim.Adam(disc.parameters(), lr=LR, betas=BETAS)\n",
    "\n",
    "def weights_init(m):\n",
    "    if isinstance(m, nn.Conv2d) or isinstance(m, nn.ConvTranspose2d):\n",
    "        torch.nn.init.normal_(m.weight, 0.0, 0.02)\n",
    "    if isinstance(m, nn.BatchNorm2d):\n",
    "        torch.nn.init.normal_(m.weight, 0.0, 0.02)\n",
    "        torch.nn.init.constant_(m.bias, 0)\n",
    "\n",
    "gen = gen.apply(weights_init)\n",
    "disc = disc.apply(weights_init)"
   ]
  },
  {
   "cell_type": "markdown",
   "id": "8318a6ec-0964-4ba6-9a72-5f9c7ad13e23",
   "metadata": {
    "id": "8318a6ec-0964-4ba6-9a72-5f9c7ad13e23",
    "tags": []
   },
   "source": [
    "# Training"
   ]
  },
  {
   "cell_type": "code",
   "execution_count": 8,
   "id": "5d1504c3-be58-4154-867e-f06aec4ee5df",
   "metadata": {},
   "outputs": [],
   "source": [
    "gen_losses = []\n",
    "disc_losses = []"
   ]
  },
  {
   "cell_type": "code",
   "execution_count": 9,
   "id": "045c7725-dc45-4b4a-9e54-a6b4a547ff7f",
   "metadata": {
    "colab": {
     "base_uri": "https://localhost:8080/",
     "height": 1000,
     "referenced_widgets": [
      "05a308d0c24b483bb74fee23716bfe36",
      "eacd355250d84a10b3f5dfdba5bfa4d4",
      "60e80966c2184d578424e404428db07a",
      "4ce23bdd7e5045788dde9a53ee32e004",
      "ecb3c7ac91cc400397e3062c83f2f085",
      "30ba0d9e42324c13bcb2ed74156088ce",
      "21cf2f40cfc2439890bf7f8dbec498e2",
      "82802244f54744dd8848a6ba905c40d5",
      "757483441f784be4b9673e4fb0fb834a",
      "0c10fe5e4a9f4247beee37df752875c9",
      "d4a78e18b61649e0a75b4a3832d7d4f8"
     ]
    },
    "id": "045c7725-dc45-4b4a-9e54-a6b4a547ff7f",
    "outputId": "2352bb1e-bbca-44e0-8928-9f90bcf8807b"
   },
   "outputs": [],
   "source": [
    "def train(dataloader, n_epochs, display_step):\n",
    "    tqdm_obj = tqdm(range(1, n_epochs+1))\n",
    "    no_of_batches = len(dataloader)\n",
    "\n",
    "    for epoch in tqdm_obj:\n",
    "        for i, (real_imgs, labels) in enumerate(dataloader, 0):\n",
    "            tqdm_obj.set_postfix({ 'Batch': f'{i}/{no_of_batches}' })\n",
    "            real_imgs = real_imgs.to(DEVICE)\n",
    "            labels = labels.to(DEVICE)\n",
    "            cur_batch_size = len(real_imgs)\n",
    "\n",
    "            # Discriminator training\n",
    "            disc_opt.zero_grad()\n",
    "            # Forward pass\n",
    "            fake_imgs = gen.get_imgs(labels)\n",
    "            fake_pred = disc(disc.add_labels_to_imgs(fake_imgs.detach(), labels))\n",
    "            real_pred = disc(disc.add_labels_to_imgs(real_imgs, labels))\n",
    "            fake_loss = criterion(fake_pred, torch.zeros_like(fake_pred))\n",
    "            real_loss = criterion(real_pred, torch.ones_like(real_pred))\n",
    "            disc_loss = (fake_loss + real_loss) / 2\n",
    "            # Backward pass\n",
    "            disc_loss.backward(retain_graph=True)\n",
    "            disc_opt.step()\n",
    "            disc_losses.append(disc_loss.cpu().detach().numpy())\n",
    "\n",
    "            # Generator training\n",
    "            gen_opt.zero_grad()\n",
    "            # Forward pass\n",
    "            fake_imgs = gen.get_imgs(labels)\n",
    "            pred = disc(disc.add_labels_to_imgs(fake_imgs, labels))\n",
    "            gen_loss = criterion(pred, torch.ones_like(pred))\n",
    "            # Backward pass\n",
    "            gen_loss.backward()\n",
    "            gen_opt.step()\n",
    "            gen_losses.append(gen_loss.cpu().detach().numpy())\n",
    "\n",
    "        if epoch % display_step == 0:\n",
    "            print(f'After {epoch} epochs')\n",
    "            display_loss_plot(gen_losses, disc_losses)\n",
    "            display_gen_pred(gen.get_imgs(labels))"
   ]
  },
  {
   "cell_type": "code",
   "execution_count": null,
   "id": "ff8b1dc3-3478-4a56-b83b-6b13daa9fa7f",
   "metadata": {},
   "outputs": [],
   "source": [
    "train(dataloader, N_EPOCHS, DISPLAY_STEP)"
   ]
  },
  {
   "cell_type": "markdown",
   "id": "518d3433-5602-48ed-9311-484428839bc5",
   "metadata": {},
   "source": [
    "# Testing"
   ]
  },
  {
   "cell_type": "code",
   "execution_count": null,
   "id": "bad4fc68-c669-484a-8123-9235255a2b8c",
   "metadata": {},
   "outputs": [],
   "source": [
    "gen = gen.eval()\n",
    "with torch.no_grad():\n",
    "    imgs = gen.get_imgs(torch.Tensor([1,2,3,4,5,6,7,8,9]).type(torch.int64).to(DEVICE))\n",
    "    display_gen_pred(imgs)"
   ]
  }
 ],
 "metadata": {
  "accelerator": "GPU",
  "colab": {
   "collapsed_sections": [],
   "name": "02. My first GAN.ipynb",
   "provenance": []
  },
  "gpuClass": "standard",
  "kernelspec": {
   "display_name": "Python 3 (ipykernel)",
   "language": "python",
   "name": "python3"
  },
  "language_info": {
   "codemirror_mode": {
    "name": "ipython",
    "version": 3
   },
   "file_extension": ".py",
   "mimetype": "text/x-python",
   "name": "python",
   "nbconvert_exporter": "python",
   "pygments_lexer": "ipython3",
   "version": "3.10.0"
  },
  "widgets": {
   "application/vnd.jupyter.widget-state+json": {
    "05a308d0c24b483bb74fee23716bfe36": {
     "model_module": "@jupyter-widgets/controls",
     "model_module_version": "1.5.0",
     "model_name": "HBoxModel",
     "state": {
      "_dom_classes": [],
      "_model_module": "@jupyter-widgets/controls",
      "_model_module_version": "1.5.0",
      "_model_name": "HBoxModel",
      "_view_count": null,
      "_view_module": "@jupyter-widgets/controls",
      "_view_module_version": "1.5.0",
      "_view_name": "HBoxView",
      "box_style": "",
      "children": [
       "IPY_MODEL_eacd355250d84a10b3f5dfdba5bfa4d4",
       "IPY_MODEL_60e80966c2184d578424e404428db07a",
       "IPY_MODEL_4ce23bdd7e5045788dde9a53ee32e004"
      ],
      "layout": "IPY_MODEL_ecb3c7ac91cc400397e3062c83f2f085"
     }
    },
    "0c10fe5e4a9f4247beee37df752875c9": {
     "model_module": "@jupyter-widgets/base",
     "model_module_version": "1.2.0",
     "model_name": "LayoutModel",
     "state": {
      "_model_module": "@jupyter-widgets/base",
      "_model_module_version": "1.2.0",
      "_model_name": "LayoutModel",
      "_view_count": null,
      "_view_module": "@jupyter-widgets/base",
      "_view_module_version": "1.2.0",
      "_view_name": "LayoutView",
      "align_content": null,
      "align_items": null,
      "align_self": null,
      "border": null,
      "bottom": null,
      "display": null,
      "flex": null,
      "flex_flow": null,
      "grid_area": null,
      "grid_auto_columns": null,
      "grid_auto_flow": null,
      "grid_auto_rows": null,
      "grid_column": null,
      "grid_gap": null,
      "grid_row": null,
      "grid_template_areas": null,
      "grid_template_columns": null,
      "grid_template_rows": null,
      "height": null,
      "justify_content": null,
      "justify_items": null,
      "left": null,
      "margin": null,
      "max_height": null,
      "max_width": null,
      "min_height": null,
      "min_width": null,
      "object_fit": null,
      "object_position": null,
      "order": null,
      "overflow": null,
      "overflow_x": null,
      "overflow_y": null,
      "padding": null,
      "right": null,
      "top": null,
      "visibility": null,
      "width": null
     }
    },
    "21cf2f40cfc2439890bf7f8dbec498e2": {
     "model_module": "@jupyter-widgets/controls",
     "model_module_version": "1.5.0",
     "model_name": "DescriptionStyleModel",
     "state": {
      "_model_module": "@jupyter-widgets/controls",
      "_model_module_version": "1.5.0",
      "_model_name": "DescriptionStyleModel",
      "_view_count": null,
      "_view_module": "@jupyter-widgets/base",
      "_view_module_version": "1.2.0",
      "_view_name": "StyleView",
      "description_width": ""
     }
    },
    "30ba0d9e42324c13bcb2ed74156088ce": {
     "model_module": "@jupyter-widgets/base",
     "model_module_version": "1.2.0",
     "model_name": "LayoutModel",
     "state": {
      "_model_module": "@jupyter-widgets/base",
      "_model_module_version": "1.2.0",
      "_model_name": "LayoutModel",
      "_view_count": null,
      "_view_module": "@jupyter-widgets/base",
      "_view_module_version": "1.2.0",
      "_view_name": "LayoutView",
      "align_content": null,
      "align_items": null,
      "align_self": null,
      "border": null,
      "bottom": null,
      "display": null,
      "flex": null,
      "flex_flow": null,
      "grid_area": null,
      "grid_auto_columns": null,
      "grid_auto_flow": null,
      "grid_auto_rows": null,
      "grid_column": null,
      "grid_gap": null,
      "grid_row": null,
      "grid_template_areas": null,
      "grid_template_columns": null,
      "grid_template_rows": null,
      "height": null,
      "justify_content": null,
      "justify_items": null,
      "left": null,
      "margin": null,
      "max_height": null,
      "max_width": null,
      "min_height": null,
      "min_width": null,
      "object_fit": null,
      "object_position": null,
      "order": null,
      "overflow": null,
      "overflow_x": null,
      "overflow_y": null,
      "padding": null,
      "right": null,
      "top": null,
      "visibility": null,
      "width": null
     }
    },
    "4ce23bdd7e5045788dde9a53ee32e004": {
     "model_module": "@jupyter-widgets/controls",
     "model_module_version": "1.5.0",
     "model_name": "HTMLModel",
     "state": {
      "_dom_classes": [],
      "_model_module": "@jupyter-widgets/controls",
      "_model_module_version": "1.5.0",
      "_model_name": "HTMLModel",
      "_view_count": null,
      "_view_module": "@jupyter-widgets/controls",
      "_view_module_version": "1.5.0",
      "_view_name": "HTMLView",
      "description": "",
      "description_tooltip": null,
      "layout": "IPY_MODEL_0c10fe5e4a9f4247beee37df752875c9",
      "placeholder": "​",
      "style": "IPY_MODEL_d4a78e18b61649e0a75b4a3832d7d4f8",
      "value": " 50/50 [13:22&lt;00:00, 16.10s/it, Batch=468/469]"
     }
    },
    "60e80966c2184d578424e404428db07a": {
     "model_module": "@jupyter-widgets/controls",
     "model_module_version": "1.5.0",
     "model_name": "FloatProgressModel",
     "state": {
      "_dom_classes": [],
      "_model_module": "@jupyter-widgets/controls",
      "_model_module_version": "1.5.0",
      "_model_name": "FloatProgressModel",
      "_view_count": null,
      "_view_module": "@jupyter-widgets/controls",
      "_view_module_version": "1.5.0",
      "_view_name": "ProgressView",
      "bar_style": "success",
      "description": "",
      "description_tooltip": null,
      "layout": "IPY_MODEL_82802244f54744dd8848a6ba905c40d5",
      "max": 50,
      "min": 0,
      "orientation": "horizontal",
      "style": "IPY_MODEL_757483441f784be4b9673e4fb0fb834a",
      "value": 50
     }
    },
    "757483441f784be4b9673e4fb0fb834a": {
     "model_module": "@jupyter-widgets/controls",
     "model_module_version": "1.5.0",
     "model_name": "ProgressStyleModel",
     "state": {
      "_model_module": "@jupyter-widgets/controls",
      "_model_module_version": "1.5.0",
      "_model_name": "ProgressStyleModel",
      "_view_count": null,
      "_view_module": "@jupyter-widgets/base",
      "_view_module_version": "1.2.0",
      "_view_name": "StyleView",
      "bar_color": null,
      "description_width": ""
     }
    },
    "82802244f54744dd8848a6ba905c40d5": {
     "model_module": "@jupyter-widgets/base",
     "model_module_version": "1.2.0",
     "model_name": "LayoutModel",
     "state": {
      "_model_module": "@jupyter-widgets/base",
      "_model_module_version": "1.2.0",
      "_model_name": "LayoutModel",
      "_view_count": null,
      "_view_module": "@jupyter-widgets/base",
      "_view_module_version": "1.2.0",
      "_view_name": "LayoutView",
      "align_content": null,
      "align_items": null,
      "align_self": null,
      "border": null,
      "bottom": null,
      "display": null,
      "flex": null,
      "flex_flow": null,
      "grid_area": null,
      "grid_auto_columns": null,
      "grid_auto_flow": null,
      "grid_auto_rows": null,
      "grid_column": null,
      "grid_gap": null,
      "grid_row": null,
      "grid_template_areas": null,
      "grid_template_columns": null,
      "grid_template_rows": null,
      "height": null,
      "justify_content": null,
      "justify_items": null,
      "left": null,
      "margin": null,
      "max_height": null,
      "max_width": null,
      "min_height": null,
      "min_width": null,
      "object_fit": null,
      "object_position": null,
      "order": null,
      "overflow": null,
      "overflow_x": null,
      "overflow_y": null,
      "padding": null,
      "right": null,
      "top": null,
      "visibility": null,
      "width": null
     }
    },
    "d4a78e18b61649e0a75b4a3832d7d4f8": {
     "model_module": "@jupyter-widgets/controls",
     "model_module_version": "1.5.0",
     "model_name": "DescriptionStyleModel",
     "state": {
      "_model_module": "@jupyter-widgets/controls",
      "_model_module_version": "1.5.0",
      "_model_name": "DescriptionStyleModel",
      "_view_count": null,
      "_view_module": "@jupyter-widgets/base",
      "_view_module_version": "1.2.0",
      "_view_name": "StyleView",
      "description_width": ""
     }
    },
    "eacd355250d84a10b3f5dfdba5bfa4d4": {
     "model_module": "@jupyter-widgets/controls",
     "model_module_version": "1.5.0",
     "model_name": "HTMLModel",
     "state": {
      "_dom_classes": [],
      "_model_module": "@jupyter-widgets/controls",
      "_model_module_version": "1.5.0",
      "_model_name": "HTMLModel",
      "_view_count": null,
      "_view_module": "@jupyter-widgets/controls",
      "_view_module_version": "1.5.0",
      "_view_name": "HTMLView",
      "description": "",
      "description_tooltip": null,
      "layout": "IPY_MODEL_30ba0d9e42324c13bcb2ed74156088ce",
      "placeholder": "​",
      "style": "IPY_MODEL_21cf2f40cfc2439890bf7f8dbec498e2",
      "value": "100%"
     }
    },
    "ecb3c7ac91cc400397e3062c83f2f085": {
     "model_module": "@jupyter-widgets/base",
     "model_module_version": "1.2.0",
     "model_name": "LayoutModel",
     "state": {
      "_model_module": "@jupyter-widgets/base",
      "_model_module_version": "1.2.0",
      "_model_name": "LayoutModel",
      "_view_count": null,
      "_view_module": "@jupyter-widgets/base",
      "_view_module_version": "1.2.0",
      "_view_name": "LayoutView",
      "align_content": null,
      "align_items": null,
      "align_self": null,
      "border": null,
      "bottom": null,
      "display": null,
      "flex": null,
      "flex_flow": null,
      "grid_area": null,
      "grid_auto_columns": null,
      "grid_auto_flow": null,
      "grid_auto_rows": null,
      "grid_column": null,
      "grid_gap": null,
      "grid_row": null,
      "grid_template_areas": null,
      "grid_template_columns": null,
      "grid_template_rows": null,
      "height": null,
      "justify_content": null,
      "justify_items": null,
      "left": null,
      "margin": null,
      "max_height": null,
      "max_width": null,
      "min_height": null,
      "min_width": null,
      "object_fit": null,
      "object_position": null,
      "order": null,
      "overflow": null,
      "overflow_x": null,
      "overflow_y": null,
      "padding": null,
      "right": null,
      "top": null,
      "visibility": null,
      "width": null
     }
    }
   }
  }
 },
 "nbformat": 4,
 "nbformat_minor": 5
}
