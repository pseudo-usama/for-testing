{
 "cells": [
  {
   "cell_type": "code",
   "execution_count": 1,
   "metadata": {},
   "outputs": [],
   "source": [
    "from tensorflow.python.client import device_lib\n",
    "import tensorflow as tf"
   ]
  },
  {
   "cell_type": "code",
   "execution_count": 2,
   "metadata": {},
   "outputs": [
    {
     "data": {
      "text/plain": [
       "[name: \"/device:CPU:0\"\n",
       " device_type: \"CPU\"\n",
       " memory_limit: 268435456\n",
       " locality {\n",
       " }\n",
       " incarnation: 16372208312247535792,\n",
       " name: \"/device:DML:0\"\n",
       " device_type: \"DML\"\n",
       " memory_limit: 1581629236\n",
       " locality {\n",
       " }\n",
       " incarnation: 17411343007249917137\n",
       " physical_device_desc: \"{\\\"name\\\": \\\"AMD Radeon R5 M435\\\", \\\"vendor_id\\\": 4098, \\\"device_id\\\": 26213, \\\"driver_version\\\": \\\"27.20.1034.6\\\"}\",\n",
       " name: \"/device:DML:1\"\n",
       " device_type: \"DML\"\n",
       " memory_limit: 1633134184\n",
       " locality {\n",
       " }\n",
       " incarnation: 3078400403385610200\n",
       " physical_device_desc: \"{\\\"name\\\": \\\"Intel(R) UHD Graphics 620\\\", \\\"vendor_id\\\": 32902, \\\"device_id\\\": 22807, \\\"driver_version\\\": \\\"26.20.100.7263\\\"}\"]"
      ]
     },
     "execution_count": 2,
     "metadata": {},
     "output_type": "execute_result"
    }
   ],
   "source": [
    "device_lib.list_local_devices()"
   ]
  },
  {
   "cell_type": "code",
   "execution_count": 7,
   "metadata": {},
   "outputs": [
    {
     "data": {
      "text/plain": [
       "<field property 'tensorflow.GPUOptions.visible_device_list'>"
      ]
     },
     "execution_count": 7,
     "metadata": {},
     "output_type": "execute_result"
    }
   ],
   "source": [
    "tf.GPUOptions.visible_device_list"
   ]
  }
 ],
 "metadata": {
  "kernelspec": {
   "display_name": "Python 3 (ipykernel)",
   "language": "python",
   "name": "python3"
  },
  "language_info": {
   "codemirror_mode": {
    "name": "ipython",
    "version": 3
   },
   "file_extension": ".py",
   "mimetype": "text/x-python",
   "name": "python",
   "nbconvert_exporter": "python",
   "pygments_lexer": "ipython3",
   "version": "3.10.0"
  }
 },
 "nbformat": 4,
 "nbformat_minor": 4
}
