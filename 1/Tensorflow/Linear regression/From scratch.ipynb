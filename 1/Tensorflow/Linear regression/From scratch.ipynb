{
 "cells": [
  {
   "cell_type": "code",
   "execution_count": 1,
   "metadata": {},
   "outputs": [],
   "source": [
    "import tensorflow as tf\n",
    "from tensorflow import keras\n",
    "\n",
    "import pandas as pd\n",
    "import numpy as np\n",
    "\n",
    "from sklearn.model_selection import train_test_split\n",
    "from matplotlib import pyplot as plt"
   ]
  },
  {
   "cell_type": "code",
   "execution_count": 2,
   "metadata": {},
   "outputs": [],
   "source": [
    "df = pd.read_csv('preprocessed.csv')"
   ]
  },
  {
   "cell_type": "markdown",
   "metadata": {},
   "source": [
    "# Train Test split"
   ]
  },
  {
   "cell_type": "code",
   "execution_count": 3,
   "metadata": {},
   "outputs": [],
   "source": [
    "X, y = df.loc[:, df.columns != 'price'], df['price']"
   ]
  },
  {
   "cell_type": "code",
   "execution_count": 4,
   "metadata": {},
   "outputs": [],
   "source": [
    "XTrain, XTest, yTrain, yTest = train_test_split(X, y, test_size=0.75, random_state=1)\n",
    "\n",
    "XTrain, XTest = tf.convert_to_tensor(XTrain, dtype=tf.float64), tf.convert_to_tensor(XTest, dtype=tf.float64)\n",
    "yTrain, yTest = tf.convert_to_tensor(yTrain, dtype=tf.float64), tf.convert_to_tensor(yTest, dtype=tf.float64)"
   ]
  },
  {
   "cell_type": "markdown",
   "metadata": {},
   "source": [
    "# Model"
   ]
  },
  {
   "cell_type": "code",
   "execution_count": 5,
   "metadata": {},
   "outputs": [],
   "source": [
    "class LinearRegression:\n",
    "    def __init__(self, nFeatures, learningRate=1e-4):\n",
    "        self.nFeatures = nFeatures\n",
    "        self.learningRate = learningRate\n",
    "\n",
    "        self.bias = tf.Variable(np.random.rand(), dtype=tf.float64)\n",
    "        self.biasBackup = self.bias\n",
    "        self.weights = tf.Variable(np.random.rand(nFeatures), dtype=tf.float64)\n",
    "        self.weightsBackup = self.weights\n",
    "\n",
    "    def predict(self, x):\n",
    "        return tf.reduce_sum(self.weights*x, 1) + self.bias\n",
    "\n",
    "    def loss(self, target, predicted):\n",
    "        return tf.reduce_mean(tf.square(target - predicted))\n",
    "\n",
    "    def update(self, x, target):\n",
    "        with tf.GradientTape(persistent=True) as tape:\n",
    "            loss = self.loss(target, self.predict(x))\n",
    "\n",
    "        self.biasBackup = self.bias\n",
    "        dy_db = tape.gradient(loss, self.bias)\n",
    "        self.bias.assign_sub(dy_db*self.learningRate)\n",
    "\n",
    "        self.weightsBackup = self.weights\n",
    "        dy_dw = tape.gradient(loss, self.weights)\n",
    "        self.weights.assign_sub(dy_dw*self.learningRate)\n",
    "\n",
    "        return loss.numpy()\n",
    "\n",
    "\n",
    "    def train(self, x, target, epochs):\n",
    "        lossHistory = []\n",
    "        for ithEpoch in range(epochs):\n",
    "            lossHistory.append(self.update(x, target))\n",
    "\n",
    "        return lossHistory"
   ]
  },
  {
   "cell_type": "markdown",
   "metadata": {},
   "source": [
    "# Training"
   ]
  },
  {
   "cell_type": "code",
   "execution_count": 6,
   "metadata": {},
   "outputs": [],
   "source": [
    "model = LinearRegression(XTrain.shape[-1])"
   ]
  },
  {
   "cell_type": "code",
   "execution_count": 7,
   "metadata": {},
   "outputs": [],
   "source": [
    "lossHistory = model.train(XTrain, yTrain, 200)"
   ]
  },
  {
   "cell_type": "markdown",
   "metadata": {},
   "source": [
    "# Plotting loss history"
   ]
  },
  {
   "cell_type": "code",
   "execution_count": 13,
   "metadata": {},
   "outputs": [
    {
     "data": {
      "text/plain": [
       "Text(0.5, 1.0, 'last loss: 13337915.396355808')"
      ]
     },
     "execution_count": 13,
     "metadata": {},
     "output_type": "execute_result"
    },
    {
     "data": {
      "image/png": "[encoded data removed]",
      "text/plain": [
       "<Figure size 432x288 with 1 Axes>"
      ]
     },
     "metadata": {
      "needs_background": "light"
     },
     "output_type": "display_data"
    }
   ],
   "source": [
    "plt.plot(range(len(lossHistory)), lossHistory)\n",
    "plt.title(f'last loss: {lossHistory[-1]}')"
   ]
  }
 ],
 "metadata": {
  "kernelspec": {
   "display_name": "Python 3 (ipykernel)",
   "language": "python",
   "name": "python3"
  },
  "language_info": {
   "codemirror_mode": {
    "name": "ipython",
    "version": 3
   },
   "file_extension": ".py",
   "mimetype": "text/x-python",
   "name": "python",
   "nbconvert_exporter": "python",
   "pygments_lexer": "ipython3",
   "version": "3.10.0"
  }
 },
 "nbformat": 4,
 "nbformat_minor": 4
}
