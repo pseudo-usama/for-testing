{
 "cells": [
  {
   "cell_type": "code",
   "execution_count": 102,
   "metadata": {},
   "outputs": [],
   "source": [
    "import tensorflow as tf\n",
    "from tensorflow import keras\n",
    "from tensorflow.keras.datasets import boston_housing\n",
    "\n",
    "import numpy as np\n",
    "\n",
    "from matplotlib import pyplot as plt"
   ]
  },
  {
   "cell_type": "markdown",
   "metadata": {},
   "source": [
    "# Loading data"
   ]
  },
  {
   "cell_type": "code",
   "execution_count": 7,
   "metadata": {},
   "outputs": [],
   "source": [
    "(xTrain, yTrain), (xTest, yTest) = boston_housing.load_data()"
   ]
  },
  {
   "cell_type": "markdown",
   "metadata": {},
   "source": [
    "# Model"
   ]
  },
  {
   "cell_type": "code",
   "execution_count": 99,
   "metadata": {},
   "outputs": [],
   "source": [
    "class LinearRegression:\n",
    "    def __init__(self, nFeatures, learningRate=1e-2):\n",
    "        self.nFeatures = nFeatures\n",
    "        self.learningRate = learningRate\n",
    "\n",
    "        self.weights = tf.Variable(np.random.rand(nFeatures), dtype=tf.float64)\n",
    "        self.bias = tf.Variable(np.random.rand(), dtype=tf.float64)\n",
    "        \n",
    "        self.lossHistory = []\n",
    "\n",
    "    def predict(self, x):\n",
    "        return tf.reduce_sum(self.weights*x, 1) + self.bias\n",
    "\n",
    "    def lossFunction(self, x, targets):\n",
    "        predicted = self.predict(x)\n",
    "\n",
    "        return keras.losses.mse(targets, predicted)\n",
    "    \n",
    "    def update(self, x, target):\n",
    "        loss = self.lossFunction(x, target)\n",
    "        self.lossHistory.append(loss.numpy())\n",
    "        return loss\n",
    "\n",
    "    def train(self, x, target, epochs):\n",
    "        self.opt = keras.optimizers.Adam()\n",
    "\n",
    "        for _ in range(epochs):\n",
    "            self.opt.minimize(lambda: self.update(x, target), var_list=[self.weights, self.bias])"
   ]
  },
  {
   "cell_type": "markdown",
   "metadata": {},
   "source": [
    "# Training"
   ]
  },
  {
   "cell_type": "code",
   "execution_count": 114,
   "metadata": {},
   "outputs": [],
   "source": [
    "model = LinearRegression(xTrain.shape[-1])"
   ]
  },
  {
   "cell_type": "code",
   "execution_count": 123,
   "metadata": {},
   "outputs": [],
   "source": [
    "model.train(xTrain, yTrain, 1000)"
   ]
  },
  {
   "cell_type": "code",
   "execution_count": 124,
   "metadata": {},
   "outputs": [
    {
     "data": {
      "text/plain": [
       "Text(0.5, 1.0, 'Last loss: 38.42103361848315')"
      ]
     },
     "execution_count": 124,
     "metadata": {},
     "output_type": "execute_result"
    },
    {
     "data": {
      "image/png": "[encoded data removed]",
      "text/plain": [
       "<Figure size 432x288 with 1 Axes>"
      ]
     },
     "metadata": {
      "needs_background": "light"
     },
     "output_type": "display_data"
    }
   ],
   "source": [
    "plt.plot(range(len(model.lossHistory)), model.lossHistory)\n",
    "plt.title(f'Last loss: {model.lossHistory[-1]}')"
   ]
  }
 ],
 "metadata": {
  "kernelspec": {
   "display_name": "Python 3 (ipykernel)",
   "language": "python",
   "name": "python3"
  },
  "language_info": {
   "codemirror_mode": {
    "name": "ipython",
    "version": 3
   },
   "file_extension": ".py",
   "mimetype": "text/x-python",
   "name": "python",
   "nbconvert_exporter": "python",
   "pygments_lexer": "ipython3",
   "version": "3.10.0"
  }
 },
 "nbformat": 4,
 "nbformat_minor": 4
}
