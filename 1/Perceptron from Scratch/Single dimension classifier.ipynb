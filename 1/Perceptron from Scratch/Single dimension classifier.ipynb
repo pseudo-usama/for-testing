{
 "cells": [
  {
   "cell_type": "markdown",
   "metadata": {},
   "source": [
    "# Imports"
   ]
  },
  {
   "cell_type": "code",
   "execution_count": 1,
   "metadata": {
    "tags": []
   },
   "outputs": [],
   "source": [
    "import numpy as np\n",
    "from sklearn.model_selection import train_test_split\n",
    "from matplotlib import pyplot as plt\n",
    "from mpl_toolkits.mplot3d import Axes3D\n",
    "from sympy import *\n",
    "from sympy.parsing.sympy_parser import parse_expr\n",
    "\n",
    "from wolframclient.evaluation import WolframLanguageSession\n",
    "from wolframclient.language import wl, wlexpr"
   ]
  },
  {
   "cell_type": "markdown",
   "metadata": {
    "tags": []
   },
   "source": [
    "# Some constents"
   ]
  },
  {
   "cell_type": "code",
   "execution_count": 2,
   "metadata": {
    "tags": []
   },
   "outputs": [],
   "source": [
    "BOUNDARY_POINT = 5\n",
    "BOUNDARY_POINT_MARGINE = 20\n",
    "POINTS_RANGE = (-2000, 2000)\n",
    "TOTAL_POINTS = 1000\n",
    "\n",
    "TEST_RATIO = 0.3\n",
    "EPOCHS = 2\n",
    "LEARNING_RATE = 0.00001\n",
    "\n",
    "CLASS_A_CLR = 'red'\n",
    "CLASS_B_CLR = 'blue'"
   ]
  },
  {
   "cell_type": "markdown",
   "metadata": {
    "tags": []
   },
   "source": [
    "# Perceptron class"
   ]
  },
  {
   "cell_type": "code",
   "execution_count": 18,
   "metadata": {
    "tags": []
   },
   "outputs": [],
   "source": [
    "class Perceptron:\n",
    "    LEARNING_RATE = 0.01\n",
    "    \n",
    "    def __init__(self, input_size, learning_rate=0.01):\n",
    "        self._input_size = input_size\n",
    "        self.LEARNING_RATE = learning_rate\n",
    "\n",
    "        self._weights = np.random.rand(input_size)\n",
    "        self._bias = np.random.rand()\n",
    "\n",
    "        self._previous_weights = np.array([self._weights])\n",
    "        self._previous_biases = np.array([self._bias])\n",
    "\n",
    "    def predict(self, point):\n",
    "        sum_of_product = (self._weights * point).sum() + self._bias\n",
    "        return self._activation_function(sum_of_product)\n",
    "\n",
    "    def predict_from_array(self, points):\n",
    "        return np.array([self.predict(point) for point in points])\n",
    "    \n",
    "    def fit(self, x, y, epochs=1, mse_history=False):\n",
    "        mse_arr = np.array([])\n",
    "\n",
    "        for epoch in range(epochs):\n",
    "            predicted = self.predict_from_array(x)\n",
    "            self.update_weight_and_bias(x, y, predicted)\n",
    "\n",
    "            mse = self.mean_square_error(predicted, y)\n",
    "            mse_arr = np.append(mse_arr, mse)            \n",
    "\n",
    "        if mse_history:\n",
    "            return mse, mse_arr\n",
    "        return mse\n",
    "\n",
    "    def update_weight_and_bias(self, points, real, predicted):\n",
    "        dw, db = self._calc_slope(points, predicted, real)\n",
    "\n",
    "        self._weights -= dw\n",
    "        self._bias -= db\n",
    "\n",
    "        self._previous_weights = np.append(self._previous_weights, [dw], axis=0)\n",
    "        self._previous_biases = np.append(self._previous_biases, db)\n",
    "\n",
    "    # Calculate the slope/gradient of error function\n",
    "    def _calc_slope(self, points, predicted, real):\n",
    "        sample_size = points.shape[0]\n",
    "        predicted_real_diff = predicted - real\n",
    "        activation_function_derivative = self._activation_function_derivative()\n",
    "\n",
    "        dw = (2/sample_size) * (self.LEARNING_RATE * (predicted_real_diff * activation_function_derivative)[:, None] * points).sum(0)\n",
    "        db = (2/sample_size) * (self.LEARNING_RATE * (predicted_real_diff * activation_function_derivative)).sum(0)\n",
    "#         print((2/sample_size) * (self.LEARNING_RATE * (predicted_real_diff * activation_function_derivative)[:, None] * points).sum(0))\n",
    "        return dw, db\n",
    "\n",
    "    def get_loss_func_equation(self, points, predicted):\n",
    "        n = points.shape[0]\n",
    "\n",
    "        loss_func_str = '+'.join([f'({points[i, 0]}*w+b-{predicted[i]})**2' for i in range(n)])\n",
    "        loss_func_str = f'1/{n}*({loss_func_str})'\n",
    "\n",
    "        loss_func_simplified = simplify(parse_expr(loss_func_str))\n",
    "\n",
    "        w, b = symbols('w b')\n",
    "        loss_func_lambda = lambdify([w, b], loss_func_simplified)\n",
    "        \n",
    "        return loss_func_simplified, loss_func_lambda\n",
    "    \n",
    "    def set_optimum_w_and_b(self, points):\n",
    "#         training_prediction = self.predict_from_array(points)\n",
    "#         loss_func_sympy, loss_func_lambda = model.get_loss_func_equation(points, training_prediction)\n",
    "#         help(loss_func_lambda)\n",
    "        loss_func_sympy = parse_expr('1.0*b**2 + 78.765714285714284*b*w - 42768.590992469627*b + 1362694.0314285714*w**2 - 1479783141.3830811*w + 401733275229.482')\n",
    "        w, b = symbols('w b')\n",
    "\n",
    "        # First we'll find stationary points\n",
    "        dw = diff(loss_func_sympy, w)\n",
    "        db = diff(loss_func_sympy, b)\n",
    "        stationary_points = solve([dw, db], (w, b))\n",
    "\n",
    "        self._weights = np.array([stationary_points[w]])\n",
    "        self._bias = stationary_points[b]\n",
    "\n",
    "\n",
    "    def mean_square_error(self, predicted, real):\n",
    "        return ((predicted - real) ** 2).mean()\n",
    "    \n",
    "    # Calculate and return the slope and y-intercept for decision boundry\n",
    "    def get_decision_boundry_m_and_b(self):\n",
    "        # This method only works for 2 input perceptron\n",
    "        # Todo: Have to generalize it\n",
    "        m = -self._weights[0] / self._weights[1]\n",
    "        b = -self._bias / self._weights[1]\n",
    "\n",
    "        return m, b\n",
    "\n",
    "    def _activation_function(self, input):\n",
    "        # After changing the activation function\n",
    "        # Also update the derivative of activation function\n",
    "        # In _activation_function_derivative()\n",
    "        return input\n",
    "    def _activation_function_derivative(self):\n",
    "        return 1\n",
    "    \n",
    "    # Some properties\n",
    "    @property\n",
    "    def weights(self):\n",
    "        return self._weights\n",
    "    @property\n",
    "    def bias(self):\n",
    "        return self._bias\n",
    "    @property\n",
    "    def previous_weights(self):\n",
    "        return self._previous_weights\n",
    "    @property\n",
    "    def previous_biases(self):\n",
    "        return self._previous_biases\n",
    "\n",
    "# model = Perceptron(1, LEARNING_RATE)\n",
    "# model.fit(X_train, y_train, epochs=EPOCHS)"
   ]
  },
  {
   "cell_type": "markdown",
   "metadata": {},
   "source": [
    "# Generating training & testing points"
   ]
  },
  {
   "cell_type": "code",
   "execution_count": 4,
   "metadata": {
    "tags": []
   },
   "outputs": [],
   "source": [
    "class_a_x = np.random.randint(POINTS_RANGE[0], BOUNDARY_POINT-BOUNDARY_POINT_MARGINE, size=(TOTAL_POINTS//2, 1))\n",
    "class_b_x = np.random.randint(BOUNDARY_POINT+BOUNDARY_POINT_MARGINE, POINTS_RANGE[1], size=(TOTAL_POINTS//2, 1))\n",
    "class_a_y = np.zeros(TOTAL_POINTS//2)\n",
    "class_b_y = np.zeros(TOTAL_POINTS//2)\n",
    "\n",
    "X = np.concatenate((class_a_x, class_b_x))\n",
    "y = np.concatenate((np.zeros(TOTAL_POINTS//2), np.ones(TOTAL_POINTS//2)))"
   ]
  },
  {
   "cell_type": "markdown",
   "metadata": {
    "tags": []
   },
   "source": [
    "## Plotting points"
   ]
  },
  {
   "cell_type": "code",
   "execution_count": 5,
   "metadata": {
    "tags": []
   },
   "outputs": [
    {
     "data": {
      "text/plain": [
       "<matplotlib.collections.PathCollection at 0x192cfa34288>"
      ]
     },
     "execution_count": 5,
     "metadata": {},
     "output_type": "execute_result"
    },
    {
     "data": {
      "image/png": "[encoded data removed]",
      "text/plain": [
       "<Figure size 432x288 with 1 Axes>"
      ]
     },
     "metadata": {
      "needs_background": "light"
     },
     "output_type": "display_data"
    }
   ],
   "source": [
    "plt.scatter(class_a_x, class_a_y, c=CLASS_A_CLR, s=0.5)\n",
    "plt.scatter(class_b_x, class_b_y, c=CLASS_B_CLR, s=0.5)"
   ]
  },
  {
   "cell_type": "markdown",
   "metadata": {},
   "source": [
    "## Splitting training & test points"
   ]
  },
  {
   "cell_type": "code",
   "execution_count": 6,
   "metadata": {
    "tags": []
   },
   "outputs": [],
   "source": [
    "X_train, X_test, y_train, y_test = train_test_split(X, y, test_size=TEST_RATIO)\n",
    "\n",
    "TOTAL_TRAIN_POINTS = X_train.shape[0]"
   ]
  },
  {
   "cell_type": "markdown",
   "metadata": {},
   "source": [
    "# Creating model"
   ]
  },
  {
   "cell_type": "code",
   "execution_count": 7,
   "metadata": {},
   "outputs": [],
   "source": [
    "model = Perceptron(1, LEARNING_RATE)"
   ]
  },
  {
   "cell_type": "markdown",
   "metadata": {},
   "source": [
    "## Training"
   ]
  },
  {
   "cell_type": "code",
   "execution_count": 8,
   "metadata": {},
   "outputs": [],
   "source": [
    "_, mse_arr = model.fit(X_train, y_train, epochs=EPOCHS, mse_history=True)"
   ]
  },
  {
   "cell_type": "markdown",
   "metadata": {},
   "source": [
    "### Plotting MSE"
   ]
  },
  {
   "cell_type": "code",
   "execution_count": 9,
   "metadata": {
    "tags": []
   },
   "outputs": [
    {
     "data": {
      "image/png": "[encoded data removed]",
      "text/plain": [
       "<Figure size 936x288 with 2 Axes>"
      ]
     },
     "metadata": {
      "needs_background": "light"
     },
     "output_type": "display_data"
    }
   ],
   "source": [
    "fig, (plt1, plt2) = plt.subplots(1, 2)\n",
    "fig.set_figwidth(13)\n",
    "\n",
    "plt1.plot(np.arange(EPOCHS), mse_arr)\n",
    "plt1.set_title('Learning curve (Linear scale)')\n",
    "plt1.set_xlabel('Epochs')\n",
    "plt1.set_ylabel('MSE')\n",
    "plt1.grid(True)\n",
    "x_min, x_max, y_min, y_max = plt1.axis()\n",
    "plt1.axis((x_min, x_max, 0, y_max))\n",
    "plt1.text(0, y_max-150, f'Last MSE: {mse_arr[-1]}')\n",
    "\n",
    "plt2.plot(np.arange(EPOCHS), mse_arr)\n",
    "plt2.set_title('Learning curve (Logrithmic scale)')\n",
    "plt2.set_xlabel('Epochs')\n",
    "plt2.set_ylabel('MSE')\n",
    "plt2.grid(True)\n",
    "x_min, x_max, y_min, y_max = plt2.axis()\n",
    "plt2.axis((x_min, x_max, 0, y_max))\n",
    "plt2.set_xscale('log')"
   ]
  },
  {
   "cell_type": "markdown",
   "metadata": {},
   "source": [
    "## Testing"
   ]
  },
  {
   "cell_type": "code",
   "execution_count": 10,
   "metadata": {},
   "outputs": [],
   "source": [
    "predict = model.predict_from_array(X_test)\n",
    "\n",
    "X_test_class_a = X_test[predict < 0]\n",
    "X_test_class_b = X_test[predict >= 0]"
   ]
  },
  {
   "cell_type": "markdown",
   "metadata": {},
   "source": [
    "### Plotting prediction & real data"
   ]
  },
  {
   "cell_type": "code",
   "execution_count": 11,
   "metadata": {},
   "outputs": [
    {
     "data": {
      "text/plain": [
       "Text(0.5, 1.0, 'True Classification')"
      ]
     },
     "execution_count": 11,
     "metadata": {},
     "output_type": "execute_result"
    },
    {
     "data": {
      "image/png": "[encoded data removed]",
      "text/plain": [
       "<Figure size 936x288 with 2 Axes>"
      ]
     },
     "metadata": {
      "needs_background": "light"
     },
     "output_type": "display_data"
    }
   ],
   "source": [
    "true_X_test_class_a = X_test[y_test == 0]\n",
    "true_X_test_class_b = X_test[y_test == 1]\n",
    "\n",
    "fig, (plot1, plot2) = plt.subplots(1, 2)\n",
    "fig.set_figwidth(13)\n",
    "\n",
    "plot1.scatter(X_test_class_a, np.zeros(X_test_class_a.shape[0]), c=CLASS_A_CLR, s=0.5)\n",
    "plot1.scatter(X_test_class_b, np.zeros(X_test_class_b.shape[0]), c=CLASS_B_CLR, s=0.5)\n",
    "plot1.set_title('Model prediction')\n",
    "\n",
    "plot2.scatter(true_X_test_class_a, np.zeros(true_X_test_class_a.shape[0]), c=CLASS_A_CLR, s=0.5)\n",
    "plot2.scatter(true_X_test_class_b, np.zeros(true_X_test_class_b.shape[0]), c=CLASS_B_CLR, s=0.5)\n",
    "plot2.set_title('True Classification')"
   ]
  },
  {
   "cell_type": "markdown",
   "metadata": {},
   "source": [
    "# Calculating loss function"
   ]
  },
  {
   "cell_type": "code",
   "execution_count": 12,
   "metadata": {},
   "outputs": [],
   "source": [
    "# training_prediction = model.predict_from_array(X_train)\n",
    "# loss_func_sympy, loss_func_lambda = model.get_loss_func_equation(X_train, training_prediction)"
   ]
  },
  {
   "cell_type": "code",
   "execution_count": 13,
   "metadata": {},
   "outputs": [],
   "source": [
    "# grid_x, grid_y = np.meshgrid(np.arange(-10, 10), np.arange(-10, 10))\n",
    "# plot_points = loss_func_lambda(grid_x, grid_y)"
   ]
  },
  {
   "cell_type": "code",
   "execution_count": 14,
   "metadata": {},
   "outputs": [],
   "source": [
    "# fig = plt.figure()\n",
    "# ax = fig.add_subplot(111, projection='3d')\n",
    "# ax.plot_surface(grid_x, grid_y, plot_points)"
   ]
  },
  {
   "cell_type": "code",
   "execution_count": 17,
   "metadata": {},
   "outputs": [],
   "source": [
    "model.set_optimum_w_and_b(X_train)"
   ]
  }
 ],
 "metadata": {
  "kernelspec": {
   "display_name": "Python 3 (ipykernel)",
   "language": "python",
   "name": "python3"
  },
  "language_info": {
   "codemirror_mode": {
    "name": "ipython",
    "version": 3
   },
   "file_extension": ".py",
   "mimetype": "text/x-python",
   "name": "python",
   "nbconvert_exporter": "python",
   "pygments_lexer": "ipython3",
   "version": "3.10.0"
  }
 },
 "nbformat": 4,
 "nbformat_minor": 4
}
