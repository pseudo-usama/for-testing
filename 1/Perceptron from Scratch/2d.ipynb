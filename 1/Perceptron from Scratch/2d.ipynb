{
 "cells": [
  {
   "cell_type": "markdown",
   "metadata": {},
   "source": [
    "# Imports"
   ]
  },
  {
   "cell_type": "code",
   "execution_count": 39,
   "metadata": {
    "tags": []
   },
   "outputs": [],
   "source": [
    "import numpy as np\n",
    "from sklearn.model_selection import train_test_split\n",
    "from matplotlib import pyplot as plt\n",
    "from sympy import *\n",
    "from sympy.parsing.sympy_parser import parse_expr"
   ]
  },
  {
   "cell_type": "markdown",
   "metadata": {
    "tags": []
   },
   "source": [
    "# Some constents"
   ]
  },
  {
   "cell_type": "code",
   "execution_count": 40,
   "metadata": {
    "tags": []
   },
   "outputs": [],
   "source": [
    "BOUNDARY_LINE_FUNCTION = lambda x, margin=0: 10 * x + margin  # It is just use to genrate points\n",
    "BOUNDARY_LINE_MARGINE = 20\n",
    "TOTAL_POINTS = 1000\n",
    "POINTS_X_AXIS_BOUNDARY = np.array([-10, 10])\n",
    "POINTS_Y_AXIS_BOUNDARY = np.array([-100, 100])\n",
    "\n",
    "TEST_RATIO = 0.3\n",
    "EPOCHS = 200\n",
    "LEARNING_RATE = 0.0001\n",
    "\n",
    "CLASS_A_CLR = 'red'\n",
    "CLASS_B_CLR = 'blue'"
   ]
  },
  {
   "cell_type": "markdown",
   "metadata": {},
   "source": [
    "# Perceptron class"
   ]
  },
  {
   "cell_type": "code",
   "execution_count": 41,
   "metadata": {
    "tags": []
   },
   "outputs": [],
   "source": [
    "class Perceptron:\n",
    "    LEARNING_RATE = 0.01\n",
    "    \n",
    "    def __init__(self, input_size, learning_rate=0.01):\n",
    "        self._input_dim = input_size\n",
    "        self.LEARNING_RATE = learning_rate\n",
    "\n",
    "        self._weights = np.random.rand(input_size)\n",
    "        self._bias = np.random.rand()\n",
    "\n",
    "        self._previous_weights = np.array([self._weights])\n",
    "        self._previous_biases = np.array([self._bias])\n",
    "\n",
    "    def predict(self, point):\n",
    "        sum_of_product = (self._weights * point).sum() + self._bias\n",
    "        return self._activation_function(sum_of_product)\n",
    "\n",
    "    def predict_from_array(self, points):\n",
    "        return np.array([self.predict(point) for point in points])\n",
    "    \n",
    "    def fit(self, x, y, epochs=1, mse_history=False):\n",
    "        mse_arr = np.array([])\n",
    "\n",
    "        for epoch in range(epochs):\n",
    "            predicted = self.predict_from_array(x)\n",
    "            self.update_weight_and_bias(x, y, predicted)\n",
    "\n",
    "            mse = self.mean_square_error(predicted, y)\n",
    "            mse_arr = np.append(mse_arr, mse)            \n",
    "\n",
    "        if mse_history:\n",
    "            return mse, mse_arr\n",
    "        return mse\n",
    "\n",
    "    def update_weight_and_bias(self, points, real, predicted):\n",
    "        dw, db = self._calc_slope(points, predicted, real)\n",
    "\n",
    "        self._weights -= dw\n",
    "        self._bias -= db\n",
    "\n",
    "        self._previous_weights = np.append(self._previous_weights, [dw], axis=0)\n",
    "        self._previous_biases = np.append(self._previous_biases, db)\n",
    "\n",
    "    # Calculate the slope/gradient of error function\n",
    "    def _calc_slope(self, points, predicted, real):\n",
    "        sample_size = points.shape[0]\n",
    "        predicted_real_diff = predicted - real\n",
    "        activation_function_derivative = self._activation_function_derivative()\n",
    "\n",
    "        dw = (2/sample_size) * (self.LEARNING_RATE * (predicted_real_diff * activation_function_derivative)[:, None] * points).sum(0)\n",
    "        db = (2/sample_size) * (self.LEARNING_RATE * (predicted_real_diff * activation_function_derivative)).sum(0)\n",
    "#         print((2/sample_size) * (self.LEARNING_RATE * (predicted_real_diff * activation_function_derivative)[:, None] * points).sum(0))\n",
    "        return dw, db\n",
    "\n",
    "    def get_loss_func_equation(self, points, predicted):\n",
    "        n = points.shape[0]\n",
    "\n",
    "        # Generating loss function string\n",
    "        loss_func_str = [f\"\"\"({\n",
    "            '+'.join([f'{points[i, dim]}*w{dim}' for dim in range(self._input_dim)])\n",
    "        }+b-{predicted[i]})**2\"\"\" for i in range(n)]\n",
    "\n",
    "        loss_func_str = '+'.join(loss_func_str)\n",
    "        loss_func_str = f'1/{n}*({loss_func_str})'\n",
    "\n",
    "        # Simplifying equation\n",
    "        loss_func_simplified = simplify(parse_expr(loss_func_str))\n",
    "\n",
    "        weights_sym = [symbols(f'w{i}') for i in range(self._input_dim)]\n",
    "        b = symbols('b')\n",
    "        w, b = symbols('w b')\n",
    "        loss_func_lambda = lambdify(weights_sym+[b], loss_func_simplified)\n",
    "        \n",
    "        return loss_func_simplified, loss_func_lambda\n",
    "    \n",
    "    def set_optimum_w_and_b(self, points):\n",
    "        training_prediction = self.predict_from_array(points)\n",
    "        loss_func_sympy, loss_func_lambda = model.get_loss_func_equation(points, training_prediction)\n",
    "#         help(loss_func_lambda)\n",
    "#         loss_func_sympy = parse_expr('1.0*b**2 - 0.22220484555869283*b*w0 - 2.9967489600144931*b*w1 + 0.81226747356697645*b + 33.484733622508863*w0**2 + 317.53731820451747*w0*w1 - 175.55686690440699*w0 + 5237.9721835554008*w1**2 - 4116.1365979154059*w1 + 831.1944902610262')\n",
    "        import inspect\n",
    "        print(loss_func_sympy)\n",
    "        print(inspect.getsource(loss_func_lambda))\n",
    "\n",
    "        weights_sym = [symbols(f'w{i}') for i in range(self._input_dim)]\n",
    "        b = symbols('b')\n",
    "\n",
    "        # First we'll find stationary points\n",
    "        d_weights = [diff(loss_func_sympy, w) for w in weights_sym]\n",
    "        db = diff(loss_func_sympy, b)\n",
    "        stationary_points = solve(d_weights+[db], weights_sym+[b])\n",
    "\n",
    "        self._weights = np.array([stationary_points[w] for w in weights_sym])\n",
    "        self._bias = stationary_points[b]\n",
    "\n",
    "    def mean_square_error(self, predicted, real):\n",
    "        return ((predicted - real) ** 2).mean()\n",
    "    \n",
    "    # Calculate and return the slope and y-intercept for decision boundry\n",
    "    def get_decision_boundry_m_and_b(self):\n",
    "        # This method only works for 2 input perceptron\n",
    "        # Todo: Have to generalize it\n",
    "        m = -self._weights[0] / self._weights[1]\n",
    "        b = -self._bias / self._weights[1]\n",
    "\n",
    "        return m, b\n",
    "\n",
    "    def _activation_function(self, input):\n",
    "        # After changing the activation function\n",
    "        # Also update the derivative of activation function\n",
    "        # In _activation_function_derivative()\n",
    "        return input\n",
    "    def _activation_function_derivative(self):\n",
    "        return 1\n",
    "    \n",
    "    # Some properties\n",
    "    @property\n",
    "    def weights(self):\n",
    "        return self._weights\n",
    "    @property\n",
    "    def bias(self):\n",
    "        return self._bias\n",
    "    @property\n",
    "    def previous_weights(self):\n",
    "        return self._previous_weights\n",
    "    @property\n",
    "    def previous_biases(self):\n",
    "        return self._previous_biases\n",
    "    \n",
    "# model = Perceptron(1, LEARNING_RATE)\n",
    "# model.fit(X_train, y_train, epochs=EPOCHS)"
   ]
  },
  {
   "cell_type": "markdown",
   "metadata": {},
   "source": [
    "# Generating training & testing points"
   ]
  },
  {
   "cell_type": "code",
   "execution_count": 42,
   "metadata": {
    "tags": []
   },
   "outputs": [],
   "source": [
    "np.random.seed(0)\n",
    "\n",
    "class_a_x = np.random.uniform(POINTS_X_AXIS_BOUNDARY[0], POINTS_X_AXIS_BOUNDARY[1], TOTAL_POINTS//2)\n",
    "class_a_y = np.random.uniform(BOUNDARY_LINE_FUNCTION(class_a_x, BOUNDARY_LINE_MARGINE), POINTS_Y_AXIS_BOUNDARY[1])\n",
    "\n",
    "class_b_x = np.random.uniform(POINTS_X_AXIS_BOUNDARY[0], POINTS_X_AXIS_BOUNDARY[1], TOTAL_POINTS//2)\n",
    "class_b_y = np.random.uniform(BOUNDARY_LINE_FUNCTION(class_b_x, -BOUNDARY_LINE_MARGINE), POINTS_Y_AXIS_BOUNDARY[0])\n",
    "\n",
    "X = np.concatenate((np.stack((class_a_x, class_a_y), axis=-1), np.stack((class_b_x, class_b_y), axis=-1)))\n",
    "y = np.concatenate((np.zeros(TOTAL_POINTS//2), np.ones(TOTAL_POINTS//2)))"
   ]
  },
  {
   "cell_type": "markdown",
   "metadata": {},
   "source": [
    "## Plotting points"
   ]
  },
  {
   "cell_type": "code",
   "execution_count": 43,
   "metadata": {
    "tags": []
   },
   "outputs": [
    {
     "data": {
      "text/plain": [
       "<matplotlib.collections.PathCollection at 0x235bc64d648>"
      ]
     },
     "execution_count": 43,
     "metadata": {},
     "output_type": "execute_result"
    },
    {
     "data": {
      "image/png": "[encoded data removed]",
      "text/plain": [
       "<Figure size 432x288 with 1 Axes>"
      ]
     },
     "metadata": {
      "needs_background": "light"
     },
     "output_type": "display_data"
    }
   ],
   "source": [
    "boundary_line_y = BOUNDARY_LINE_FUNCTION(POINTS_X_AXIS_BOUNDARY)\n",
    "plt.plot(POINTS_X_AXIS_BOUNDARY, boundary_line_y)\n",
    "\n",
    "plt.scatter(class_a_x, class_a_y, c=CLASS_A_CLR)\n",
    "plt.scatter(class_b_x, class_b_y, c=CLASS_B_CLR)"
   ]
  },
  {
   "cell_type": "markdown",
   "metadata": {},
   "source": [
    "## Splitting training & testing points"
   ]
  },
  {
   "cell_type": "code",
   "execution_count": 44,
   "metadata": {
    "tags": []
   },
   "outputs": [],
   "source": [
    "X_train, X_test, y_train, y_test = train_test_split(X, y, test_size=TEST_RATIO)\n",
    "\n",
    "TOTAL_TRAIN_POINTS = X_train.shape[0]"
   ]
  },
  {
   "cell_type": "markdown",
   "metadata": {},
   "source": [
    "# Training"
   ]
  },
  {
   "cell_type": "code",
   "execution_count": 45,
   "metadata": {
    "tags": []
   },
   "outputs": [],
   "source": [
    "model = Perceptron(2, LEARNING_RATE)"
   ]
  },
  {
   "cell_type": "code",
   "execution_count": 46,
   "metadata": {
    "tags": []
   },
   "outputs": [],
   "source": [
    "# _, mse_arr = model.fit(X_train, y_train, epochs=EPOCHS, mse_history=True)"
   ]
  },
  {
   "cell_type": "markdown",
   "metadata": {},
   "source": [
    "## Plotting MSE"
   ]
  },
  {
   "cell_type": "code",
   "execution_count": 47,
   "metadata": {
    "tags": []
   },
   "outputs": [],
   "source": [
    "# fig, (plt1, plt2) = plt.subplots(1, 2)\n",
    "# fig.set_figwidth(13)\n",
    "\n",
    "# plt1.plot(np.arange(EPOCHS), mse_arr)\n",
    "# plt1.set_title('Learning curve (Linear scale)')\n",
    "# plt1.set_xlabel('Iterations')\n",
    "# plt1.set_ylabel('MSE')\n",
    "# plt1.grid(True)\n",
    "# x_min, x_max, y_min, y_max = plt1.axis()\n",
    "# plt1.axis((x_min, x_max, 0, y_max))\n",
    "# plt1.text(0, y_max-150, f'Last MSE: {mse_arr[-1]}')\n",
    "\n",
    "# plt2.plot(np.arange(EPOCHS), mse_arr)\n",
    "# plt2.set_title('Learning curve (Logrithmic scale)')\n",
    "# plt2.set_xlabel('Iterations')\n",
    "# plt2.set_ylabel('MSE')\n",
    "# plt2.grid(True)\n",
    "# x_min, x_max, y_min, y_max = plt2.axis()\n",
    "# plt2.axis((x_min, x_max, 0, y_max))\n",
    "# plt2.set_xscale('log')"
   ]
  },
  {
   "cell_type": "markdown",
   "metadata": {},
   "source": [
    "# Testing"
   ]
  },
  {
   "cell_type": "code",
   "execution_count": 48,
   "metadata": {
    "tags": []
   },
   "outputs": [],
   "source": [
    "predict = model.predict_from_array(X_test)\n",
    "\n",
    "X_test_class_a = X_test[predict < 0]\n",
    "X_test_class_b = X_test[predict >= 0]"
   ]
  },
  {
   "cell_type": "markdown",
   "metadata": {},
   "source": [
    "## Plotting predictions & real data"
   ]
  },
  {
   "cell_type": "code",
   "execution_count": 49,
   "metadata": {
    "tags": []
   },
   "outputs": [
    {
     "data": {
      "text/plain": [
       "Text(0.5, 1.0, 'True Classification')"
      ]
     },
     "execution_count": 49,
     "metadata": {},
     "output_type": "execute_result"
    },
    {
     "data": {
      "image/png": "[encoded data removed]",
      "text/plain": [
       "<Figure size 936x288 with 2 Axes>"
      ]
     },
     "metadata": {
      "needs_background": "light"
     },
     "output_type": "display_data"
    }
   ],
   "source": [
    "fig, (plot1, plot2) = plt.subplots(1, 2)\n",
    "fig.set_figwidth(13)\n",
    "\n",
    "m, b = model.get_decision_boundry_m_and_b()\n",
    "boundry_line_y = (m * POINTS_X_AXIS_BOUNDARY) + b\n",
    "plot1.plot(POINTS_X_AXIS_BOUNDARY, boundry_line_y)\n",
    "\n",
    "plot1.scatter(X_test_class_a[:, 0], X_test_class_a[:, 1], c=CLASS_A_CLR)\n",
    "plot1.scatter(X_test_class_b[:, 0], X_test_class_b[:, 1], c=CLASS_B_CLR)\n",
    "plot1.set_title('Model prediction')\n",
    "plot1.axis((POINTS_X_AXIS_BOUNDARY[0], POINTS_X_AXIS_BOUNDARY[1], POINTS_Y_AXIS_BOUNDARY[0], POINTS_Y_AXIS_BOUNDARY[1]))\n",
    "\n",
    "plot2.scatter(X_test[y_test == 0][:, 0], X_test[y_test == 0][:, 1], c=CLASS_A_CLR)\n",
    "plot2.scatter(X_test[y_test == 1][:, 0], X_test[y_test == 1][:, 1], c=CLASS_B_CLR)\n",
    "plot2.plot(POINTS_X_AXIS_BOUNDARY, boundary_line_y)\n",
    "plot2.set_title('True Classification')"
   ]
  },
  {
   "cell_type": "markdown",
   "metadata": {},
   "source": [
    "# Tests"
   ]
  },
  {
   "cell_type": "code",
   "execution_count": 50,
   "metadata": {},
   "outputs": [
    {
     "name": "stdout",
     "output_type": "stream",
     "text": [
      "1.0*b**2 + 0.5455652671180599*b*w0 + 3.0123277274806708*b*w1 - 2.3133097342440169*b + 35.596185528496962*w0**2 + 331.21586029012788*w0*w1 - 235.47202385620704*w0 + 5441.4464785219475*w1**2 - 5761.5165360170852*w1 + 1554.6968043054335\n",
      "def _lambdifygenerated(w0, w1, b):\n",
      "    return (1.0*b**2 + 0.5455652671180599*b*w0 + 3.0123277274806708*b*w1 - 2.3133097342440169*b + 35.596185528496962*w0**2 + 331.21586029012788*w0*w1 - 235.47202385620704*w0 + 5441.4464785219475*w1**2 - 5761.5165360170852*w1 + 1554.6968043054335)\n",
      "\n"
     ]
    }
   ],
   "source": [
    "model.set_optimum_w_and_b(X_train)"
   ]
  },
  {
   "cell_type": "code",
   "execution_count": 51,
   "metadata": {},
   "outputs": [],
   "source": [
    "model._weights = np.array([0.695181, 0.992756])\n",
    "model._bias = 0.992756\n",
    "# type(model._bias)\n",
    "# type(np.random.rand())"
   ]
  }
 ],
 "metadata": {
  "kernelspec": {
   "display_name": "firstEnv",
   "language": "python",
   "name": "firstenv"
  },
  "language_info": {
   "codemirror_mode": {
    "name": "ipython",
    "version": 3
   },
   "file_extension": ".py",
   "mimetype": "text/x-python",
   "name": "python",
   "nbconvert_exporter": "python",
   "pygments_lexer": "ipython3",
   "version": "3.9.7"
  },
  "toc-autonumbering": false,
  "toc-showcode": false,
  "toc-showmarkdowntxt": false,
  "toc-showtags": false
 },
 "nbformat": 4,
 "nbformat_minor": 4
}
