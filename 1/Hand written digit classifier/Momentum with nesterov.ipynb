{
 "cells": [
  {
   "cell_type": "code",
   "execution_count": 1,
   "metadata": {},
   "outputs": [],
   "source": [
    "import numpy as np\n",
    "import pandas as pd\n",
    "from matplotlib import pyplot as plt\n",
    "\n",
    "import keras\n",
    "from keras.layers import Dense, Flatten\n",
    "from keras.models import Sequential, load_model\n",
    "from keras.callbacks import EarlyStopping"
   ]
  },
  {
   "cell_type": "markdown",
   "metadata": {},
   "source": [
    "# Import data"
   ]
  },
  {
   "cell_type": "code",
   "execution_count": 2,
   "metadata": {},
   "outputs": [],
   "source": [
    "(X_train, y_train), (X_test, y_test) = keras.datasets.mnist.load_data()"
   ]
  },
  {
   "cell_type": "code",
   "execution_count": 3,
   "metadata": {},
   "outputs": [],
   "source": [
    "INPUT_SHAPE = X_train[0].shape\n",
    "OUTPUT_COLS = 10"
   ]
  },
  {
   "cell_type": "code",
   "execution_count": 4,
   "metadata": {},
   "outputs": [
    {
     "data": {
      "text/plain": [
       "<matplotlib.image.AxesImage at 0x2b0383f0408>"
      ]
     },
     "execution_count": 4,
     "metadata": {},
     "output_type": "execute_result"
    },
    {
     "data": {
      "image/png": "[encoded data removed]",
      "text/plain": [
       "<Figure size 432x288 with 1 Axes>"
      ]
     },
     "metadata": {
      "needs_background": "light"
     },
     "output_type": "display_data"
    }
   ],
   "source": [
    "plt.imshow(X_train[0], cmap='gray')"
   ]
  },
  {
   "cell_type": "markdown",
   "metadata": {},
   "source": [
    "# Normalizing"
   ]
  },
  {
   "cell_type": "code",
   "execution_count": 5,
   "metadata": {},
   "outputs": [],
   "source": [
    "X_train = keras.utils.normalize(X_train, axis=1)\n",
    "X_test = keras.utils.normalize(X_test, axis=1)"
   ]
  },
  {
   "cell_type": "markdown",
   "metadata": {},
   "source": [
    "# One hot encoding"
   ]
  },
  {
   "cell_type": "code",
   "execution_count": 6,
   "metadata": {},
   "outputs": [],
   "source": [
    "y_train = keras.utils.to_categorical(y_train)\n",
    "y_test = keras.utils.to_categorical(y_test)"
   ]
  },
  {
   "cell_type": "markdown",
   "metadata": {},
   "source": [
    "# Building model"
   ]
  },
  {
   "cell_type": "code",
   "execution_count": 7,
   "metadata": {
    "tags": []
   },
   "outputs": [],
   "source": [
    "model = Sequential()\n",
    "\n",
    "model.add(Flatten(input_shape=INPUT_SHAPE))\n",
    "model.add(Dense(1000, activation='relu'))\n",
    "\n",
    "model.add(Dense(OUTPUT_COLS, activation='softmax'))"
   ]
  },
  {
   "cell_type": "code",
   "execution_count": 8,
   "metadata": {},
   "outputs": [
    {
     "name": "stdout",
     "output_type": "stream",
     "text": [
      "Model: \"sequential\"\n",
      "_________________________________________________________________\n",
      "Layer (type)                 Output Shape              Param #   \n",
      "=================================================================\n",
      "flatten (Flatten)            (None, 784)               0         \n",
      "_________________________________________________________________\n",
      "dense (Dense)                (None, 1000)              785000    \n",
      "_________________________________________________________________\n",
      "dense_1 (Dense)              (None, 10)                10010     \n",
      "=================================================================\n",
      "Total params: 795,010\n",
      "Trainable params: 795,010\n",
      "Non-trainable params: 0\n",
      "_________________________________________________________________\n"
     ]
    }
   ],
   "source": [
    "model.summary()"
   ]
  },
  {
   "cell_type": "markdown",
   "metadata": {},
   "source": [
    "# Compile & training"
   ]
  },
  {
   "cell_type": "code",
   "execution_count": 9,
   "metadata": {},
   "outputs": [
    {
     "name": "stdout",
     "output_type": "stream",
     "text": [
      "Epoch 1/30\n",
      "1313/1313 [==============================] - 15s 11ms/step - loss: 1.6813 - accuracy: 0.6414 - val_loss: 0.6500 - val_accuracy: 0.8584\n",
      "Epoch 2/30\n",
      "1313/1313 [==============================] - 13s 10ms/step - loss: 0.5980 - accuracy: 0.8589 - val_loss: 0.4511 - val_accuracy: 0.8848\n",
      "Epoch 3/30\n",
      "1313/1313 [==============================] - 14s 11ms/step - loss: 0.4399 - accuracy: 0.8833 - val_loss: 0.3859 - val_accuracy: 0.8968\n",
      "Epoch 4/30\n",
      "1313/1313 [==============================] - 13s 10ms/step - loss: 0.3848 - accuracy: 0.8944 - val_loss: 0.3539 - val_accuracy: 0.9031\n",
      "Epoch 5/30\n",
      "1313/1313 [==============================] - 13s 10ms/step - loss: 0.3505 - accuracy: 0.9038 - val_loss: 0.3331 - val_accuracy: 0.9068\n",
      "Epoch 6/30\n",
      "1313/1313 [==============================] - 13s 10ms/step - loss: 0.3246 - accuracy: 0.9099 - val_loss: 0.3173 - val_accuracy: 0.9113\n",
      "Epoch 7/30\n",
      "1313/1313 [==============================] - 13s 10ms/step - loss: 0.3086 - accuracy: 0.9128 - val_loss: 0.3039 - val_accuracy: 0.9146\n",
      "Epoch 8/30\n",
      "1313/1313 [==============================] - 13s 10ms/step - loss: 0.2960 - accuracy: 0.9169 - val_loss: 0.2933 - val_accuracy: 0.9172\n",
      "Epoch 9/30\n",
      "1313/1313 [==============================] - 13s 10ms/step - loss: 0.2845 - accuracy: 0.9225 - val_loss: 0.2843 - val_accuracy: 0.9196\n",
      "Epoch 10/30\n",
      "1313/1313 [==============================] - 14s 11ms/step - loss: 0.2754 - accuracy: 0.9231 - val_loss: 0.2753 - val_accuracy: 0.9226\n",
      "Epoch 11/30\n",
      "1313/1313 [==============================] - 18s 14ms/step - loss: 0.2558 - accuracy: 0.9282 - val_loss: 0.2681 - val_accuracy: 0.9238\n",
      "Epoch 12/30\n",
      "1313/1313 [==============================] - 15s 11ms/step - loss: 0.2578 - accuracy: 0.9276 - val_loss: 0.2609 - val_accuracy: 0.9264\n",
      "Epoch 13/30\n",
      "1313/1313 [==============================] - 15s 11ms/step - loss: 0.2440 - accuracy: 0.9320 - val_loss: 0.2545 - val_accuracy: 0.9278\n",
      "Epoch 14/30\n",
      "1313/1313 [==============================] - 16s 12ms/step - loss: 0.2383 - accuracy: 0.9334 - val_loss: 0.2492 - val_accuracy: 0.9297\n",
      "Epoch 15/30\n",
      "1313/1313 [==============================] - 17s 13ms/step - loss: 0.2342 - accuracy: 0.9352 - val_loss: 0.2438 - val_accuracy: 0.9314\n",
      "Epoch 16/30\n",
      "1313/1313 [==============================] - 14s 11ms/step - loss: 0.2220 - accuracy: 0.9387 - val_loss: 0.2384 - val_accuracy: 0.9322\n",
      "Epoch 17/30\n",
      "1313/1313 [==============================] - 17s 13ms/step - loss: 0.2176 - accuracy: 0.9393 - val_loss: 0.2333 - val_accuracy: 0.9343\n",
      "Epoch 18/30\n",
      "1313/1313 [==============================] - 15s 12ms/step - loss: 0.2108 - accuracy: 0.9417 - val_loss: 0.2289 - val_accuracy: 0.9351\n",
      "Epoch 19/30\n",
      "1313/1313 [==============================] - 18s 13ms/step - loss: 0.2113 - accuracy: 0.9404 - val_loss: 0.2236 - val_accuracy: 0.9372\n",
      "Epoch 20/30\n",
      "1313/1313 [==============================] - 15s 12ms/step - loss: 0.2050 - accuracy: 0.9431 - val_loss: 0.2196 - val_accuracy: 0.9388\n",
      "Epoch 21/30\n",
      "1313/1313 [==============================] - 15s 12ms/step - loss: 0.1947 - accuracy: 0.9465 - val_loss: 0.2159 - val_accuracy: 0.9396\n",
      "Epoch 22/30\n",
      "1313/1313 [==============================] - 16s 12ms/step - loss: 0.1889 - accuracy: 0.9476 - val_loss: 0.2117 - val_accuracy: 0.9402\n",
      "Epoch 23/30\n",
      "1313/1313 [==============================] - 16s 12ms/step - loss: 0.1883 - accuracy: 0.9472 - val_loss: 0.2075 - val_accuracy: 0.9416\n",
      "Epoch 24/30\n",
      "1313/1313 [==============================] - 16s 12ms/step - loss: 0.1866 - accuracy: 0.9482 - val_loss: 0.2050 - val_accuracy: 0.9427\n",
      "Epoch 25/30\n",
      "1313/1313 [==============================] - 16s 12ms/step - loss: 0.1797 - accuracy: 0.9490 - val_loss: 0.2015 - val_accuracy: 0.9431\n",
      "Epoch 26/30\n",
      "1313/1313 [==============================] - 17s 13ms/step - loss: 0.1723 - accuracy: 0.9524 - val_loss: 0.1978 - val_accuracy: 0.9448\n",
      "Epoch 27/30\n",
      "1313/1313 [==============================] - 16s 13ms/step - loss: 0.1712 - accuracy: 0.9527 - val_loss: 0.1958 - val_accuracy: 0.9439\n",
      "Epoch 28/30\n",
      "1313/1313 [==============================] - 15s 12ms/step - loss: 0.1691 - accuracy: 0.9525 - val_loss: 0.1921 - val_accuracy: 0.9462\n",
      "Epoch 29/30\n",
      "1313/1313 [==============================] - 16s 12ms/step - loss: 0.1687 - accuracy: 0.9535 - val_loss: 0.1889 - val_accuracy: 0.9469\n",
      "Epoch 30/30\n",
      "1313/1313 [==============================] - 17s 13ms/step - loss: 0.1612 - accuracy: 0.9536 - val_loss: 0.1861 - val_accuracy: 0.9479\n"
     ]
    }
   ],
   "source": [
    "model.compile(optimizer=keras.optimizers.SGD(learning_rate=0.01, momentum=0.0, nesterov=True, name=\"SGD\"), loss='categorical_crossentropy', metrics=['accuracy'])\n",
    "model_training = model.fit(X_train, y_train, validation_split=0.3, epochs=30, callbacks=[EarlyStopping(patience=3)], verbose=1)"
   ]
  },
  {
   "cell_type": "code",
   "execution_count": 12,
   "metadata": {},
   "outputs": [],
   "source": [
    "model.save('model.h5')\n",
    "# model = keras.models.load_modal('model.h5')"
   ]
  },
  {
   "cell_type": "markdown",
   "metadata": {},
   "source": [
    "# Plotting statistics"
   ]
  },
  {
   "cell_type": "code",
   "execution_count": 10,
   "metadata": {},
   "outputs": [
    {
     "data": {
      "text/plain": [
       "<matplotlib.legend.Legend at 0x2b03586cf48>"
      ]
     },
     "execution_count": 10,
     "metadata": {},
     "output_type": "execute_result"
    },
    {
     "data": {
      "image/png": "[encoded data removed]",
      "text/plain": [
       "<Figure size 432x288 with 1 Axes>"
      ]
     },
     "metadata": {
      "needs_background": "light"
     },
     "output_type": "display_data"
    }
   ],
   "source": [
    "plt.plot(model_training.history['val_loss'], label='Value loss')\n",
    "plt.plot(model_training.history['accuracy'], label='Accuracy')\n",
    "plt.plot(model_training.history['loss'], label='Loss')\n",
    "plt.plot(model_training.history['val_accuracy'], label='Value Accuracy')\n",
    "\n",
    "plt.legend(loc='upper right')"
   ]
  },
  {
   "cell_type": "markdown",
   "metadata": {},
   "source": [
    "# Predicting"
   ]
  },
  {
   "cell_type": "code",
   "execution_count": 10,
   "metadata": {},
   "outputs": [
    {
     "name": "stdout",
     "output_type": "stream",
     "text": [
      "313/313 [==============================] - 2s 5ms/step - loss: 0.1750 - accuracy: 0.9493\n",
      "0.1749941110610962 0.9492999911308289\n"
     ]
    }
   ],
   "source": [
    "val_loss, val_acc = model.evaluate(X_test, y_test)\n",
    "print(val_loss, val_acc)"
   ]
  }
 ],
 "metadata": {
  "kernelspec": {
   "display_name": "deep-learning",
   "language": "python",
   "name": "deep-learning"
  },
  "language_info": {
   "codemirror_mode": {
    "name": "ipython",
    "version": 3
   },
   "file_extension": ".py",
   "mimetype": "text/x-python",
   "name": "python",
   "nbconvert_exporter": "python",
   "pygments_lexer": "ipython3",
   "version": "3.9.7"
  }
 },
 "nbformat": 4,
 "nbformat_minor": 4
}
