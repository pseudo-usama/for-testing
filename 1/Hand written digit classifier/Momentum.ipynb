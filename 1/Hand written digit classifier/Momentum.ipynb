{
 "cells": [
  {
   "cell_type": "code",
   "execution_count": 1,
   "metadata": {},
   "outputs": [],
   "source": [
    "import numpy as np\n",
    "import pandas as pd\n",
    "from matplotlib import pyplot as plt\n",
    "\n",
    "import keras\n",
    "from keras.layers import Dense, Flatten\n",
    "from keras.models import Sequential, load_model\n",
    "from keras.callbacks import EarlyStopping"
   ]
  },
  {
   "cell_type": "markdown",
   "metadata": {},
   "source": [
    "# Import data"
   ]
  },
  {
   "cell_type": "code",
   "execution_count": 2,
   "metadata": {},
   "outputs": [],
   "source": [
    "(X_train, y_train), (X_test, y_test) = keras.datasets.mnist.load_data()"
   ]
  },
  {
   "cell_type": "code",
   "execution_count": 3,
   "metadata": {},
   "outputs": [],
   "source": [
    "INPUT_SHAPE = X_train[0].shape\n",
    "OUTPUT_COLS = 10"
   ]
  },
  {
   "cell_type": "code",
   "execution_count": 4,
   "metadata": {},
   "outputs": [
    {
     "data": {
      "text/plain": [
       "<matplotlib.image.AxesImage at 0x1b99ad8e048>"
      ]
     },
     "execution_count": 4,
     "metadata": {},
     "output_type": "execute_result"
    },
    {
     "data": {
      "image/png": "[encoded data removed]",
      "text/plain": [
       "<Figure size 432x288 with 1 Axes>"
      ]
     },
     "metadata": {
      "needs_background": "light"
     },
     "output_type": "display_data"
    }
   ],
   "source": [
    "plt.imshow(X_train[0], cmap='gray')"
   ]
  },
  {
   "cell_type": "markdown",
   "metadata": {},
   "source": [
    "# Normalizing"
   ]
  },
  {
   "cell_type": "code",
   "execution_count": 5,
   "metadata": {},
   "outputs": [],
   "source": [
    "X_train = keras.utils.normalize(X_train, axis=1)\n",
    "X_test = keras.utils.normalize(X_test, axis=1)"
   ]
  },
  {
   "cell_type": "markdown",
   "metadata": {},
   "source": [
    "# One hot encoding"
   ]
  },
  {
   "cell_type": "code",
   "execution_count": 6,
   "metadata": {},
   "outputs": [],
   "source": [
    "y_train = keras.utils.to_categorical(y_train)\n",
    "y_test = keras.utils.to_categorical(y_test)"
   ]
  },
  {
   "cell_type": "markdown",
   "metadata": {},
   "source": [
    "# Building model"
   ]
  },
  {
   "cell_type": "code",
   "execution_count": 7,
   "metadata": {
    "tags": []
   },
   "outputs": [],
   "source": [
    "model = Sequential()\n",
    "\n",
    "model.add(Flatten(input_shape=INPUT_SHAPE))\n",
    "model.add(Dense(1000, activation='relu'))\n",
    "\n",
    "model.add(Dense(OUTPUT_COLS, activation='softmax'))"
   ]
  },
  {
   "cell_type": "code",
   "execution_count": 8,
   "metadata": {},
   "outputs": [
    {
     "name": "stdout",
     "output_type": "stream",
     "text": [
      "Model: \"sequential\"\n",
      "_________________________________________________________________\n",
      "Layer (type)                 Output Shape              Param #   \n",
      "=================================================================\n",
      "flatten (Flatten)            (None, 784)               0         \n",
      "_________________________________________________________________\n",
      "dense (Dense)                (None, 1000)              785000    \n",
      "_________________________________________________________________\n",
      "dense_1 (Dense)              (None, 10)                10010     \n",
      "=================================================================\n",
      "Total params: 795,010\n",
      "Trainable params: 795,010\n",
      "Non-trainable params: 0\n",
      "_________________________________________________________________\n"
     ]
    }
   ],
   "source": [
    "model.summary()"
   ]
  },
  {
   "cell_type": "markdown",
   "metadata": {},
   "source": [
    "# Compile & training"
   ]
  },
  {
   "cell_type": "code",
   "execution_count": 8,
   "metadata": {},
   "outputs": [
    {
     "name": "stdout",
     "output_type": "stream",
     "text": [
      "Epoch 1/30\n",
      "1313/1313 [==============================] - 15s 11ms/step - loss: 1.7015 - accuracy: 0.6236 - val_loss: 0.6501 - val_accuracy: 0.8576\n",
      "Epoch 2/30\n",
      "1313/1313 [==============================] - 21s 16ms/step - loss: 0.5992 - accuracy: 0.8600 - val_loss: 0.4488 - val_accuracy: 0.8847\n",
      "Epoch 3/30\n",
      "1313/1313 [==============================] - 17s 13ms/step - loss: 0.4396 - accuracy: 0.8855 - val_loss: 0.3845 - val_accuracy: 0.8971\n",
      "Epoch 4/30\n",
      "1313/1313 [==============================] - 17s 13ms/step - loss: 0.3828 - accuracy: 0.8946 - val_loss: 0.3514 - val_accuracy: 0.9035\n",
      "Epoch 5/30\n",
      "1313/1313 [==============================] - 17s 13ms/step - loss: 0.3476 - accuracy: 0.9026 - val_loss: 0.3308 - val_accuracy: 0.9071\n",
      "Epoch 6/30\n",
      "1313/1313 [==============================] - 16s 12ms/step - loss: 0.3287 - accuracy: 0.9081 - val_loss: 0.3138 - val_accuracy: 0.9119\n",
      "Epoch 7/30\n",
      "1313/1313 [==============================] - 15s 11ms/step - loss: 0.3099 - accuracy: 0.9134 - val_loss: 0.3009 - val_accuracy: 0.9148\n",
      "Epoch 8/30\n",
      "1313/1313 [==============================] - 14s 11ms/step - loss: 0.2946 - accuracy: 0.9172 - val_loss: 0.2909 - val_accuracy: 0.9173\n",
      "Epoch 9/30\n",
      "1313/1313 [==============================] - 15s 11ms/step - loss: 0.2758 - accuracy: 0.9216 - val_loss: 0.2807 - val_accuracy: 0.9213\n",
      "Epoch 10/30\n",
      "1313/1313 [==============================] - 16s 12ms/step - loss: 0.2723 - accuracy: 0.9247 - val_loss: 0.2735 - val_accuracy: 0.9221\n",
      "Epoch 11/30\n",
      "1313/1313 [==============================] - 15s 12ms/step - loss: 0.2607 - accuracy: 0.9267 - val_loss: 0.2657 - val_accuracy: 0.9242\n",
      "Epoch 12/30\n",
      "1313/1313 [==============================] - 21s 16ms/step - loss: 0.2527 - accuracy: 0.9289 - val_loss: 0.2591 - val_accuracy: 0.9256\n",
      "Epoch 13/30\n",
      "1313/1313 [==============================] - 15s 12ms/step - loss: 0.2447 - accuracy: 0.9304 - val_loss: 0.2532 - val_accuracy: 0.9274\n",
      "Epoch 14/30\n",
      "1313/1313 [==============================] - 17s 13ms/step - loss: 0.2351 - accuracy: 0.9362 - val_loss: 0.2475 - val_accuracy: 0.9302\n",
      "Epoch 15/30\n",
      "1313/1313 [==============================] - 21s 16ms/step - loss: 0.2268 - accuracy: 0.9368 - val_loss: 0.2418 - val_accuracy: 0.9312\n",
      "Epoch 16/30\n",
      "1313/1313 [==============================] - 16s 12ms/step - loss: 0.2237 - accuracy: 0.9379 - val_loss: 0.2367 - val_accuracy: 0.9324\n",
      "Epoch 17/30\n",
      "1313/1313 [==============================] - 14s 11ms/step - loss: 0.2152 - accuracy: 0.9382 - val_loss: 0.2324 - val_accuracy: 0.9335\n",
      "Epoch 18/30\n",
      "1313/1313 [==============================] - 18s 14ms/step - loss: 0.2182 - accuracy: 0.9392 - val_loss: 0.2271 - val_accuracy: 0.9362\n",
      "Epoch 19/30\n",
      "1313/1313 [==============================] - 16s 12ms/step - loss: 0.2095 - accuracy: 0.9408 - val_loss: 0.2231 - val_accuracy: 0.9367\n",
      "Epoch 20/30\n",
      "1313/1313 [==============================] - 19s 14ms/step - loss: 0.1974 - accuracy: 0.9447 - val_loss: 0.2186 - val_accuracy: 0.9380\n",
      "Epoch 21/30\n",
      "1313/1313 [==============================] - 19s 15ms/step - loss: 0.1907 - accuracy: 0.9459 - val_loss: 0.2156 - val_accuracy: 0.9390\n",
      "Epoch 22/30\n",
      "1313/1313 [==============================] - 19s 14ms/step - loss: 0.1892 - accuracy: 0.9465 - val_loss: 0.2119 - val_accuracy: 0.9394\n",
      "Epoch 23/30\n",
      "1313/1313 [==============================] - 19s 14ms/step - loss: 0.1910 - accuracy: 0.9462 - val_loss: 0.2074 - val_accuracy: 0.9411\n",
      "Epoch 24/30\n",
      "1313/1313 [==============================] - 19s 14ms/step - loss: 0.1885 - accuracy: 0.9476 - val_loss: 0.2039 - val_accuracy: 0.9416\n",
      "Epoch 25/30\n",
      "1313/1313 [==============================] - 16s 12ms/step - loss: 0.1763 - accuracy: 0.9511 - val_loss: 0.2019 - val_accuracy: 0.9421\n",
      "Epoch 26/30\n",
      "1313/1313 [==============================] - 14s 11ms/step - loss: 0.1696 - accuracy: 0.9519 - val_loss: 0.1972 - val_accuracy: 0.9451\n",
      "Epoch 27/30\n",
      "1313/1313 [==============================] - 15s 11ms/step - loss: 0.1720 - accuracy: 0.9518 - val_loss: 0.1944 - val_accuracy: 0.9452\n",
      "Epoch 28/30\n",
      "1313/1313 [==============================] - 14s 11ms/step - loss: 0.1658 - accuracy: 0.9544 - val_loss: 0.1914 - val_accuracy: 0.9458\n",
      "Epoch 29/30\n",
      "1313/1313 [==============================] - 16s 12ms/step - loss: 0.1638 - accuracy: 0.9539 - val_loss: 0.1888 - val_accuracy: 0.9477\n",
      "Epoch 30/30\n",
      "1313/1313 [==============================] - 19s 14ms/step - loss: 0.1639 - accuracy: 0.9551 - val_loss: 0.1861 - val_accuracy: 0.9472\n"
     ]
    }
   ],
   "source": [
    "model.compile(optimizer=keras.optimizers.SGD(learning_rate=0.01, momentum=0.0, nesterov=False, name=\"SGD\"), loss='categorical_crossentropy', metrics=['accuracy'])\n",
    "model_training = model.fit(X_train, y_train, validation_split=0.3, epochs=30, callbacks=[EarlyStopping(patience=3)], verbose=1)"
   ]
  },
  {
   "cell_type": "code",
   "execution_count": 12,
   "metadata": {},
   "outputs": [],
   "source": [
    "model.save('model.h5')\n",
    "# model = keras.models.load_modal('model.h5')"
   ]
  },
  {
   "cell_type": "markdown",
   "metadata": {},
   "source": [
    "# Plotting statistics"
   ]
  },
  {
   "cell_type": "code",
   "execution_count": 9,
   "metadata": {},
   "outputs": [
    {
     "data": {
      "text/plain": [
       "<matplotlib.legend.Legend at 0x1b99adcca08>"
      ]
     },
     "execution_count": 9,
     "metadata": {},
     "output_type": "execute_result"
    },
    {
     "data": {
      "image/png": "[encoded data removed]",
      "text/plain": [
       "<Figure size 432x288 with 1 Axes>"
      ]
     },
     "metadata": {
      "needs_background": "light"
     },
     "output_type": "display_data"
    }
   ],
   "source": [
    "plt.plot(model_training.history['val_loss'], label='Value loss')\n",
    "plt.plot(model_training.history['accuracy'], label='Accuracy')\n",
    "plt.plot(model_training.history['loss'], label='Loss')\n",
    "plt.plot(model_training.history['val_accuracy'], label='Value Accuracy')\n",
    "\n",
    "plt.legend(loc='upper right')"
   ]
  },
  {
   "cell_type": "markdown",
   "metadata": {},
   "source": [
    "# Predicting"
   ]
  },
  {
   "cell_type": "code",
   "execution_count": 10,
   "metadata": {},
   "outputs": [
    {
     "name": "stdout",
     "output_type": "stream",
     "text": [
      "313/313 [==============================] - 2s 5ms/step - loss: 0.1750 - accuracy: 0.9493\n",
      "0.1749941110610962 0.9492999911308289\n"
     ]
    }
   ],
   "source": [
    "val_loss, val_acc = model.evaluate(X_test, y_test)\n",
    "print(val_loss, val_acc)"
   ]
  }
 ],
 "metadata": {
  "kernelspec": {
   "display_name": "deep-learning",
   "language": "python",
   "name": "deep-learning"
  },
  "language_info": {
   "codemirror_mode": {
    "name": "ipython",
    "version": 3
   },
   "file_extension": ".py",
   "mimetype": "text/x-python",
   "name": "python",
   "nbconvert_exporter": "python",
   "pygments_lexer": "ipython3",
   "version": "3.9.7"
  }
 },
 "nbformat": 4,
 "nbformat_minor": 4
}
