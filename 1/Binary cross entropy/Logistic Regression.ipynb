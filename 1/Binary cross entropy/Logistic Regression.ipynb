{
 "cells": [
  {
   "cell_type": "markdown",
   "metadata": {},
   "source": [
    "# Imports"
   ]
  },
  {
   "cell_type": "code",
   "execution_count": 1,
   "metadata": {},
   "outputs": [],
   "source": [
    "from sklearn.linear_model import LogisticRegression\n",
    "from sklearn.metrics import log_loss\n",
    "\n",
    "import pandas as pd\n",
    "import numpy as np\n",
    "\n",
    "import matplotlib.pyplot as plt\n",
    "\n",
    "from ipywidgets import Layout, interact\n",
    "import ipywidgets as widgets"
   ]
  },
  {
   "cell_type": "markdown",
   "metadata": {},
   "source": [
    "# Constants"
   ]
  },
  {
   "cell_type": "code",
   "execution_count": 2,
   "metadata": {},
   "outputs": [],
   "source": [
    "X_min = -30\n",
    "X_max = 30\n",
    "ROWS = 40\n",
    "TRAIN_TEST_SPLIT_RATIO = 0.7"
   ]
  },
  {
   "cell_type": "markdown",
   "metadata": {},
   "source": [
    "# Generate points"
   ]
  },
  {
   "cell_type": "code",
   "execution_count": 3,
   "metadata": {},
   "outputs": [],
   "source": [
    "def generate_np_points(class_a_range, class_b_range):\n",
    "    X_class_a = np.random.uniform(low=class_a_range[0], high=class_a_range[1], size=(ROWS//2,))\n",
    "    X_class_b = np.random.uniform(low=class_b_range[0], high=class_b_range[1], size=(ROWS//2,))\n",
    "\n",
    "    y_class_a = np.ones(ROWS//2)\n",
    "    y_class_b = np.zeros(ROWS//2)\n",
    "                                          \n",
    "    return X_class_a, X_class_b, y_class_a, y_class_b\n",
    "\n",
    "\n",
    "def to_pandas_df(X_class_a, X_class_b, y_class_a, y_class_b):\n",
    "    df = pd.DataFrame(data={\n",
    "        'x': np.concatenate((X_class_a, X_class_b)),\n",
    "        'y': np.concatenate((y_class_a, y_class_b))\n",
    "    })\n",
    "    # Randomly shuffling\n",
    "    df = df.sample(frac=1).reset_index(drop=True)\n",
    "    \n",
    "    return df\n",
    "    \n",
    "\n",
    "def generate_points(class_a_range, class_b_range):\n",
    "    return to_pandas_df(\n",
    "        *generate_np_points(class_a_range, class_b_range)    \n",
    "    )"
   ]
  },
  {
   "cell_type": "markdown",
   "metadata": {},
   "source": [
    "# Train, test split"
   ]
  },
  {
   "cell_type": "code",
   "execution_count": 4,
   "metadata": {},
   "outputs": [],
   "source": [
    "def train_test_split(df):\n",
    "    msk = np.random.rand(len(df)) < TRAIN_TEST_SPLIT_RATIO\n",
    "    train = df[msk]\n",
    "    test = df[~msk]\n",
    "\n",
    "    return train, test"
   ]
  },
  {
   "cell_type": "markdown",
   "metadata": {},
   "source": [
    "# Visualization"
   ]
  },
  {
   "cell_type": "code",
   "execution_count": 5,
   "metadata": {},
   "outputs": [],
   "source": [
    "# Calculate logistic regression curve\n",
    "calc_logistic_curve = lambda a, b, x : 1 / (1 + np.exp(-(a+b*x)))"
   ]
  },
  {
   "cell_type": "code",
   "execution_count": 6,
   "metadata": {},
   "outputs": [],
   "source": [
    "def draw_plt(df, log_curve):\n",
    "    condition = df['y'] == 1\n",
    "\n",
    "    X_class_a = df.loc[condition, 'x']\n",
    "    X_class_b = df.loc[~condition, 'x']\n",
    "    y_class_a = df.loc[condition, 'y']\n",
    "    y_class_b = df.loc[~condition, 'y']\n",
    "    \n",
    "    plt.plot(X_class_a, y_class_a, 'og')\n",
    "    plt.plot(X_class_b, y_class_b, 'or')\n",
    "    \n",
    "    logistic_curve_x = np.arange(-30, 30, 0.5)\n",
    "    logistic_curve_y = calc_logistic_curve(log_curve['intercept'], log_curve['coef'], logistic_curve_x)[0]\n",
    "    plt.plot(logistic_curve_x, logistic_curve_y)    "
   ]
  },
  {
   "cell_type": "markdown",
   "metadata": {},
   "source": [
    "# Training & testing"
   ]
  },
  {
   "cell_type": "code",
   "execution_count": 7,
   "metadata": {},
   "outputs": [],
   "source": [
    "def training(logr, X, y):\n",
    "    logr.fit(X, y)"
   ]
  },
  {
   "cell_type": "code",
   "execution_count": 8,
   "metadata": {},
   "outputs": [],
   "source": [
    "def testing(logr, X):\n",
    "    return logr.predict_proba(X)[:, 1]"
   ]
  },
  {
   "cell_type": "markdown",
   "metadata": {},
   "source": [
    "# Main function"
   ]
  },
  {
   "cell_type": "code",
   "execution_count": 9,
   "metadata": {},
   "outputs": [],
   "source": [
    "def range_changed(green_range, red_range):\n",
    "    df = generate_points(green_range, red_range)\n",
    "    train, test = train_test_split(df)\n",
    "\n",
    "    logr = LogisticRegression(solver='lbfgs')\n",
    "    training(logr, train[['x']], train['y'])\n",
    "    draw_plt(df, {'intercept': logr.intercept_, 'coef': logr.coef_})\n",
    "\n",
    "    y_pred = testing(logr, test[['x']])\n",
    "    print('Log loss: ', log_loss(test['y'], y_pred))"
   ]
  },
  {
   "cell_type": "markdown",
   "metadata": {},
   "source": [
    "# Widgets"
   ]
  },
  {
   "cell_type": "code",
   "execution_count": 10,
   "metadata": {},
   "outputs": [],
   "source": [
    "green_range = widgets.FloatRangeSlider(\n",
    "    value=[10, X_max],\n",
    "    min=X_min,\n",
    "    max=X_max,\n",
    "    step=0.1,\n",
    "    description='Green (True class):',\n",
    "    readout_format='d',\n",
    "    layout=Layout(width='600px')\n",
    ")"
   ]
  },
  {
   "cell_type": "code",
   "execution_count": 11,
   "metadata": {},
   "outputs": [],
   "source": [
    "red_range = widgets.FloatRangeSlider(\n",
    "    value=[X_min, -10],\n",
    "    min=X_min,\n",
    "    max=X_max,\n",
    "    step=0.1,\n",
    "    description='Red (False class):',\n",
    "    readout_format='d',\n",
    "    layout=Layout(width='600px')\n",
    ")"
   ]
  },
  {
   "cell_type": "code",
   "execution_count": 12,
   "metadata": {},
   "outputs": [
    {
     "data": {
      "application/vnd.jupyter.widget-view+json": {
       "model_id": "798780384ff24acaa9d615499598c150",
       "version_major": 2,
       "version_minor": 0
      },
      "text/plain": [
       "interactive(children=(FloatRangeSlider(value=(10.0, 30.0), description='Green (True class):', layout=Layout(wi…"
      ]
     },
     "metadata": {},
     "output_type": "display_data"
    },
    {
     "data": {
      "text/plain": [
       "<function __main__.range_changed(green_range, red_range)>"
      ]
     },
     "execution_count": 12,
     "metadata": {},
     "output_type": "execute_result"
    }
   ],
   "source": [
    "interact(range_changed, green_range=green_range, red_range=red_range)"
   ]
  }
 ],
 "metadata": {
  "kernelspec": {
   "display_name": "Python 3 (ipykernel)",
   "language": "python",
   "name": "python3"
  },
  "language_info": {
   "codemirror_mode": {
    "name": "ipython",
    "version": 3
   },
   "file_extension": ".py",
   "mimetype": "text/x-python",
   "name": "python",
   "nbconvert_exporter": "python",
   "pygments_lexer": "ipython3",
   "version": "3.10.0"
  }
 },
 "nbformat": 4,
 "nbformat_minor": 4
}
