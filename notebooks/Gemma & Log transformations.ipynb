{
 "cells": [
  {
   "cell_type": "code",
   "execution_count": 1,
   "id": "ba6fbc0d-7b0a-49d8-a333-3331e9e72fa9",
   "metadata": {},
   "outputs": [],
   "source": [
    "import numpy as np\n",
    "from matplotlib import pyplot as plt\n",
    "import matplotlib\n",
    "\n",
    "import ipywidgets as widgets\n",
    "from ipywidgets import interact, interactive, fixed, interact_manual, IntSlider, FloatSlider, Layout"
   ]
  },
  {
   "cell_type": "markdown",
   "id": "ace506db-8821-4c3c-ad55-9effd2a85776",
   "metadata": {
    "tags": []
   },
   "source": [
    "# Some constants & functions"
   ]
  },
  {
   "cell_type": "markdown",
   "id": "2105f543-fa33-40b3-8851-40d4364b6a9e",
   "metadata": {},
   "source": [
    "## Constants"
   ]
  },
  {
   "cell_type": "code",
   "execution_count": 2,
   "id": "bccff43c-154d-4b81-a328-b7e4372d6606",
   "metadata": {},
   "outputs": [],
   "source": [
    "no_of_intensity_levels = 256"
   ]
  },
  {
   "cell_type": "markdown",
   "id": "02d7c6fc-2e01-467f-864c-b95c0ecb5382",
   "metadata": {},
   "source": [
    "## Transformation functions"
   ]
  },
  {
   "cell_type": "code",
   "execution_count": 3,
   "id": "62d59537-39f3-4670-a75f-f1d42aa893e5",
   "metadata": {},
   "outputs": [],
   "source": [
    "gemma_transformation = lambda x, c, gemma: c * (x + 1) ** gemma\n",
    "log_transformation = lambda x, c: c * np.log10(x + 1)"
   ]
  },
  {
   "cell_type": "markdown",
   "id": "fdc70f79-da41-4909-91ab-e939bb2316ad",
   "metadata": {},
   "source": [
    "## Input pixels"
   ]
  },
  {
   "cell_type": "code",
   "execution_count": 4,
   "id": "9bd4602a-c2be-4312-8db7-9c969f47b2b4",
   "metadata": {},
   "outputs": [],
   "source": [
    "r = np.arange(0, no_of_intensity_levels)"
   ]
  },
  {
   "cell_type": "markdown",
   "id": "194871fa-bdd7-48ad-9e51-6e328653c1d4",
   "metadata": {},
   "source": [
    "## Rescaling"
   ]
  },
  {
   "cell_type": "code",
   "execution_count": 5,
   "id": "eee789d1-3f90-4089-9922-81361ab02e0e",
   "metadata": {},
   "outputs": [],
   "source": [
    "def rescale(mat):\n",
    "    temp = mat - np.min(mat)\n",
    "    rescaled = no_of_intensity_levels * (temp/np.max(temp))\n",
    "    \n",
    "    return rescaled"
   ]
  },
  {
   "cell_type": "markdown",
   "id": "a85250dc-ab71-415e-a13f-23e6549b83f5",
   "metadata": {},
   "source": [
    "# Transformations"
   ]
  },
  {
   "cell_type": "markdown",
   "id": "5eddc92c-c3be-4c67-ab97-7cd88effc820",
   "metadata": {},
   "source": [
    "## Log transformation with rescaling\n",
    "Here you can see that changing `c` doesn't change anything in graph"
   ]
  },
  {
   "cell_type": "code",
   "execution_count": 6,
   "id": "a619ac73-1c69-4c25-84be-c516616b525a",
   "metadata": {},
   "outputs": [
    {
     "data": {
      "application/vnd.jupyter.widget-view+json": {
       "model_id": "b87349278b5246b98b90714631627135",
       "version_major": 2,
       "version_minor": 0
      },
      "text/plain": [
       "interactive(children=(FloatSlider(value=1.0, description='c', layout=Layout(width='1000px'), min=1e-06), Float…"
      ]
     },
     "metadata": {},
     "output_type": "display_data"
    }
   ],
   "source": [
    "@interact(\n",
    "    c=widgets.FloatSlider(min=1e-6, max=100, step=0.1, value=1, layout=Layout(width='1000px')),\n",
    "    gemma=widgets.FloatSlider(min=1e-14, max=10, step=1e-5, value=1, layout=Layout(width='1000px'))\n",
    ")\n",
    "def _(c, gemma):\n",
    "    fig, (log_plt, gemma_plt) = plt.subplots(1, 2, figsize=(15, 5))\n",
    "\n",
    "    log_plt.plot(r, rescale(log_transformation(r, c)))\n",
    "    gemma_plt.plot(r, rescale(gemma_transformation(r, c, gemma)))"
   ]
  },
  {
   "cell_type": "markdown",
   "id": "68c1cf9e-e36a-4d23-9d15-f150bbb6ad41",
   "metadata": {},
   "source": [
    "## Log transformation without rescaling"
   ]
  },
  {
   "cell_type": "code",
   "execution_count": 7,
   "id": "6cb2a005-05b5-4238-a065-4ed1485228d9",
   "metadata": {},
   "outputs": [
    {
     "data": {
      "application/vnd.jupyter.widget-view+json": {
       "model_id": "941c01c231334ca9935f7ba844a371dd",
       "version_major": 2,
       "version_minor": 0
      },
      "text/plain": [
       "interactive(children=(FloatSlider(value=1.0, description='c', layout=Layout(width='1000px'), min=1e-06), Float…"
      ]
     },
     "metadata": {},
     "output_type": "display_data"
    }
   ],
   "source": [
    "@interact(\n",
    "    c=widgets.FloatSlider(min=1e-6, max=100, step=0.1, value=1, layout=Layout(width='1000px')),\n",
    "    gemma=widgets.FloatSlider(min=1e-14, max=10, step=1e-5, value=1, layout=Layout(width='1000px'))\n",
    ")\n",
    "def _(c, gemma):\n",
    "    fig, (log_plt, gemma_plt) = plt.subplots(1, 2, figsize=(15, 5))\n",
    "\n",
    "    log_plt.plot(r, log_transformation(r, c))\n",
    "    gemma_plt.plot(r, gemma_transformation(r, c, gemma))"
   ]
  }
 ],
 "metadata": {
  "kernelspec": {
   "display_name": "Python 3 (ipykernel)",
   "language": "python",
   "name": "python3"
  },
  "language_info": {
   "codemirror_mode": {
    "name": "ipython",
    "version": 3
   },
   "file_extension": ".py",
   "mimetype": "text/x-python",
   "name": "python",
   "nbconvert_exporter": "python",
   "pygments_lexer": "ipython3",
   "version": "3.9.7"
  }
 },
 "nbformat": 4,
 "nbformat_minor": 5
}
