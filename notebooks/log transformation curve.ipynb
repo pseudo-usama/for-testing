{
 "cells": [
  {
   "cell_type": "code",
   "execution_count": 1,
   "id": "ba6fbc0d-7b0a-49d8-a333-3331e9e72fa9",
   "metadata": {},
   "outputs": [],
   "source": [
    "import numpy as np\n",
    "from matplotlib import pyplot as plt\n",
    "import matplotlib\n",
    "\n",
    "import ipywidgets as widgets\n",
    "from ipywidgets import interact, interactive, fixed, interact_manual, IntSlider, FloatSlider, Layout"
   ]
  },
  {
   "cell_type": "code",
   "execution_count": 2,
   "id": "bccff43c-154d-4b81-a328-b7e4372d6606",
   "metadata": {},
   "outputs": [],
   "source": [
    "no_of_intensity_levels = 256"
   ]
  },
  {
   "cell_type": "code",
   "execution_count": 3,
   "id": "9bd4602a-c2be-4312-8db7-9c969f47b2b4",
   "metadata": {},
   "outputs": [],
   "source": [
    "r = np.arange(0, no_of_intensity_levels)"
   ]
  },
  {
   "cell_type": "markdown",
   "id": "2a42178c-2004-414a-90a5-6adb3ae2e742",
   "metadata": {},
   "source": [
    "## Log transformation with rescaling"
   ]
  },
  {
   "cell_type": "code",
   "execution_count": 4,
   "id": "f9da4262-7971-41d6-8065-09caa886bc09",
   "metadata": {},
   "outputs": [
    {
     "data": {
      "application/vnd.jupyter.widget-view+json": {
       "model_id": "3fd760f485f04f30ad77250ed88ca67d",
       "version_major": 2,
       "version_minor": 0
      },
      "text/plain": [
       "interactive(children=(FloatSlider(value=1.0, description='c', layout=Layout(width='900px'), max=400.0, min=0.0…"
      ]
     },
     "metadata": {},
     "output_type": "display_data"
    }
   ],
   "source": [
    "@interact(c=widgets.FloatSlider(min=0.0001, max=400, step=0.1, value=1, layout=Layout(width='900px')))\n",
    "def callback(c):\n",
    "    s = c * np.log10(r+1)\n",
    "\n",
    "    # Rescaling the transformed image\n",
    "    temp = s - np.min(s)\n",
    "    s_rescaled = no_of_intensity_levels * (temp/np.max(temp))\n",
    "\n",
    "    plt.plot(r, s_rescaled)"
   ]
  },
  {
   "cell_type": "markdown",
   "id": "68c1cf9e-e36a-4d23-9d15-f150bbb6ad41",
   "metadata": {
    "tags": []
   },
   "source": [
    "## Log transformation without rescaling"
   ]
  },
  {
   "cell_type": "code",
   "execution_count": 5,
   "id": "6cb2a005-05b5-4238-a065-4ed1485228d9",
   "metadata": {},
   "outputs": [
    {
     "data": {
      "application/vnd.jupyter.widget-view+json": {
       "model_id": "5894d65f973f496f88ef0645ce3fa0a6",
       "version_major": 2,
       "version_minor": 0
      },
      "text/plain": [
       "interactive(children=(FloatSlider(value=1.0, description='c', layout=Layout(width='900px'), max=400.0, min=0.0…"
      ]
     },
     "metadata": {},
     "output_type": "display_data"
    }
   ],
   "source": [
    "@interact(c=widgets.FloatSlider(min=0.0001, max=400, step=0.1, value=1, layout=Layout(width='900px')))\n",
    "def callback(c):\n",
    "    s = c * np.log10(r+1)\n",
    "\n",
    "    plt.plot(r, s)"
   ]
  }
 ],
 "metadata": {
  "kernelspec": {
   "display_name": "Python 3 (ipykernel)",
   "language": "python",
   "name": "python3"
  },
  "language_info": {
   "codemirror_mode": {
    "name": "ipython",
    "version": 3
   },
   "file_extension": ".py",
   "mimetype": "text/x-python",
   "name": "python",
   "nbconvert_exporter": "python",
   "pygments_lexer": "ipython3",
   "version": "3.9.7"
  }
 },
 "nbformat": 4,
 "nbformat_minor": 5
}
