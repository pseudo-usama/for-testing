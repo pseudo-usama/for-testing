{
 "cells": [
  {
   "cell_type": "markdown",
   "id": "d5408208-732c-4b22-832c-d3ab36aacefd",
   "metadata": {},
   "source": [
    "<h1>This visualization is inspired by video from 3Blue1Brown youtube channel</h1>\n",
    "<h2>\n",
    "    <a href=\"https://www.youtube.com/watch?v=spUNpyF58BY\">But what is the Fourier Transform? A visual introduction</a>\n",
    "</h2>\n",
    "\n",
    "---"
   ]
  },
  {
   "cell_type": "markdown",
   "id": "2ed8e5cc-96de-4ea6-b2e3-b5a4535d9691",
   "metadata": {},
   "source": [
    "# Imports"
   ]
  },
  {
   "cell_type": "code",
   "execution_count": 1,
   "id": "1ae8d6ed-ae34-4654-b5cf-8a9bbf31fab1",
   "metadata": {},
   "outputs": [],
   "source": [
    "import numpy as np\n",
    "from matplotlib import pyplot as plt\n",
    "import matplotlib\n",
    "\n",
    "from ipywidgets import interact, interactive, fixed, interact_manual, IntSlider, FloatSlider, Layout\n",
    "import ipywidgets as widgets"
   ]
  },
  {
   "cell_type": "markdown",
   "id": "986ba997-7a6e-48fa-aabd-20b605bdb37d",
   "metadata": {},
   "source": [
    "# Some constants"
   ]
  },
  {
   "cell_type": "code",
   "execution_count": 2,
   "id": "8d91c5b9-ab37-4998-a13d-f59c38ba2524",
   "metadata": {},
   "outputs": [],
   "source": [
    "f_min, f_max = 0.0, 20\n",
    "f_step = 0.05\n",
    "\n",
    "f_range = np.arange(f_min, f_max, f_step)"
   ]
  },
  {
   "cell_type": "markdown",
   "id": "6105ddde-932b-4a10-bc0d-000063071b78",
   "metadata": {},
   "source": [
    "# Functions"
   ]
  },
  {
   "cell_type": "code",
   "execution_count": 3,
   "id": "c3f018e2-b106-45c1-bec5-3047f110ca46",
   "metadata": {},
   "outputs": [],
   "source": [
    "rotating_arrow = lambda f, t: np.exp(-2*np.pi*1j*f*t)"
   ]
  },
  {
   "cell_type": "code",
   "execution_count": 4,
   "id": "668d3e9d-913c-485c-ac0c-e9602a75889d",
   "metadata": {},
   "outputs": [],
   "source": [
    "original_fn = lambda t: np.sin(18.8495559*t)+1\n",
    "# original_fn = lambda t: np.sin(t)+np.cos(2*t)-np.sin(t/3)+3"
   ]
  },
  {
   "cell_type": "markdown",
   "id": "54197d3f-3532-4b27-84d7-ea946116d91b",
   "metadata": {},
   "source": [
    "# Calculations"
   ]
  },
  {
   "cell_type": "code",
   "execution_count": 5,
   "id": "e4255885-ea35-41b1-a2e6-7aeab7a9d163",
   "metadata": {},
   "outputs": [],
   "source": [
    "t = np.arange(0, 4.5, 0.001)"
   ]
  },
  {
   "cell_type": "code",
   "execution_count": 6,
   "id": "74318eaa-d93e-4216-bee0-5ca1362bc64c",
   "metadata": {},
   "outputs": [],
   "source": [
    "# I'm doing these calculation before hand so that the visualization will run smooth.\n",
    "\n",
    "# Calculating g\n",
    "g = np.array(\n",
    "    [original_fn(t)*rotating_arrow(t, f)\n",
    "     for f in f_range]\n",
    ")\n",
    "\n",
    "# Calculating center_of_mass\n",
    "center_of_mass = np.mean(g, axis=1)"
   ]
  },
  {
   "cell_type": "markdown",
   "id": "34b7ce44-9be6-4ee1-bbf0-38990ba9e489",
   "metadata": {},
   "source": [
    "# Visualization"
   ]
  },
  {
   "cell_type": "markdown",
   "id": "486178fa-b8a4-4352-9e68-d2a6732e565a",
   "metadata": {},
   "source": [
    "## Winding graph"
   ]
  },
  {
   "cell_type": "code",
   "execution_count": 7,
   "id": "ed351439-cc97-40a9-ab24-d62b318ffaef",
   "metadata": {},
   "outputs": [
    {
     "data": {
      "application/vnd.jupyter.widget-view+json": {
       "model_id": "e5dabca31904420295858c13a5a3cd92",
       "version_major": 2,
       "version_minor": 0
      },
      "text/plain": [
       "interactive(children=(FloatSlider(value=2.9, description='f', layout=Layout(width='800px'), max=19.95, step=0.…"
      ]
     },
     "metadata": {},
     "output_type": "display_data"
    }
   ],
   "source": [
    "@interact(f=widgets.FloatSlider(min=f_min, max=f_max-f_step, step=f_step, value=2.9, layout=Layout(width='800px')))\n",
    "def callback(f):\n",
    "    fig, ax = plt.subplots(1, 1)\n",
    "    fig.set_size_inches(14, 14)\n",
    "\n",
    "    ax.set_xlim(-2.3, 2.3)\n",
    "    ax.set_ylim(-2.3, 2.3)\n",
    "\n",
    "    # Moving axis in center\n",
    "    ax.spines['left'].set_position('zero')\n",
    "    ax.spines['bottom'].set_position('zero')\n",
    "    ax.spines['right'].set_color('none')\n",
    "    ax.spines['top'].set_color('none')\n",
    "    \n",
    "    # Axis tick labels\n",
    "    ax.get_xaxis().set_ticklabels([])\n",
    "    ax.get_yaxis().set_ticklabels([])\n",
    "\n",
    "    ith_f = int(f*(1/f_step))\n",
    "\n",
    "    # Winding graph & center of mass\n",
    "    ax.plot(g[ith_f].real, g[ith_f].imag)\n",
    "    ax.scatter(center_of_mass[ith_f].real, center_of_mass[ith_f].imag, c='r', s=100)"
   ]
  },
  {
   "cell_type": "markdown",
   "id": "5298e4d5-ac8a-47b3-8b5d-2f04073a316c",
   "metadata": {},
   "source": [
    "## Center of mass"
   ]
  },
  {
   "cell_type": "code",
   "execution_count": 8,
   "id": "9ac54b2b-2e7e-4865-a96c-f7c54c3a8ac2",
   "metadata": {},
   "outputs": [
    {
     "data": {
      "image/png": "[encoded data removed]",
      "text/plain": [
       "<Figure size 1296x576 with 1 Axes>"
      ]
     },
     "metadata": {
      "needs_background": "light"
     },
     "output_type": "display_data"
    }
   ],
   "source": [
    "def com_graph():\n",
    "    fig, ax = plt.subplots(1, 1)\n",
    "    fig.set_size_inches(18, 8)\n",
    "\n",
    "    ax.plot(f_range, center_of_mass.real)\n",
    "    # ax.plot(f_range, center_of_mass.imag)\n",
    "    ax.legend(['Real', 'Imaginary'])\n",
    "\n",
    "    # Moving axis in center\n",
    "    ax.spines['left'].set_position('zero')\n",
    "    ax.spines['bottom'].set_position('zero')\n",
    "    ax.spines['right'].set_color('none')\n",
    "    ax.spines['top'].set_color('none')\n",
    "\n",
    "    # Axis tick labels\n",
    "    ax.get_xaxis().set_ticklabels([])\n",
    "    ax.get_yaxis().set_ticklabels([])\n",
    "com_graph()"
   ]
  }
 ],
 "metadata": {
  "kernelspec": {
   "display_name": "Python 3 (ipykernel)",
   "language": "python",
   "name": "python3"
  },
  "language_info": {
   "codemirror_mode": {
    "name": "ipython",
    "version": 3
   },
   "file_extension": ".py",
   "mimetype": "text/x-python",
   "name": "python",
   "nbconvert_exporter": "python",
   "pygments_lexer": "ipython3",
   "version": "3.9.7"
  }
 },
 "nbformat": 4,
 "nbformat_minor": 5
}
