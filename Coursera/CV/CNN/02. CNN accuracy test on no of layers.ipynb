{
 "cells": [
  {
   "cell_type": "code",
   "execution_count": 1,
   "id": "7ccc7845-5cf1-4256-b0fc-c29b676505cc",
   "metadata": {},
   "outputs": [],
   "source": [
    "import keras\n",
    "from keras import layers\n",
    "from keras.callbacks import EarlyStopping\n",
    "\n",
    "from keras.datasets import mnist\n",
    "from tensorflow.keras.utils import to_categorical\n",
    "\n",
    "import matplotlib.pyplot as plt\n",
    "\n",
    "from math import floor"
   ]
  },
  {
   "cell_type": "code",
   "execution_count": 2,
   "id": "c4179a03-e113-49a4-94e8-78ad1e31c174",
   "metadata": {},
   "outputs": [],
   "source": [
    "(x_train, y_train), (x_test, y_test) = mnist.load_data()"
   ]
  },
  {
   "cell_type": "code",
   "execution_count": 3,
   "id": "f857f1e9-b5b0-4298-bf66-a5e8cb7f055b",
   "metadata": {},
   "outputs": [],
   "source": [
    "x_train = x_train.reshape(-1, 28, 28, 1)\n",
    "x_test = x_test.reshape(-1, 28, 28, 1)"
   ]
  },
  {
   "cell_type": "code",
   "execution_count": 4,
   "id": "c0280902-7b75-4826-895b-edf9962ac7f1",
   "metadata": {},
   "outputs": [],
   "source": [
    "y_train = to_categorical(y_train)\n",
    "y_test = to_categorical(y_test)"
   ]
  },
  {
   "cell_type": "code",
   "execution_count": 5,
   "id": "bd3110b0-ea4d-4d9c-a179-627ff6d3b120",
   "metadata": {},
   "outputs": [
    {
     "data": {
      "text/plain": [
       "<matplotlib.image.AxesImage at 0x7f439e439310>"
      ]
     },
     "execution_count": 5,
     "metadata": {},
     "output_type": "execute_result"
    },
    {
     "data": {
      "image/png": "[encoded data removed]",
      "text/plain": [
       "<Figure size 432x288 with 1 Axes>"
      ]
     },
     "metadata": {
      "needs_background": "light"
     },
     "output_type": "display_data"
    }
   ],
   "source": [
    "plt.imshow(x_train[20])"
   ]
  },
  {
   "cell_type": "code",
   "execution_count": null,
   "id": "b5f9879c-6e4c-4cab-aa0d-a4964f200797",
   "metadata": {},
   "outputs": [],
   "source": []
  },
  {
   "cell_type": "code",
   "execution_count": null,
   "id": "4ddf3b72-f43b-4c01-a2f2-f3c81e105c15",
   "metadata": {},
   "outputs": [],
   "source": []
  },
  {
   "cell_type": "code",
   "execution_count": 6,
   "id": "14043f51-d6ff-4e9b-9993-d44fef725e8f",
   "metadata": {},
   "outputs": [],
   "source": [
    "def model_build_test(no_of_layers, epochs=10):\n",
    "    model = keras.Sequential()\n",
    "    model.add(layers.Conv2D(6, (5, 5), activation='relu', input_shape=(28, 28, 1)))\n",
    "    model.add(layers.MaxPooling2D((2, 2), strides=(2, 2)))\n",
    "    for i in range(1, no_of_layers):\n",
    "        if i == floor(no_of_layers/2):\n",
    "            model.add(layers.Conv2D(16, 5, activation='relu'))\n",
    "            model.add(layers.MaxPooling2D(2, strides=2))\n",
    "        else:\n",
    "            model.add(layers.Conv2D(16, 5, padding='same', activation='relu'))\n",
    "            model.add(layers.MaxPooling2D(2, strides=1, padding='same'))\n",
    "    model.add(layers.Flatten())\n",
    "    model.add(layers.Dense(120, activation='relu'))\n",
    "    model.add(layers.Dense(84, activation='relu'))\n",
    "    model.add(layers.Dense(10, activation='softmax'))\n",
    "    \n",
    "    model.build()\n",
    "    model.compile(loss='categorical_crossentropy', optimizer='adam', metrics=['accuracy'])\n",
    "    # model.summary()\n",
    "    \n",
    "    history = model.fit(x_train, y_train, epochs=epochs, callbacks=[keras.callbacks.EarlyStopping(monitor='loss', patience=3)], verbose=0)\n",
    "    acc = model.evaluate(x_test, y_test, verbose=0)[1]\n",
    "\n",
    "    return acc, len(history.history['loss'])"
   ]
  },
  {
   "cell_type": "code",
   "execution_count": 13,
   "id": "26e738d3-5d17-4010-9a67-ecd1d2e4d4ad",
   "metadata": {},
   "outputs": [
    {
     "name": "stdout",
     "output_type": "stream",
     "text": [
      "Layers 0, Acc 0.9815000295639038, Epochs 10\n",
      "Layers 1, Acc 0.9793999791145325, Epochs 10\n",
      "Layers 2, Acc 0.9866999983787537, Epochs 10\n",
      "Layers 5, Acc 0.9876000285148621, Epochs 10\n",
      "Layers 10, Acc 0.9851999878883362, Epochs 10\n",
      "Layers 30, Acc 0.11349999904632568, Epochs 5\n",
      "Layers 50, Acc 0.11349999904632568, Epochs 8\n",
      "Layers 100, Acc 0.11349999904632568, Epochs 9\n",
      "\n"
     ]
    }
   ],
   "source": [
    "for i in [0, 1, 2, 5, 10, 30, 50, 100]:\n",
    "    acc, epochs = model_build_test(i)\n",
    "    print(f'Layers {i}, Acc {acc}, Epochs {epochs}')"
   ]
  },
  {
   "cell_type": "code",
   "execution_count": 10,
   "id": "badbd190-e21a-40e0-aa2d-bab4f1d46498",
   "metadata": {},
   "outputs": [
    {
     "data": {
      "text/plain": [
       "[<matplotlib.lines.Line2D at 0x7f42fcb8cc10>]"
      ]
     },
     "execution_count": 10,
     "metadata": {},
     "output_type": "execute_result"
    },
    {
     "data": {
      "image/png": "[encoded data removed]",
      "text/plain": [
       "<Figure size 432x288 with 1 Axes>"
      ]
     },
     "metadata": {
      "needs_background": "light"
     },
     "output_type": "display_data"
    }
   ],
   "source": [
    "plt.plot([0, 1, 2, 5, 10, 30, 50, 100],\n",
    "         [0.9815000295639038, 0.9793999791145325, 0.9866999983787537, 0.9876000285148621, 0.9851999878883362, 0.11349999904632568, 0.11349999904632568, 0.11349999904632568])"
   ]
  }
 ],
 "metadata": {
  "kernelspec": {
   "display_name": "deep-learning",
   "language": "python",
   "name": "deep-learning"
  },
  "language_info": {
   "codemirror_mode": {
    "name": "ipython",
    "version": 3
   },
   "file_extension": ".py",
   "mimetype": "text/x-python",
   "name": "python",
   "nbconvert_exporter": "python",
   "pygments_lexer": "ipython3",
   "version": "3.9.12"
  }
 },
 "nbformat": 4,
 "nbformat_minor": 5
}
