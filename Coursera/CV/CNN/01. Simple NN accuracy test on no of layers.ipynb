{
 "cells": [
  {
   "cell_type": "code",
   "execution_count": 1,
   "id": "7ccc7845-5cf1-4256-b0fc-c29b676505cc",
   "metadata": {},
   "outputs": [],
   "source": [
    "import keras\n",
    "from keras import layers\n",
    "from keras.callbacks import EarlyStopping\n",
    "\n",
    "from keras.datasets import mnist\n",
    "from tensorflow.keras.utils import to_categorical\n",
    "\n",
    "import matplotlib.pyplot as plt"
   ]
  },
  {
   "cell_type": "code",
   "execution_count": 2,
   "id": "c4179a03-e113-49a4-94e8-78ad1e31c174",
   "metadata": {},
   "outputs": [],
   "source": [
    "(x_train, y_train), (x_test, y_test) = mnist.load_data()"
   ]
  },
  {
   "cell_type": "code",
   "execution_count": 3,
   "id": "c0280902-7b75-4826-895b-edf9962ac7f1",
   "metadata": {},
   "outputs": [],
   "source": [
    "y_train = to_categorical(y_train)\n",
    "y_test = to_categorical(y_test)"
   ]
  },
  {
   "cell_type": "code",
   "execution_count": 4,
   "id": "bd3110b0-ea4d-4d9c-a179-627ff6d3b120",
   "metadata": {},
   "outputs": [
    {
     "data": {
      "text/plain": [
       "<matplotlib.image.AxesImage at 0x7f9f2e71deb0>"
      ]
     },
     "execution_count": 4,
     "metadata": {},
     "output_type": "execute_result"
    },
    {
     "data": {
      "image/png": "[encoded data removed]",
      "text/plain": [
       "<Figure size 432x288 with 1 Axes>"
      ]
     },
     "metadata": {
      "needs_background": "light"
     },
     "output_type": "display_data"
    }
   ],
   "source": [
    "plt.imshow(x_train[20])"
   ]
  },
  {
   "cell_type": "code",
   "execution_count": null,
   "id": "b5f9879c-6e4c-4cab-aa0d-a4964f200797",
   "metadata": {},
   "outputs": [],
   "source": []
  },
  {
   "cell_type": "code",
   "execution_count": null,
   "id": "4ddf3b72-f43b-4c01-a2f2-f3c81e105c15",
   "metadata": {},
   "outputs": [],
   "source": []
  },
  {
   "cell_type": "code",
   "execution_count": 5,
   "id": "14043f51-d6ff-4e9b-9993-d44fef725e8f",
   "metadata": {},
   "outputs": [],
   "source": [
    "def model_build_test(no_of_layers, epochs=10):\n",
    "    model = keras.Sequential()\n",
    "    model.add(layers.Flatten(input_shape=(28, 28)))\n",
    "    for _ in range(no_of_layers):\n",
    "        model.add(layers.Dense(100, activation='relu'))\n",
    "    model.add(layers.Dense(10, activation='softmax'))\n",
    "    \n",
    "    model.build()\n",
    "    model.compile(loss='categorical_crossentropy', optimizer='adam', metrics=['accuracy'])\n",
    "    # model.summary()\n",
    "    \n",
    "    model.fit(x_train, y_train, epochs=10, callbacks=[keras.callbacks.EarlyStopping(monitor='loss', patience=3)], verbose=0)\n",
    "    \n",
    "    return model.evaluate(x_test, y_test, verbose=0)[1]"
   ]
  },
  {
   "cell_type": "code",
   "execution_count": 8,
   "id": "3af14dcd-5e2d-4974-8b81-f1836f26ca7f",
   "metadata": {},
   "outputs": [
    {
     "name": "stdout",
     "output_type": "stream",
     "text": [
      "Layers 0 acc: 0.8928999900817871\n",
      "Layers 1 acc: 0.9424999952316284\n",
      "Layers 2 acc: 0.955299973487854\n",
      "Layers 5 acc: 0.9717000126838684\n",
      "Layers 10 acc: 0.9642000198364258\n",
      "Layers 30 acc: 0.7263000011444092\n",
      "Layers 50 acc: 0.11349999904632568\n",
      "Layers 100 acc: 0.11349999904632568\n"
     ]
    }
   ],
   "source": [
    "for i in [0, 1, 2, 5, 10, 30, 50, 100]:\n",
    "    print(f'Layers {i} acc: ', end='')\n",
    "    print(model_build_test(i))"
   ]
  },
  {
   "cell_type": "code",
   "execution_count": 11,
   "id": "255049c6-f344-4049-9979-675ed414013a",
   "metadata": {},
   "outputs": [
    {
     "data": {
      "text/plain": [
       "[<matplotlib.lines.Line2D at 0x7f9e747b7b50>]"
      ]
     },
     "execution_count": 11,
     "metadata": {},
     "output_type": "execute_result"
    },
    {
     "data": {
      "image/png": "[encoded data removed]",
      "text/plain": [
       "<Figure size 432x288 with 1 Axes>"
      ]
     },
     "metadata": {
      "needs_background": "light"
     },
     "output_type": "display_data"
    }
   ],
   "source": [
    "plt.plot([0, 1, 2, 5, 10, 30, 50, 100],\n",
    "         [0.8928999900817871, 0.9424999952316284, 0.955299973487854, 0.9717000126838684, 0.9642000198364258, 0.7263000011444092, 0.11349999904632568, 0.11349999904632568])"
   ]
  }
 ],
 "metadata": {
  "kernelspec": {
   "display_name": "deep-learning",
   "language": "python",
   "name": "deep-learning"
  },
  "language_info": {
   "codemirror_mode": {
    "name": "ipython",
    "version": 3
   },
   "file_extension": ".py",
   "mimetype": "text/x-python",
   "name": "python",
   "nbconvert_exporter": "python",
   "pygments_lexer": "ipython3",
   "version": "3.9.12"
  }
 },
 "nbformat": 4,
 "nbformat_minor": 5
}
