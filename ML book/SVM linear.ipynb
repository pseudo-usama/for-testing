{
 "cells": [
  {
   "cell_type": "raw",
   "id": "640f4692-7992-4116-80e7-3bfcab36a65c",
   "metadata": {
    "tags": []
   },
   "source": [
    "https://medium.com/geekculture/svm-classification-with-sklearn-svm-svc-how-to-plot-a-decision-boundary-with-margins-in-2d-space-7232cb3962c0"
   ]
  },
  {
   "cell_type": "code",
   "execution_count": 1,
   "id": "7bcaed0a-903a-4004-af1e-888597c3c660",
   "metadata": {},
   "outputs": [],
   "source": [
    "import numpy as np\n",
    "\n",
    "from sklearn import datasets\n",
    "from sklearn.pipeline import Pipeline\n",
    "from sklearn.preprocessing import StandardScaler\n",
    "from sklearn.svm import LinearSVC\n",
    "\n",
    "import seaborn as sns\n",
    "import matplotlib.pyplot as plt\n",
    "\n",
    "from ipywidgets import interact, IntSlider"
   ]
  },
  {
   "cell_type": "markdown",
   "id": "61a838f8-ccef-4485-8c78-0820f1c50423",
   "metadata": {},
   "source": [
    "# Data prepration"
   ]
  },
  {
   "cell_type": "code",
   "execution_count": 2,
   "id": "35b9f946-217f-41cc-adb8-6a871f2dcddb",
   "metadata": {},
   "outputs": [],
   "source": [
    "iris = datasets.load_iris()"
   ]
  },
  {
   "cell_type": "code",
   "execution_count": 3,
   "id": "c121928a-c141-4c84-bed9-101667e92cdc",
   "metadata": {},
   "outputs": [],
   "source": [
    "X = iris['data'][:, (2, 3)]\n",
    "y = (iris['target'] == 2).astype(np.int8)"
   ]
  },
  {
   "cell_type": "code",
   "execution_count": 4,
   "id": "5ac0f321-1df5-454f-8db8-d50198c1decb",
   "metadata": {},
   "outputs": [],
   "source": [
    "scaler = StandardScaler()\n",
    "scaler.fit(X)\n",
    "X = scaler.transform(X)"
   ]
  },
  {
   "cell_type": "code",
   "execution_count": 5,
   "id": "8fab434f-fc25-4a9c-99bf-c4bb62536808",
   "metadata": {},
   "outputs": [
    {
     "data": {
      "text/plain": [
       "<AxesSubplot:>"
      ]
     },
     "execution_count": 5,
     "metadata": {},
     "output_type": "execute_result"
    },
    {
     "data": {
      "image/png": "[encoded data removed]",
      "text/plain": [
       "<Figure size 432x288 with 1 Axes>"
      ]
     },
     "metadata": {
      "needs_background": "light"
     },
     "output_type": "display_data"
    }
   ],
   "source": [
    "sns.scatterplot(x=X[:, 0], y=X[:, 1], hue=y)"
   ]
  },
  {
   "cell_type": "code",
   "execution_count": null,
   "id": "c619fe05-2356-432e-acf4-6e3ee9e020d0",
   "metadata": {},
   "outputs": [],
   "source": []
  },
  {
   "cell_type": "code",
   "execution_count": 6,
   "id": "5d70ff27-e4a6-4ae7-af45-8f91e8421983",
   "metadata": {},
   "outputs": [],
   "source": [
    "svm_clf = LinearSVC(C=1, loss='hinge')"
   ]
  },
  {
   "cell_type": "code",
   "execution_count": 7,
   "id": "fa2aaad0-268b-4873-b8ab-df332ba3e640",
   "metadata": {},
   "outputs": [
    {
     "data": {
      "text/plain": [
       "LinearSVC(C=1, loss='hinge')"
      ]
     },
     "execution_count": 7,
     "metadata": {},
     "output_type": "execute_result"
    }
   ],
   "source": [
    "svm_clf.fit(X, y)"
   ]
  },
  {
   "cell_type": "code",
   "execution_count": 8,
   "id": "8185efd6-9140-4d3f-ad13-ad7c4be1d474",
   "metadata": {
    "tags": []
   },
   "outputs": [
    {
     "data": {
      "text/plain": [
       "array([1], dtype=int8)"
      ]
     },
     "execution_count": 8,
     "metadata": {},
     "output_type": "execute_result"
    }
   ],
   "source": [
    "svm_clf.predict([[5.5, 1.7]])"
   ]
  },
  {
   "cell_type": "markdown",
   "id": "88123c65-3c56-4746-ad1b-1134166dec3c",
   "metadata": {
    "tags": []
   },
   "source": [
    "# Plotting decision boundries"
   ]
  },
  {
   "cell_type": "code",
   "execution_count": 24,
   "id": "95742279-cc3c-430d-9659-8e6bb70b95ba",
   "metadata": {},
   "outputs": [
    {
     "data": {
      "application/vnd.jupyter.widget-view+json": {
       "model_id": "77eafa5205f3418b93aaa76022343c0b",
       "version_major": 2,
       "version_minor": 0
      },
      "text/plain": [
       "interactive(children=(IntSlider(value=1, description='c', min=1), Output()), _dom_classes=('widget-interact',)…"
      ]
     },
     "metadata": {},
     "output_type": "display_data"
    }
   ],
   "source": [
    "@interact(c=IntSlider(value=1, min=1, max=100, step=1))\n",
    "def _(c):\n",
    "    svm_clf = LinearSVC(C=c, loss='hinge')\n",
    "    svm_clf.fit(X, y)\n",
    "    \n",
    "    w = svm_clf.coef_[0]\n",
    "    b = svm_clf.intercept_[0]\n",
    "    \n",
    "    boundary_x = np.linspace(-1, 2)\n",
    "    boundary_y = -(w[0]/w[1]) * boundary_x - (b/w[1])\n",
    "    \n",
    "    margin = 1 / np.sqrt(np.sum(w ** 2))\n",
    "    w_hat = w / (np.sqrt(np.sum(w ** 2)))\n",
    "    \n",
    "    margin_line_a = np.column_stack((boundary_x, boundary_y)) + w_hat*margin\n",
    "    margin_line_b = np.column_stack((boundary_x, boundary_y)) - w_hat*margin\n",
    "    \n",
    "    sns.scatterplot(x=X[:, 0], y=X[:, 1], hue=y)\n",
    "    plt.plot(boundary_x, boundary_y, 'r')\n",
    "    plt.plot(margin_line_a[:, 0], margin_line_a[:, 1], '--')\n",
    "    plt.plot(margin_line_b[:, 0], margin_line_b[:, 1], 'b--')\n",
    "    \n",
    "    plt.xlim([-2, 2])\n",
    "    plt.ylim([-2, 2])"
   ]
  }
 ],
 "metadata": {
  "kernelspec": {
   "display_name": "test",
   "language": "python",
   "name": "test"
  },
  "language_info": {
   "codemirror_mode": {
    "name": "ipython",
    "version": 3
   },
   "file_extension": ".py",
   "mimetype": "text/x-python",
   "name": "python",
   "nbconvert_exporter": "python",
   "pygments_lexer": "ipython3",
   "version": "3.10.0"
  }
 },
 "nbformat": 4,
 "nbformat_minor": 5
}
