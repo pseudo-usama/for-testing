{
 "cells": [
  {
   "cell_type": "code",
   "execution_count": 51,
   "id": "39896b4a-9121-449d-bb5d-bf4d0d4243c3",
   "metadata": {
    "tags": []
   },
   "outputs": [],
   "source": [
    "import numpy as np\n",
    "import matplotlib.pyplot as plt\n",
    "import plotly.express as px\n",
    "\n",
    "from sklearn.preprocessing import PolynomialFeatures\n",
    "from sklearn.model_selection import train_test_split\n",
    "from sklearn.linear_model import LinearRegression"
   ]
  },
  {
   "cell_type": "code",
   "execution_count": 81,
   "id": "b5fc3488-ccb1-4ded-9615-ed9ac569a2ea",
   "metadata": {},
   "outputs": [],
   "source": [
    "N = 100\n",
    "X = np.random.rand(N, 1) * 6 - 3\n",
    "y = X**2 + np.random.rand(N, 1)*2 + 2"
   ]
  },
  {
   "cell_type": "markdown",
   "id": "3bd65bbe-35bb-49ed-98d3-3bc26d14d019",
   "metadata": {
    "tags": []
   },
   "source": [
    "# Adding polymonial features"
   ]
  },
  {
   "cell_type": "code",
   "execution_count": 82,
   "id": "26bda71a-2d51-4f06-a1d3-aec256b65a6d",
   "metadata": {},
   "outputs": [],
   "source": [
    "poly_features = PolynomialFeatures(degree=2)\n",
    "X_poly = poly_features.fit_transform(X)[:, 1:]"
   ]
  },
  {
   "cell_type": "code",
   "execution_count": 83,
   "id": "7730ed5f-c88d-4f5d-acb1-1b76ba22a453",
   "metadata": {},
   "outputs": [],
   "source": [
    "X_train, X_test, y_train, y_test = train_test_split(X_poly, y, test_size=0.33, random_state=42)"
   ]
  },
  {
   "cell_type": "code",
   "execution_count": 144,
   "id": "4047ec7f-1db4-4cb8-a172-8ad02a0d8978",
   "metadata": {},
   "outputs": [
    {
     "data": {
      "application/vnd.plotly.v1+json": {
       "config": {
        "plotlyServerURL": "https://plot.ly"
       },
       "data": [
        {
         "hovertemplate": "x=%{x}<br>y=%{y}<br>z=%{z}<extra></extra>",
         "legendgroup": "",
         "marker": {
          "color": "#636efa",
          "symbol": "circle"
         },
         "mode": "markers",
         "name": "",
         "scene": "scene",
         "showlegend": false,
         "type": "scatter3d",
         "x": [
          2.288183134136828,
          -2.3168308774471944,
          1.6839785027735745,
          2.2156543598324454,
          -2.760945886562298,
          2.73971688597235,
          0.15077982482265195,
          -0.759069277828377,
          -1.2122037983582723,
          2.8586541075671565,
          0.911320138220566,
          -1.8281233008087077,
          -1.3437953507130538,
          1.0532010408954813,
          -2.6111370106963347,
          -2.1128699219039446,
          -1.0307883980081645,
          0.2184835820308102,
          2.873752721174844,
          1.0481254124661383,
          1.6600208827175953,
          2.496184060329794,
          0.5542532659335917,
          1.338956638320429,
          0.1571517001123368,
          0.9086703200586337,
          2.841115804184388,
          -2.4203372836690678,
          0.42662051243951327,
          -2.22764958591907,
          2.9868409843218497,
          0.33149558075325647,
          2.27669496190007,
          -2.0088239881791026,
          0.06059785050146527,
          -1.7676256102447587,
          -2.3417801553353694,
          2.4038178063531133,
          1.3283567089780144,
          -2.902177726719263,
          -1.2990839980037507,
          -0.4751547840138013,
          -0.5626429350562665,
          -1.663515895462672,
          0.5609698536841909,
          -0.4619426160464961,
          -2.0381944505209892,
          -2.7938256619994437,
          -0.9619655036218826,
          1.756446962988992,
          2.0857405794092845,
          -0.6529324303861945,
          -0.8620680968302024,
          -1.882877536275276,
          -1.3204681903359416,
          1.3594280350765402,
          2.3779916994465307,
          -1.4286754278799352,
          -0.5046095013208531,
          1.9005116557067154,
          1.997107537822398,
          -0.7785929188586396,
          1.788807714356345,
          1.5043712200950683,
          1.7623020243707703,
          -2.012048056040497,
          0.8874302826131917,
          1.7601879116898713,
          -1.2379480904496,
          2.4966112127158544,
          -2.6720722994690704,
          -1.0537358657179754,
          2.691221339972439,
          2.7869301100911903,
          1.441621482723626,
          -1.238464569145711,
          0.32142394140122565,
          -2.1469863311124415,
          1.7436711125375624,
          -0.5798197913679126,
          1.4912027036902797,
          0.12819576982456393,
          2.5581625923847033,
          -2.216485057072706,
          -1.378838140474215,
          -0.23629576552748865,
          -0.6412429418465715,
          1.192089156829618,
          -2.5140165438274034,
          2.979977730970826,
          1.7005921553570262,
          -2.310350940009025,
          -0.749823672115737,
          -1.279426450397532,
          0.12493413734075798,
          0.8167515493101645,
          0.007334477897439573,
          -0.8428249400762686,
          -1.4581030328145415,
          -2.889615368049653
         ],
         "y": [
          5.235782055348237,
          5.367705314692737,
          2.83578359780353,
          4.909124242244523,
          7.622822188525272,
          7.506048615282031,
          0.02273455557354961,
          0.5761861685428937,
          1.469438048754223,
          8.171903306710576,
          0.8305043943263516,
          3.3420348029597244,
          1.805785944598019,
          1.1092324325433252,
          6.818036488628191,
          4.464219306886381,
          1.062524721468238,
          0.04773507561701377,
          8.25845470245982,
          1.0985668802573125,
          2.7556693310585043,
          6.230934863044537,
          0.30719668279805273,
          1.7928048793023441,
          0.024696656848197843,
          0.8256817505554598,
          8.0719390127863,
          5.8580325667185615,
          0.1820050616341529,
          4.962422677645405,
          8.921219065624717,
          0.10988932005893878,
          5.1833399495411605,
          4.035373815483795,
          0.0036720994853979344,
          3.1245002979931558,
          5.4839342959225466,
          5.778340046140293,
          1.7645315462869011,
          8.422635557465389,
          1.6876192338694092,
          0.22577206877120215,
          0.3165670723687301,
          2.767285134456976,
          0.3146871767424626,
          0.21339098051988054,
          4.154236618134557,
          7.80546182964663,
          0.9253776301585023,
          3.085105933793254,
          4.350313764594578,
          0.4263207586500228,
          0.7431614035724472,
          3.5452278166100535,
          1.7436362416890767,
          1.848044582552063,
          5.654844522636599,
          2.0411134782279157,
          0.2546307488232801,
          3.611944553477081,
          3.9884385176270407,
          0.6062069332968161,
          3.199833038940771,
          2.2631327678503244,
          3.105708425101315,
          4.048337379816344,
          0.7875325064989293,
          3.09826148445915,
          1.5325154746478111,
          6.233067547458529,
          7.139970373589926,
          1.1103592747004112,
          7.242672300723051,
          7.766979438532894,
          2.0782724994502657,
          1.5337944890292716,
          0.10331335010589854,
          4.609550305983662,
          3.0403889486979803,
          0.33619099046192974,
          2.2236855034932,
          0.016434155400912576,
          6.544195849076426,
          4.912806008226598,
          1.901194617626391,
          0.055835688806221896,
          0.41119251046804545,
          1.4210765578307494,
          6.320279182637882,
          8.880267277082032,
          2.892013678861856,
          5.337721466000585,
          0.5622355392651283,
          1.636932041976828,
          0.015608538673079377,
          0.667083093300554,
          5.3794566028029616e-05,
          0.7103538796145658,
          2.1260644543029636,
          8.349876975268732
         ],
         "z": [
          8.089417206880231,
          7.585602373558511,
          5.425560550215943,
          8.040193856489914,
          10.24769842383462,
          9.84528171957837,
          2.6647390262490105,
          3.4035546953352895,
          4.536458752280105,
          11.247885044321562,
          3.4763486168479436,
          5.84224829148754,
          4.424825539837036,
          4.416293104035453,
          10.422340159779177,
          7.442257090320824,
          4.7311008463083795,
          2.807503068323934,
          12.075172625060546,
          4.107535053707718,
          5.497123605691882,
          9.37716140137223,
          4.005438769728267,
          3.8324134730574437,
          2.967287136988055,
          3.168009003329095,
          11.526288831384788,
          9.560325946995583,
          2.4340150471138804,
          7.266755160342198,
          11.817462466361436,
          3.6948061178831657,
          9.16665240211489,
          6.255965980715404,
          3.5640923219109935,
          6.843346476284327,
          8.306676344165142,
          7.810687098736528,
          5.449464287711482,
          11.38595482944824,
          4.810561922935002,
          3.8325847943549203,
          2.7868669614687596,
          5.958279618240131,
          4.211946307303858,
          3.123603867836765,
          6.763979111572329,
          10.709692471276394,
          3.955305169760035,
          5.983012682251561,
          7.693803361478479,
          2.4634997280237676,
          3.89600663215112,
          6.7339756910371715,
          5.478329809852589,
          5.356294112002037,
          8.132984050455224,
          4.411310479781841,
          3.108589544341835,
          7.480481722863925,
          7.050263745203022,
          3.3760139184735642,
          6.320749297796535,
          5.434736541225885,
          6.831283705795679,
          6.888637817498492,
          4.151301938026453,
          5.626381847687312,
          5.386790617692529,
          9.567220940402736,
          11.113091773950693,
          4.9037808381593635,
          10.254706538273721,
          10.35675489221498,
          5.470773722384993,
          4.773589422457376,
          3.821196440946389,
          7.828350303114133,
          6.2273568585970995,
          3.272451515891885,
          5.6281177576629755,
          2.3485957130649564,
          9.27594081382504,
          8.644078898855431,
          4.367975365358307,
          2.561937695955555,
          2.4599188455096317,
          3.5976519748792386,
          8.505823229222516,
          12.693647028414238,
          6.1939292372767945,
          8.31848641458888,
          2.837863182497497,
          3.994639072087895,
          2.8048118261536037,
          3.1184497403742464,
          3.7696290265969132,
          4.005619082864567,
          5.663908946389718,
          10.794078371876099
         ]
        }
       ],
       "layout": {
        "height": 700,
        "legend": {
         "tracegroupgap": 0
        },
        "margin": {
         "t": 60
        },
        "scene": {
         "aspectmode": "auto",
         "aspectratio": {
          "x": 0.7216232954939807,
          "y": 1.0931737524416367,
          "z": 1.2676526240679784
         },
         "camera": {
          "center": {
           "x": 0,
           "y": 0,
           "z": 0
          },
          "eye": {
           "x": 0.5870403204625957,
           "y": 3.1683914593353544,
           "z": 1.5615448301498804
          },
          "projection": {
           "type": "perspective"
          },
          "up": {
           "x": 0,
           "y": 0,
           "z": 1
          }
         },
         "domain": {
          "x": [
           0,
           1
          ],
          "y": [
           0,
           1
          ]
         },
         "xaxis": {
          "title": {
           "text": "x"
          },
          "type": "linear"
         },
         "yaxis": {
          "title": {
           "text": "y"
          },
          "type": "linear"
         },
         "zaxis": {
          "title": {
           "text": "z"
          },
          "type": "linear"
         }
        },
        "template": {
         "data": {
          "bar": [
           {
            "error_x": {
             "color": "#2a3f5f"
            },
            "error_y": {
             "color": "#2a3f5f"
            },
            "marker": {
             "line": {
              "color": "#E5ECF6",
              "width": 0.5
             },
             "pattern": {
              "fillmode": "overlay",
              "size": 10,
              "solidity": 0.2
             }
            },
            "type": "bar"
           }
          ],
          "barpolar": [
           {
            "marker": {
             "line": {
              "color": "#E5ECF6",
              "width": 0.5
             },
             "pattern": {
              "fillmode": "overlay",
              "size": 10,
              "solidity": 0.2
             }
            },
            "type": "barpolar"
           }
          ],
          "carpet": [
           {
            "aaxis": {
             "endlinecolor": "#2a3f5f",
             "gridcolor": "white",
             "linecolor": "white",
             "minorgridcolor": "white",
             "startlinecolor": "#2a3f5f"
            },
            "baxis": {
             "endlinecolor": "#2a3f5f",
             "gridcolor": "white",
             "linecolor": "white",
             "minorgridcolor": "white",
             "startlinecolor": "#2a3f5f"
            },
            "type": "carpet"
           }
          ],
          "choropleth": [
           {
            "colorbar": {
             "outlinewidth": 0,
             "ticks": ""
            },
            "type": "choropleth"
           }
          ],
          "contour": [
           {
            "colorbar": {
             "outlinewidth": 0,
             "ticks": ""
            },
            "colorscale": [
             [
              0,
              "#0d0887"
             ],
             [
              0.1111111111111111,
              "#46039f"
             ],
             [
              0.2222222222222222,
              "#7201a8"
             ],
             [
              0.3333333333333333,
              "#9c179e"
             ],
             [
              0.4444444444444444,
              "#bd3786"
             ],
             [
              0.5555555555555556,
              "#d8576b"
             ],
             [
              0.6666666666666666,
              "#ed7953"
             ],
             [
              0.7777777777777778,
              "#fb9f3a"
             ],
             [
              0.8888888888888888,
              "#fdca26"
             ],
             [
              1,
              "#f0f921"
             ]
            ],
            "type": "contour"
           }
          ],
          "contourcarpet": [
           {
            "colorbar": {
             "outlinewidth": 0,
             "ticks": ""
            },
            "type": "contourcarpet"
           }
          ],
          "heatmap": [
           {
            "colorbar": {
             "outlinewidth": 0,
             "ticks": ""
            },
            "colorscale": [
             [
              0,
              "#0d0887"
             ],
             [
              0.1111111111111111,
              "#46039f"
             ],
             [
              0.2222222222222222,
              "#7201a8"
             ],
             [
              0.3333333333333333,
              "#9c179e"
             ],
             [
              0.4444444444444444,
              "#bd3786"
             ],
             [
              0.5555555555555556,
              "#d8576b"
             ],
             [
              0.6666666666666666,
              "#ed7953"
             ],
             [
              0.7777777777777778,
              "#fb9f3a"
             ],
             [
              0.8888888888888888,
              "#fdca26"
             ],
             [
              1,
              "#f0f921"
             ]
            ],
            "type": "heatmap"
           }
          ],
          "heatmapgl": [
           {
            "colorbar": {
             "outlinewidth": 0,
             "ticks": ""
            },
            "colorscale": [
             [
              0,
              "#0d0887"
             ],
             [
              0.1111111111111111,
              "#46039f"
             ],
             [
              0.2222222222222222,
              "#7201a8"
             ],
             [
              0.3333333333333333,
              "#9c179e"
             ],
             [
              0.4444444444444444,
              "#bd3786"
             ],
             [
              0.5555555555555556,
              "#d8576b"
             ],
             [
              0.6666666666666666,
              "#ed7953"
             ],
             [
              0.7777777777777778,
              "#fb9f3a"
             ],
             [
              0.8888888888888888,
              "#fdca26"
             ],
             [
              1,
              "#f0f921"
             ]
            ],
            "type": "heatmapgl"
           }
          ],
          "histogram": [
           {
            "marker": {
             "pattern": {
              "fillmode": "overlay",
              "size": 10,
              "solidity": 0.2
             }
            },
            "type": "histogram"
           }
          ],
          "histogram2d": [
           {
            "colorbar": {
             "outlinewidth": 0,
             "ticks": ""
            },
            "colorscale": [
             [
              0,
              "#0d0887"
             ],
             [
              0.1111111111111111,
              "#46039f"
             ],
             [
              0.2222222222222222,
              "#7201a8"
             ],
             [
              0.3333333333333333,
              "#9c179e"
             ],
             [
              0.4444444444444444,
              "#bd3786"
             ],
             [
              0.5555555555555556,
              "#d8576b"
             ],
             [
              0.6666666666666666,
              "#ed7953"
             ],
             [
              0.7777777777777778,
              "#fb9f3a"
             ],
             [
              0.8888888888888888,
              "#fdca26"
             ],
             [
              1,
              "#f0f921"
             ]
            ],
            "type": "histogram2d"
           }
          ],
          "histogram2dcontour": [
           {
            "colorbar": {
             "outlinewidth": 0,
             "ticks": ""
            },
            "colorscale": [
             [
              0,
              "#0d0887"
             ],
             [
              0.1111111111111111,
              "#46039f"
             ],
             [
              0.2222222222222222,
              "#7201a8"
             ],
             [
              0.3333333333333333,
              "#9c179e"
             ],
             [
              0.4444444444444444,
              "#bd3786"
             ],
             [
              0.5555555555555556,
              "#d8576b"
             ],
             [
              0.6666666666666666,
              "#ed7953"
             ],
             [
              0.7777777777777778,
              "#fb9f3a"
             ],
             [
              0.8888888888888888,
              "#fdca26"
             ],
             [
              1,
              "#f0f921"
             ]
            ],
            "type": "histogram2dcontour"
           }
          ],
          "mesh3d": [
           {
            "colorbar": {
             "outlinewidth": 0,
             "ticks": ""
            },
            "type": "mesh3d"
           }
          ],
          "parcoords": [
           {
            "line": {
             "colorbar": {
              "outlinewidth": 0,
              "ticks": ""
             }
            },
            "type": "parcoords"
           }
          ],
          "pie": [
           {
            "automargin": true,
            "type": "pie"
           }
          ],
          "scatter": [
           {
            "marker": {
             "colorbar": {
              "outlinewidth": 0,
              "ticks": ""
             }
            },
            "type": "scatter"
           }
          ],
          "scatter3d": [
           {
            "line": {
             "colorbar": {
              "outlinewidth": 0,
              "ticks": ""
             }
            },
            "marker": {
             "colorbar": {
              "outlinewidth": 0,
              "ticks": ""
             }
            },
            "type": "scatter3d"
           }
          ],
          "scattercarpet": [
           {
            "marker": {
             "colorbar": {
              "outlinewidth": 0,
              "ticks": ""
             }
            },
            "type": "scattercarpet"
           }
          ],
          "scattergeo": [
           {
            "marker": {
             "colorbar": {
              "outlinewidth": 0,
              "ticks": ""
             }
            },
            "type": "scattergeo"
           }
          ],
          "scattergl": [
           {
            "marker": {
             "colorbar": {
              "outlinewidth": 0,
              "ticks": ""
             }
            },
            "type": "scattergl"
           }
          ],
          "scattermapbox": [
           {
            "marker": {
             "colorbar": {
              "outlinewidth": 0,
              "ticks": ""
             }
            },
            "type": "scattermapbox"
           }
          ],
          "scatterpolar": [
           {
            "marker": {
             "colorbar": {
              "outlinewidth": 0,
              "ticks": ""
             }
            },
            "type": "scatterpolar"
           }
          ],
          "scatterpolargl": [
           {
            "marker": {
             "colorbar": {
              "outlinewidth": 0,
              "ticks": ""
             }
            },
            "type": "scatterpolargl"
           }
          ],
          "scatterternary": [
           {
            "marker": {
             "colorbar": {
              "outlinewidth": 0,
              "ticks": ""
             }
            },
            "type": "scatterternary"
           }
          ],
          "surface": [
           {
            "colorbar": {
             "outlinewidth": 0,
             "ticks": ""
            },
            "colorscale": [
             [
              0,
              "#0d0887"
             ],
             [
              0.1111111111111111,
              "#46039f"
             ],
             [
              0.2222222222222222,
              "#7201a8"
             ],
             [
              0.3333333333333333,
              "#9c179e"
             ],
             [
              0.4444444444444444,
              "#bd3786"
             ],
             [
              0.5555555555555556,
              "#d8576b"
             ],
             [
              0.6666666666666666,
              "#ed7953"
             ],
             [
              0.7777777777777778,
              "#fb9f3a"
             ],
             [
              0.8888888888888888,
              "#fdca26"
             ],
             [
              1,
              "#f0f921"
             ]
            ],
            "type": "surface"
           }
          ],
          "table": [
           {
            "cells": {
             "fill": {
              "color": "#EBF0F8"
             },
             "line": {
              "color": "white"
             }
            },
            "header": {
             "fill": {
              "color": "#C8D4E3"
             },
             "line": {
              "color": "white"
             }
            },
            "type": "table"
           }
          ]
         },
         "layout": {
          "annotationdefaults": {
           "arrowcolor": "#2a3f5f",
           "arrowhead": 0,
           "arrowwidth": 1
          },
          "autotypenumbers": "strict",
          "coloraxis": {
           "colorbar": {
            "outlinewidth": 0,
            "ticks": ""
           }
          },
          "colorscale": {
           "diverging": [
            [
             0,
             "#8e0152"
            ],
            [
             0.1,
             "#c51b7d"
            ],
            [
             0.2,
             "#de77ae"
            ],
            [
             0.3,
             "#f1b6da"
            ],
            [
             0.4,
             "#fde0ef"
            ],
            [
             0.5,
             "#f7f7f7"
            ],
            [
             0.6,
             "#e6f5d0"
            ],
            [
             0.7,
             "#b8e186"
            ],
            [
             0.8,
             "#7fbc41"
            ],
            [
             0.9,
             "#4d9221"
            ],
            [
             1,
             "#276419"
            ]
           ],
           "sequential": [
            [
             0,
             "#0d0887"
            ],
            [
             0.1111111111111111,
             "#46039f"
            ],
            [
             0.2222222222222222,
             "#7201a8"
            ],
            [
             0.3333333333333333,
             "#9c179e"
            ],
            [
             0.4444444444444444,
             "#bd3786"
            ],
            [
             0.5555555555555556,
             "#d8576b"
            ],
            [
             0.6666666666666666,
             "#ed7953"
            ],
            [
             0.7777777777777778,
             "#fb9f3a"
            ],
            [
             0.8888888888888888,
             "#fdca26"
            ],
            [
             1,
             "#f0f921"
            ]
           ],
           "sequentialminus": [
            [
             0,
             "#0d0887"
            ],
            [
             0.1111111111111111,
             "#46039f"
            ],
            [
             0.2222222222222222,
             "#7201a8"
            ],
            [
             0.3333333333333333,
             "#9c179e"
            ],
            [
             0.4444444444444444,
             "#bd3786"
            ],
            [
             0.5555555555555556,
             "#d8576b"
            ],
            [
             0.6666666666666666,
             "#ed7953"
            ],
            [
             0.7777777777777778,
             "#fb9f3a"
            ],
            [
             0.8888888888888888,
             "#fdca26"
            ],
            [
             1,
             "#f0f921"
            ]
           ]
          },
          "colorway": [
           "#636efa",
           "#EF553B",
           "#00cc96",
           "#ab63fa",
           "#FFA15A",
           "#19d3f3",
           "#FF6692",
           "#B6E880",
           "#FF97FF",
           "#FECB52"
          ],
          "font": {
           "color": "#2a3f5f"
          },
          "geo": {
           "bgcolor": "white",
           "lakecolor": "white",
           "landcolor": "#E5ECF6",
           "showlakes": true,
           "showland": true,
           "subunitcolor": "white"
          },
          "hoverlabel": {
           "align": "left"
          },
          "hovermode": "closest",
          "mapbox": {
           "style": "light"
          },
          "paper_bgcolor": "white",
          "plot_bgcolor": "#E5ECF6",
          "polar": {
           "angularaxis": {
            "gridcolor": "white",
            "linecolor": "white",
            "ticks": ""
           },
           "bgcolor": "#E5ECF6",
           "radialaxis": {
            "gridcolor": "white",
            "linecolor": "white",
            "ticks": ""
           }
          },
          "scene": {
           "xaxis": {
            "backgroundcolor": "#E5ECF6",
            "gridcolor": "white",
            "gridwidth": 2,
            "linecolor": "white",
            "showbackground": true,
            "ticks": "",
            "zerolinecolor": "white"
           },
           "yaxis": {
            "backgroundcolor": "#E5ECF6",
            "gridcolor": "white",
            "gridwidth": 2,
            "linecolor": "white",
            "showbackground": true,
            "ticks": "",
            "zerolinecolor": "white"
           },
           "zaxis": {
            "backgroundcolor": "#E5ECF6",
            "gridcolor": "white",
            "gridwidth": 2,
            "linecolor": "white",
            "showbackground": true,
            "ticks": "",
            "zerolinecolor": "white"
           }
          },
          "shapedefaults": {
           "line": {
            "color": "#2a3f5f"
           }
          },
          "ternary": {
           "aaxis": {
            "gridcolor": "white",
            "linecolor": "white",
            "ticks": ""
           },
           "baxis": {
            "gridcolor": "white",
            "linecolor": "white",
            "ticks": ""
           },
           "bgcolor": "#E5ECF6",
           "caxis": {
            "gridcolor": "white",
            "linecolor": "white",
            "ticks": ""
           }
          },
          "title": {
           "x": 0.05
          },
          "xaxis": {
           "automargin": true,
           "gridcolor": "white",
           "linecolor": "white",
           "ticks": "",
           "title": {
            "standoff": 15
           },
           "zerolinecolor": "white",
           "zerolinewidth": 2
          },
          "yaxis": {
           "automargin": true,
           "gridcolor": "white",
           "linecolor": "white",
           "ticks": "",
           "title": {
            "standoff": 15
           },
           "zerolinecolor": "white",
           "zerolinewidth": 2
          }
         }
        },
        "width": 700
       }
      },
      "image/png": "[encoded data removed]",
      "text/html": [
       "<div>                            <div id=\"7b7f0c2d-f9bd-490d-9193-1d8a36001cd2\" class=\"plotly-graph-div\" style=\"height:700px; width:700px;\"></div>            <script type=\"text/javascript\">                require([\"plotly\"], function(Plotly) {                    window.PLOTLYENV=window.PLOTLYENV || {};                                    if (document.getElementById(\"7b7f0c2d-f9bd-490d-9193-1d8a36001cd2\")) {                    Plotly.newPlot(                        \"7b7f0c2d-f9bd-490d-9193-1d8a36001cd2\",                        [{\"hovertemplate\":\"x=%{x}<br>y=%{y}<br>z=%{z}<extra></extra>\",\"legendgroup\":\"\",\"marker\":{\"color\":\"#636efa\",\"symbol\":\"circle\"},\"mode\":\"markers\",\"name\":\"\",\"scene\":\"scene\",\"showlegend\":false,\"type\":\"scatter3d\",\"x\":[2.288183134136828,-2.3168308774471944,1.6839785027735745,2.2156543598324454,-2.760945886562298,2.73971688597235,0.15077982482265195,-0.759069277828377,-1.2122037983582723,2.8586541075671565,0.911320138220566,-1.8281233008087077,-1.3437953507130538,1.0532010408954813,-2.6111370106963347,-2.1128699219039446,-1.0307883980081645,0.2184835820308102,2.873752721174844,1.0481254124661383,1.6600208827175953,2.496184060329794,0.5542532659335917,1.338956638320429,0.1571517001123368,0.9086703200586337,2.841115804184388,-2.4203372836690678,0.42662051243951327,-2.22764958591907,2.9868409843218497,0.33149558075325647,2.27669496190007,-2.0088239881791026,0.06059785050146527,-1.7676256102447587,-2.3417801553353694,2.4038178063531133,1.3283567089780144,-2.902177726719263,-1.2990839980037507,-0.4751547840138013,-0.5626429350562665,-1.663515895462672,0.5609698536841909,-0.4619426160464961,-2.0381944505209892,-2.7938256619994437,-0.9619655036218826,1.756446962988992,2.0857405794092845,-0.6529324303861945,-0.8620680968302024,-1.882877536275276,-1.3204681903359416,1.3594280350765402,2.3779916994465307,-1.4286754278799352,-0.5046095013208531,1.9005116557067154,1.997107537822398,-0.7785929188586396,1.788807714356345,1.5043712200950683,1.7623020243707703,-2.012048056040497,0.8874302826131917,1.7601879116898713,-1.2379480904496,2.4966112127158544,-2.6720722994690704,-1.0537358657179754,2.691221339972439,2.7869301100911903,1.441621482723626,-1.238464569145711,0.32142394140122565,-2.1469863311124415,1.7436711125375624,-0.5798197913679126,1.4912027036902797,0.12819576982456393,2.5581625923847033,-2.216485057072706,-1.378838140474215,-0.23629576552748865,-0.6412429418465715,1.192089156829618,-2.5140165438274034,2.979977730970826,1.7005921553570262,-2.310350940009025,-0.749823672115737,-1.279426450397532,0.12493413734075798,0.8167515493101645,0.007334477897439573,-0.8428249400762686,-1.4581030328145415,-2.889615368049653],\"y\":[5.235782055348237,5.367705314692737,2.83578359780353,4.909124242244523,7.622822188525272,7.506048615282031,0.02273455557354961,0.5761861685428937,1.469438048754223,8.171903306710576,0.8305043943263516,3.3420348029597244,1.805785944598019,1.1092324325433252,6.818036488628191,4.464219306886381,1.062524721468238,0.04773507561701377,8.25845470245982,1.0985668802573125,2.7556693310585043,6.230934863044537,0.30719668279805273,1.7928048793023441,0.024696656848197843,0.8256817505554598,8.0719390127863,5.8580325667185615,0.1820050616341529,4.962422677645405,8.921219065624717,0.10988932005893878,5.1833399495411605,4.035373815483795,0.0036720994853979344,3.1245002979931558,5.4839342959225466,5.778340046140293,1.7645315462869011,8.422635557465389,1.6876192338694092,0.22577206877120215,0.3165670723687301,2.767285134456976,0.3146871767424626,0.21339098051988054,4.154236618134557,7.80546182964663,0.9253776301585023,3.085105933793254,4.350313764594578,0.4263207586500228,0.7431614035724472,3.5452278166100535,1.7436362416890767,1.848044582552063,5.654844522636599,2.0411134782279157,0.2546307488232801,3.611944553477081,3.9884385176270407,0.6062069332968161,3.199833038940771,2.2631327678503244,3.105708425101315,4.048337379816344,0.7875325064989293,3.09826148445915,1.5325154746478111,6.233067547458529,7.139970373589926,1.1103592747004112,7.242672300723051,7.766979438532894,2.0782724994502657,1.5337944890292716,0.10331335010589854,4.609550305983662,3.0403889486979803,0.33619099046192974,2.2236855034932,0.016434155400912576,6.544195849076426,4.912806008226598,1.901194617626391,0.055835688806221896,0.41119251046804545,1.4210765578307494,6.320279182637882,8.880267277082032,2.892013678861856,5.337721466000585,0.5622355392651283,1.636932041976828,0.015608538673079377,0.667083093300554,5.3794566028029616e-05,0.7103538796145658,2.1260644543029636,8.349876975268732],\"z\":[8.089417206880231,7.585602373558511,5.425560550215943,8.040193856489914,10.24769842383462,9.84528171957837,2.6647390262490105,3.4035546953352895,4.536458752280105,11.247885044321562,3.4763486168479436,5.84224829148754,4.424825539837036,4.416293104035453,10.422340159779177,7.442257090320824,4.7311008463083795,2.807503068323934,12.075172625060546,4.107535053707718,5.497123605691882,9.37716140137223,4.005438769728267,3.8324134730574437,2.967287136988055,3.168009003329095,11.526288831384788,9.560325946995583,2.4340150471138804,7.266755160342198,11.817462466361436,3.6948061178831657,9.16665240211489,6.255965980715404,3.5640923219109935,6.843346476284327,8.306676344165142,7.810687098736528,5.449464287711482,11.38595482944824,4.810561922935002,3.8325847943549203,2.7868669614687596,5.958279618240131,4.211946307303858,3.123603867836765,6.763979111572329,10.709692471276394,3.955305169760035,5.983012682251561,7.693803361478479,2.4634997280237676,3.89600663215112,6.7339756910371715,5.478329809852589,5.356294112002037,8.132984050455224,4.411310479781841,3.108589544341835,7.480481722863925,7.050263745203022,3.3760139184735642,6.320749297796535,5.434736541225885,6.831283705795679,6.888637817498492,4.151301938026453,5.626381847687312,5.386790617692529,9.567220940402736,11.113091773950693,4.9037808381593635,10.254706538273721,10.35675489221498,5.470773722384993,4.773589422457376,3.821196440946389,7.828350303114133,6.2273568585970995,3.272451515891885,5.6281177576629755,2.3485957130649564,9.27594081382504,8.644078898855431,4.367975365358307,2.561937695955555,2.4599188455096317,3.5976519748792386,8.505823229222516,12.693647028414238,6.1939292372767945,8.31848641458888,2.837863182497497,3.994639072087895,2.8048118261536037,3.1184497403742464,3.7696290265969132,4.005619082864567,5.663908946389718,10.794078371876099]}],                        {\"height\":700,\"legend\":{\"tracegroupgap\":0},\"margin\":{\"t\":60},\"scene\":{\"domain\":{\"x\":[0.0,1.0],\"y\":[0.0,1.0]},\"xaxis\":{\"title\":{\"text\":\"x\"}},\"yaxis\":{\"title\":{\"text\":\"y\"}},\"zaxis\":{\"title\":{\"text\":\"z\"}}},\"template\":{\"data\":{\"bar\":[{\"error_x\":{\"color\":\"#2a3f5f\"},\"error_y\":{\"color\":\"#2a3f5f\"},\"marker\":{\"line\":{\"color\":\"#E5ECF6\",\"width\":0.5},\"pattern\":{\"fillmode\":\"overlay\",\"size\":10,\"solidity\":0.2}},\"type\":\"bar\"}],\"barpolar\":[{\"marker\":{\"line\":{\"color\":\"#E5ECF6\",\"width\":0.5},\"pattern\":{\"fillmode\":\"overlay\",\"size\":10,\"solidity\":0.2}},\"type\":\"barpolar\"}],\"carpet\":[{\"aaxis\":{\"endlinecolor\":\"#2a3f5f\",\"gridcolor\":\"white\",\"linecolor\":\"white\",\"minorgridcolor\":\"white\",\"startlinecolor\":\"#2a3f5f\"},\"baxis\":{\"endlinecolor\":\"#2a3f5f\",\"gridcolor\":\"white\",\"linecolor\":\"white\",\"minorgridcolor\":\"white\",\"startlinecolor\":\"#2a3f5f\"},\"type\":\"carpet\"}],\"choropleth\":[{\"colorbar\":{\"outlinewidth\":0,\"ticks\":\"\"},\"type\":\"choropleth\"}],\"contour\":[{\"colorbar\":{\"outlinewidth\":0,\"ticks\":\"\"},\"colorscale\":[[0.0,\"#0d0887\"],[0.1111111111111111,\"#46039f\"],[0.2222222222222222,\"#7201a8\"],[0.3333333333333333,\"#9c179e\"],[0.4444444444444444,\"#bd3786\"],[0.5555555555555556,\"#d8576b\"],[0.6666666666666666,\"#ed7953\"],[0.7777777777777778,\"#fb9f3a\"],[0.8888888888888888,\"#fdca26\"],[1.0,\"#f0f921\"]],\"type\":\"contour\"}],\"contourcarpet\":[{\"colorbar\":{\"outlinewidth\":0,\"ticks\":\"\"},\"type\":\"contourcarpet\"}],\"heatmap\":[{\"colorbar\":{\"outlinewidth\":0,\"ticks\":\"\"},\"colorscale\":[[0.0,\"#0d0887\"],[0.1111111111111111,\"#46039f\"],[0.2222222222222222,\"#7201a8\"],[0.3333333333333333,\"#9c179e\"],[0.4444444444444444,\"#bd3786\"],[0.5555555555555556,\"#d8576b\"],[0.6666666666666666,\"#ed7953\"],[0.7777777777777778,\"#fb9f3a\"],[0.8888888888888888,\"#fdca26\"],[1.0,\"#f0f921\"]],\"type\":\"heatmap\"}],\"heatmapgl\":[{\"colorbar\":{\"outlinewidth\":0,\"ticks\":\"\"},\"colorscale\":[[0.0,\"#0d0887\"],[0.1111111111111111,\"#46039f\"],[0.2222222222222222,\"#7201a8\"],[0.3333333333333333,\"#9c179e\"],[0.4444444444444444,\"#bd3786\"],[0.5555555555555556,\"#d8576b\"],[0.6666666666666666,\"#ed7953\"],[0.7777777777777778,\"#fb9f3a\"],[0.8888888888888888,\"#fdca26\"],[1.0,\"#f0f921\"]],\"type\":\"heatmapgl\"}],\"histogram\":[{\"marker\":{\"pattern\":{\"fillmode\":\"overlay\",\"size\":10,\"solidity\":0.2}},\"type\":\"histogram\"}],\"histogram2d\":[{\"colorbar\":{\"outlinewidth\":0,\"ticks\":\"\"},\"colorscale\":[[0.0,\"#0d0887\"],[0.1111111111111111,\"#46039f\"],[0.2222222222222222,\"#7201a8\"],[0.3333333333333333,\"#9c179e\"],[0.4444444444444444,\"#bd3786\"],[0.5555555555555556,\"#d8576b\"],[0.6666666666666666,\"#ed7953\"],[0.7777777777777778,\"#fb9f3a\"],[0.8888888888888888,\"#fdca26\"],[1.0,\"#f0f921\"]],\"type\":\"histogram2d\"}],\"histogram2dcontour\":[{\"colorbar\":{\"outlinewidth\":0,\"ticks\":\"\"},\"colorscale\":[[0.0,\"#0d0887\"],[0.1111111111111111,\"#46039f\"],[0.2222222222222222,\"#7201a8\"],[0.3333333333333333,\"#9c179e\"],[0.4444444444444444,\"#bd3786\"],[0.5555555555555556,\"#d8576b\"],[0.6666666666666666,\"#ed7953\"],[0.7777777777777778,\"#fb9f3a\"],[0.8888888888888888,\"#fdca26\"],[1.0,\"#f0f921\"]],\"type\":\"histogram2dcontour\"}],\"mesh3d\":[{\"colorbar\":{\"outlinewidth\":0,\"ticks\":\"\"},\"type\":\"mesh3d\"}],\"parcoords\":[{\"line\":{\"colorbar\":{\"outlinewidth\":0,\"ticks\":\"\"}},\"type\":\"parcoords\"}],\"pie\":[{\"automargin\":true,\"type\":\"pie\"}],\"scatter\":[{\"marker\":{\"colorbar\":{\"outlinewidth\":0,\"ticks\":\"\"}},\"type\":\"scatter\"}],\"scatter3d\":[{\"line\":{\"colorbar\":{\"outlinewidth\":0,\"ticks\":\"\"}},\"marker\":{\"colorbar\":{\"outlinewidth\":0,\"ticks\":\"\"}},\"type\":\"scatter3d\"}],\"scattercarpet\":[{\"marker\":{\"colorbar\":{\"outlinewidth\":0,\"ticks\":\"\"}},\"type\":\"scattercarpet\"}],\"scattergeo\":[{\"marker\":{\"colorbar\":{\"outlinewidth\":0,\"ticks\":\"\"}},\"type\":\"scattergeo\"}],\"scattergl\":[{\"marker\":{\"colorbar\":{\"outlinewidth\":0,\"ticks\":\"\"}},\"type\":\"scattergl\"}],\"scattermapbox\":[{\"marker\":{\"colorbar\":{\"outlinewidth\":0,\"ticks\":\"\"}},\"type\":\"scattermapbox\"}],\"scatterpolar\":[{\"marker\":{\"colorbar\":{\"outlinewidth\":0,\"ticks\":\"\"}},\"type\":\"scatterpolar\"}],\"scatterpolargl\":[{\"marker\":{\"colorbar\":{\"outlinewidth\":0,\"ticks\":\"\"}},\"type\":\"scatterpolargl\"}],\"scatterternary\":[{\"marker\":{\"colorbar\":{\"outlinewidth\":0,\"ticks\":\"\"}},\"type\":\"scatterternary\"}],\"surface\":[{\"colorbar\":{\"outlinewidth\":0,\"ticks\":\"\"},\"colorscale\":[[0.0,\"#0d0887\"],[0.1111111111111111,\"#46039f\"],[0.2222222222222222,\"#7201a8\"],[0.3333333333333333,\"#9c179e\"],[0.4444444444444444,\"#bd3786\"],[0.5555555555555556,\"#d8576b\"],[0.6666666666666666,\"#ed7953\"],[0.7777777777777778,\"#fb9f3a\"],[0.8888888888888888,\"#fdca26\"],[1.0,\"#f0f921\"]],\"type\":\"surface\"}],\"table\":[{\"cells\":{\"fill\":{\"color\":\"#EBF0F8\"},\"line\":{\"color\":\"white\"}},\"header\":{\"fill\":{\"color\":\"#C8D4E3\"},\"line\":{\"color\":\"white\"}},\"type\":\"table\"}]},\"layout\":{\"annotationdefaults\":{\"arrowcolor\":\"#2a3f5f\",\"arrowhead\":0,\"arrowwidth\":1},\"autotypenumbers\":\"strict\",\"coloraxis\":{\"colorbar\":{\"outlinewidth\":0,\"ticks\":\"\"}},\"colorscale\":{\"diverging\":[[0,\"#8e0152\"],[0.1,\"#c51b7d\"],[0.2,\"#de77ae\"],[0.3,\"#f1b6da\"],[0.4,\"#fde0ef\"],[0.5,\"#f7f7f7\"],[0.6,\"#e6f5d0\"],[0.7,\"#b8e186\"],[0.8,\"#7fbc41\"],[0.9,\"#4d9221\"],[1,\"#276419\"]],\"sequential\":[[0.0,\"#0d0887\"],[0.1111111111111111,\"#46039f\"],[0.2222222222222222,\"#7201a8\"],[0.3333333333333333,\"#9c179e\"],[0.4444444444444444,\"#bd3786\"],[0.5555555555555556,\"#d8576b\"],[0.6666666666666666,\"#ed7953\"],[0.7777777777777778,\"#fb9f3a\"],[0.8888888888888888,\"#fdca26\"],[1.0,\"#f0f921\"]],\"sequentialminus\":[[0.0,\"#0d0887\"],[0.1111111111111111,\"#46039f\"],[0.2222222222222222,\"#7201a8\"],[0.3333333333333333,\"#9c179e\"],[0.4444444444444444,\"#bd3786\"],[0.5555555555555556,\"#d8576b\"],[0.6666666666666666,\"#ed7953\"],[0.7777777777777778,\"#fb9f3a\"],[0.8888888888888888,\"#fdca26\"],[1.0,\"#f0f921\"]]},\"colorway\":[\"#636efa\",\"#EF553B\",\"#00cc96\",\"#ab63fa\",\"#FFA15A\",\"#19d3f3\",\"#FF6692\",\"#B6E880\",\"#FF97FF\",\"#FECB52\"],\"font\":{\"color\":\"#2a3f5f\"},\"geo\":{\"bgcolor\":\"white\",\"lakecolor\":\"white\",\"landcolor\":\"#E5ECF6\",\"showlakes\":true,\"showland\":true,\"subunitcolor\":\"white\"},\"hoverlabel\":{\"align\":\"left\"},\"hovermode\":\"closest\",\"mapbox\":{\"style\":\"light\"},\"paper_bgcolor\":\"white\",\"plot_bgcolor\":\"#E5ECF6\",\"polar\":{\"angularaxis\":{\"gridcolor\":\"white\",\"linecolor\":\"white\",\"ticks\":\"\"},\"bgcolor\":\"#E5ECF6\",\"radialaxis\":{\"gridcolor\":\"white\",\"linecolor\":\"white\",\"ticks\":\"\"}},\"scene\":{\"xaxis\":{\"backgroundcolor\":\"#E5ECF6\",\"gridcolor\":\"white\",\"gridwidth\":2,\"linecolor\":\"white\",\"showbackground\":true,\"ticks\":\"\",\"zerolinecolor\":\"white\"},\"yaxis\":{\"backgroundcolor\":\"#E5ECF6\",\"gridcolor\":\"white\",\"gridwidth\":2,\"linecolor\":\"white\",\"showbackground\":true,\"ticks\":\"\",\"zerolinecolor\":\"white\"},\"zaxis\":{\"backgroundcolor\":\"#E5ECF6\",\"gridcolor\":\"white\",\"gridwidth\":2,\"linecolor\":\"white\",\"showbackground\":true,\"ticks\":\"\",\"zerolinecolor\":\"white\"}},\"shapedefaults\":{\"line\":{\"color\":\"#2a3f5f\"}},\"ternary\":{\"aaxis\":{\"gridcolor\":\"white\",\"linecolor\":\"white\",\"ticks\":\"\"},\"baxis\":{\"gridcolor\":\"white\",\"linecolor\":\"white\",\"ticks\":\"\"},\"bgcolor\":\"#E5ECF6\",\"caxis\":{\"gridcolor\":\"white\",\"linecolor\":\"white\",\"ticks\":\"\"}},\"title\":{\"x\":0.05},\"xaxis\":{\"automargin\":true,\"gridcolor\":\"white\",\"linecolor\":\"white\",\"ticks\":\"\",\"title\":{\"standoff\":15},\"zerolinecolor\":\"white\",\"zerolinewidth\":2},\"yaxis\":{\"automargin\":true,\"gridcolor\":\"white\",\"linecolor\":\"white\",\"ticks\":\"\",\"title\":{\"standoff\":15},\"zerolinecolor\":\"white\",\"zerolinewidth\":2}}},\"width\":700},                        {\"responsive\": true}                    ).then(function(){\n",
       "                            \n",
       "var gd = document.getElementById('7b7f0c2d-f9bd-490d-9193-1d8a36001cd2');\n",
       "var x = new MutationObserver(function (mutations, observer) {{\n",
       "        var display = window.getComputedStyle(gd).display;\n",
       "        if (!display || display === 'none') {{\n",
       "            console.log([gd, 'removed!']);\n",
       "            Plotly.purge(gd);\n",
       "            observer.disconnect();\n",
       "        }}\n",
       "}});\n",
       "\n",
       "// Listen for the removal of the full notebook cells\n",
       "var notebookContainer = gd.closest('#notebook-container');\n",
       "if (notebookContainer) {{\n",
       "    x.observe(notebookContainer, {childList: true});\n",
       "}}\n",
       "\n",
       "// Listen for the clearing of the current output cell\n",
       "var outputEl = gd.closest('.output');\n",
       "if (outputEl) {{\n",
       "    x.observe(outputEl, {childList: true});\n",
       "}}\n",
       "\n",
       "                        })                };                });            </script>        </div>"
      ]
     },
     "metadata": {},
     "output_type": "display_data"
    }
   ],
   "source": [
    "px.scatter_3d(x=(X_poly[:, 0]),\n",
    "              y=(X_poly[:, 1]),\n",
    "              z=(y.flatten()),\n",
    "              width=700, height=700)"
   ]
  },
  {
   "cell_type": "markdown",
   "id": "b0262907-c244-4758-9975-b7c1d8590cbe",
   "metadata": {
    "tags": []
   },
   "source": [
    "# Training & testing"
   ]
  },
  {
   "cell_type": "code",
   "execution_count": 85,
   "id": "809ad42c-0ead-46a4-9bed-b80b74e16ac3",
   "metadata": {},
   "outputs": [
    {
     "data": {
      "text/plain": [
       "LinearRegression()"
      ]
     },
     "execution_count": 85,
     "metadata": {},
     "output_type": "execute_result"
    }
   ],
   "source": [
    "lr = LinearRegression()\n",
    "lr.fit(X_poly, y)"
   ]
  },
  {
   "cell_type": "code",
   "execution_count": 88,
   "id": "9002bb84-62ce-4688-8243-78924613e2d8",
   "metadata": {},
   "outputs": [
    {
     "data": {
      "text/plain": [
       "0.9739252396180085"
      ]
     },
     "execution_count": 88,
     "metadata": {},
     "output_type": "execute_result"
    }
   ],
   "source": [
    "lr.score(X_test, y_test)"
   ]
  },
  {
   "cell_type": "markdown",
   "id": "3fc62463-3553-42f4-b864-539349e3b708",
   "metadata": {},
   "source": [
    "# Visualizing learning curve"
   ]
  },
  {
   "cell_type": "code",
   "execution_count": 190,
   "id": "63544929-a7a2-47c1-b3d9-e8bf76a20013",
   "metadata": {},
   "outputs": [],
   "source": [
    "curve_x = X_poly[X_poly[:, 0].argsort()]\n",
    "curve_y = np.sum(curve_x * lr.coef_, axis=1) + lr.intercept_"
   ]
  },
  {
   "cell_type": "code",
   "execution_count": 191,
   "id": "d92bf9ea-c428-41f0-a462-c3000d73df1d",
   "metadata": {
    "tags": []
   },
   "outputs": [
    {
     "data": {
      "text/plain": [
       "[<matplotlib.lines.Line2D at 0x21b4e4274c0>]"
      ]
     },
     "execution_count": 191,
     "metadata": {},
     "output_type": "execute_result"
    },
    {
     "data": {
      "image/png": "[encoded data removed]",
      "text/plain": [
       "<Figure size 432x288 with 1 Axes>"
      ]
     },
     "metadata": {
      "needs_background": "light"
     },
     "output_type": "display_data"
    }
   ],
   "source": [
    "plt.scatter(X, y)\n",
    "plt.plot(curve_x[:, 0], curve_y)"
   ]
  }
 ],
 "metadata": {
  "kernelspec": {
   "display_name": "test",
   "language": "python",
   "name": "test"
  },
  "language_info": {
   "codemirror_mode": {
    "name": "ipython",
    "version": 3
   },
   "file_extension": ".py",
   "mimetype": "text/x-python",
   "name": "python",
   "nbconvert_exporter": "python",
   "pygments_lexer": "ipython3",
   "version": "3.10.0"
  }
 },
 "nbformat": 4,
 "nbformat_minor": 5
}
