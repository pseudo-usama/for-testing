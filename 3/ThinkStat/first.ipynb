{
 "cells": [
  {
   "cell_type": "code",
   "execution_count": 1,
   "id": "ab431950-3edd-4020-843d-157ecf767287",
   "metadata": {},
   "outputs": [],
   "source": [
    "import pandas as pd\n",
    "import numpy as np\n",
    "import matplotlib.pyplot as plt\n",
    "import seaborn as sns"
   ]
  },
  {
   "cell_type": "code",
   "execution_count": 11,
   "id": "e9b441ba-4733-4580-a967-e2c78be054f4",
   "metadata": {},
   "outputs": [
    {
     "data": {
      "text/html": [
       "<div><div id=fcd3521f-6633-4a39-9e0d-120fbb93ad12 style=\"display:none; background-color:#9D6CFF; color:white; width:200px; height:30px; padding-left:5px; border-radius:4px; flex-direction:row; justify-content:space-around; align-items:center;\" onmouseover=\"this.style.backgroundColor='#BA9BF8'\" onmouseout=\"this.style.backgroundColor='#9D6CFF'\" onclick=\"window.commands?.execute('create-mitosheet-from-dataframe-output');\">See Full Dataframe in Mito</div> <script> if (window.commands.hasCommand('create-mitosheet-from-dataframe-output')) document.getElementById('fcd3521f-6633-4a39-9e0d-120fbb93ad12').style.display = 'flex' </script> <table border=\"1\" class=\"dataframe\">\n",
       "  <thead>\n",
       "    <tr style=\"text-align: right;\">\n",
       "      <th></th>\n",
       "      <th>caseid</th>\n",
       "      <th>nbrnaliv</th>\n",
       "      <th>babysex</th>\n",
       "      <th>birthwgt_lb</th>\n",
       "      <th>birthwgt_oz</th>\n",
       "      <th>prglength</th>\n",
       "      <th>outcome</th>\n",
       "      <th>birthord</th>\n",
       "      <th>agepreg</th>\n",
       "      <th>finalwgt</th>\n",
       "    </tr>\n",
       "  </thead>\n",
       "  <tbody>\n",
       "    <tr>\n",
       "      <th>0</th>\n",
       "      <td>1</td>\n",
       "      <td>1.0</td>\n",
       "      <td>1.0</td>\n",
       "      <td>8.0</td>\n",
       "      <td>13.0</td>\n",
       "      <td>39</td>\n",
       "      <td>1</td>\n",
       "      <td>1.0</td>\n",
       "      <td>33.16</td>\n",
       "      <td>6448.271112</td>\n",
       "    </tr>\n",
       "    <tr>\n",
       "      <th>1</th>\n",
       "      <td>1</td>\n",
       "      <td>1.0</td>\n",
       "      <td>2.0</td>\n",
       "      <td>7.0</td>\n",
       "      <td>14.0</td>\n",
       "      <td>39</td>\n",
       "      <td>1</td>\n",
       "      <td>2.0</td>\n",
       "      <td>39.25</td>\n",
       "      <td>6448.271112</td>\n",
       "    </tr>\n",
       "    <tr>\n",
       "      <th>2</th>\n",
       "      <td>2</td>\n",
       "      <td>3.0</td>\n",
       "      <td>1.0</td>\n",
       "      <td>9.0</td>\n",
       "      <td>2.0</td>\n",
       "      <td>39</td>\n",
       "      <td>1</td>\n",
       "      <td>1.0</td>\n",
       "      <td>14.33</td>\n",
       "      <td>12999.542264</td>\n",
       "    </tr>\n",
       "    <tr>\n",
       "      <th>3</th>\n",
       "      <td>2</td>\n",
       "      <td>1.0</td>\n",
       "      <td>2.0</td>\n",
       "      <td>7.0</td>\n",
       "      <td>0.0</td>\n",
       "      <td>39</td>\n",
       "      <td>1</td>\n",
       "      <td>2.0</td>\n",
       "      <td>17.83</td>\n",
       "      <td>12999.542264</td>\n",
       "    </tr>\n",
       "    <tr>\n",
       "      <th>4</th>\n",
       "      <td>2</td>\n",
       "      <td>1.0</td>\n",
       "      <td>2.0</td>\n",
       "      <td>6.0</td>\n",
       "      <td>3.0</td>\n",
       "      <td>39</td>\n",
       "      <td>1</td>\n",
       "      <td>3.0</td>\n",
       "      <td>18.33</td>\n",
       "      <td>12999.542264</td>\n",
       "    </tr>\n",
       "    <tr>\n",
       "      <th>...</th>\n",
       "      <td>...</td>\n",
       "      <td>...</td>\n",
       "      <td>...</td>\n",
       "      <td>...</td>\n",
       "      <td>...</td>\n",
       "      <td>...</td>\n",
       "      <td>...</td>\n",
       "      <td>...</td>\n",
       "      <td>...</td>\n",
       "      <td>...</td>\n",
       "    </tr>\n",
       "    <tr>\n",
       "      <th>13588</th>\n",
       "      <td>12571</td>\n",
       "      <td>1.0</td>\n",
       "      <td>1.0</td>\n",
       "      <td>6.0</td>\n",
       "      <td>3.0</td>\n",
       "      <td>39</td>\n",
       "      <td>1</td>\n",
       "      <td>1.0</td>\n",
       "      <td>17.91</td>\n",
       "      <td>6269.200989</td>\n",
       "    </tr>\n",
       "    <tr>\n",
       "      <th>13589</th>\n",
       "      <td>12571</td>\n",
       "      <td>NaN</td>\n",
       "      <td>NaN</td>\n",
       "      <td>NaN</td>\n",
       "      <td>NaN</td>\n",
       "      <td>6</td>\n",
       "      <td>2</td>\n",
       "      <td>NaN</td>\n",
       "      <td>18.50</td>\n",
       "      <td>6269.200989</td>\n",
       "    </tr>\n",
       "    <tr>\n",
       "      <th>13590</th>\n",
       "      <td>12571</td>\n",
       "      <td>NaN</td>\n",
       "      <td>NaN</td>\n",
       "      <td>NaN</td>\n",
       "      <td>NaN</td>\n",
       "      <td>5</td>\n",
       "      <td>2</td>\n",
       "      <td>NaN</td>\n",
       "      <td>19.75</td>\n",
       "      <td>6269.200989</td>\n",
       "    </tr>\n",
       "    <tr>\n",
       "      <th>13591</th>\n",
       "      <td>12571</td>\n",
       "      <td>1.0</td>\n",
       "      <td>1.0</td>\n",
       "      <td>7.0</td>\n",
       "      <td>8.0</td>\n",
       "      <td>39</td>\n",
       "      <td>1</td>\n",
       "      <td>2.0</td>\n",
       "      <td>21.58</td>\n",
       "      <td>6269.200989</td>\n",
       "    </tr>\n",
       "    <tr>\n",
       "      <th>13592</th>\n",
       "      <td>12571</td>\n",
       "      <td>1.0</td>\n",
       "      <td>1.0</td>\n",
       "      <td>7.0</td>\n",
       "      <td>8.0</td>\n",
       "      <td>39</td>\n",
       "      <td>1</td>\n",
       "      <td>3.0</td>\n",
       "      <td>21.58</td>\n",
       "      <td>6269.200989</td>\n",
       "    </tr>\n",
       "  </tbody>\n",
       "</table></div>"
      ],
      "text/plain": [
       "       caseid  nbrnaliv  babysex  birthwgt_lb  birthwgt_oz  prglength  \\\n",
       "0           1       1.0      1.0          8.0         13.0         39   \n",
       "1           1       1.0      2.0          7.0         14.0         39   \n",
       "2           2       3.0      1.0          9.0          2.0         39   \n",
       "3           2       1.0      2.0          7.0          0.0         39   \n",
       "4           2       1.0      2.0          6.0          3.0         39   \n",
       "...       ...       ...      ...          ...          ...        ...   \n",
       "13588   12571       1.0      1.0          6.0          3.0         39   \n",
       "13589   12571       NaN      NaN          NaN          NaN          6   \n",
       "13590   12571       NaN      NaN          NaN          NaN          5   \n",
       "13591   12571       1.0      1.0          7.0          8.0         39   \n",
       "13592   12571       1.0      1.0          7.0          8.0         39   \n",
       "\n",
       "       outcome  birthord  agepreg      finalwgt  \n",
       "0            1       1.0    33.16   6448.271112  \n",
       "1            1       2.0    39.25   6448.271112  \n",
       "2            1       1.0    14.33  12999.542264  \n",
       "3            1       2.0    17.83  12999.542264  \n",
       "4            1       3.0    18.33  12999.542264  \n",
       "...        ...       ...      ...           ...  \n",
       "13588        1       1.0    17.91   6269.200989  \n",
       "13589        2       NaN    18.50   6269.200989  \n",
       "13590        2       NaN    19.75   6269.200989  \n",
       "13591        1       2.0    21.58   6269.200989  \n",
       "13592        1       3.0    21.58   6269.200989  \n",
       "\n",
       "[13593 rows x 10 columns]"
      ]
     },
     "execution_count": 11,
     "metadata": {},
     "output_type": "execute_result"
    }
   ],
   "source": [
    "df = pd.read_csv('pregnancies.csv')\n",
    "df"
   ]
  },
  {
   "cell_type": "code",
   "execution_count": null,
   "id": "1bf4848f-00e6-4cae-bdd5-84d639b19ff5",
   "metadata": {},
   "outputs": [],
   "source": []
  },
  {
   "cell_type": "markdown",
   "id": "5bb31c7b-f3c9-4f42-892b-291f47e1b8b4",
   "metadata": {},
   "source": [
    "# Chapter 1"
   ]
  },
  {
   "cell_type": "code",
   "execution_count": null,
   "id": "e1b1469a-e36d-4961-94e8-1e7ba1aeaa72",
   "metadata": {},
   "outputs": [],
   "source": []
  },
  {
   "cell_type": "code",
   "execution_count": 12,
   "id": "74b305a1-a14e-4b92-9b84-b878a1ed65b6",
   "metadata": {},
   "outputs": [
    {
     "data": {
      "text/plain": [
       "(9148, 10)"
      ]
     },
     "execution_count": 12,
     "metadata": {},
     "output_type": "execute_result"
    }
   ],
   "source": [
    "live_births = df[df.outcome == 1].reset_index(drop=True)\n",
    "live_births.shape"
   ]
  },
  {
   "cell_type": "code",
   "execution_count": 13,
   "id": "f72cf927-df3a-4b15-aa3a-14b3f2bf4513",
   "metadata": {},
   "outputs": [],
   "source": [
    "df['first_child'] = (live_births.birthord == 1).astype(int)"
   ]
  },
  {
   "cell_type": "code",
   "execution_count": 14,
   "id": "84ddddc8-04cd-4131-bbf3-586ca9c94b05",
   "metadata": {},
   "outputs": [
    {
     "data": {
      "text/plain": [
       "(4413, 11)"
      ]
     },
     "execution_count": 14,
     "metadata": {},
     "output_type": "execute_result"
    }
   ],
   "source": [
    "first_babies = df[df.first_child == 1].reset_index(drop=True)\n",
    "first_babies.shape"
   ]
  },
  {
   "cell_type": "code",
   "execution_count": 15,
   "id": "5087ae27-77c9-4fb2-a260-2079c6d9922a",
   "metadata": {},
   "outputs": [
    {
     "data": {
      "text/plain": [
       "(4735, 11)"
      ]
     },
     "execution_count": 15,
     "metadata": {},
     "output_type": "execute_result"
    }
   ],
   "source": [
    "other_babies = df[df.first_child == 0].reset_index(drop=True)\n",
    "other_babies.shape"
   ]
  },
  {
   "cell_type": "code",
   "execution_count": null,
   "id": "5996c547-3cf3-4cbd-ab4e-a6ecc9de5005",
   "metadata": {},
   "outputs": [],
   "source": []
  },
  {
   "cell_type": "code",
   "execution_count": null,
   "id": "791b0d12-6166-4828-b640-399d7acd50ac",
   "metadata": {},
   "outputs": [],
   "source": []
  },
  {
   "cell_type": "code",
   "execution_count": null,
   "id": "efb5f806-e8f0-4cbc-9640-1ea75f8287f4",
   "metadata": {},
   "outputs": [],
   "source": []
  },
  {
   "cell_type": "code",
   "execution_count": 16,
   "id": "af7c099c-1902-4de7-af75-124c55331a60",
   "metadata": {},
   "outputs": [
    {
     "data": {
      "text/plain": [
       "29.548379786992975"
      ]
     },
     "execution_count": 16,
     "metadata": {},
     "output_type": "execute_result"
    }
   ],
   "source": [
    "first_babies.prglength.mean()"
   ]
  },
  {
   "cell_type": "code",
   "execution_count": 17,
   "id": "0dd20dc2-2286-41e4-a4c1-52dda6b4d6b1",
   "metadata": {},
   "outputs": [
    {
     "data": {
      "text/plain": [
       "29.60675818373812"
      ]
     },
     "execution_count": 17,
     "metadata": {},
     "output_type": "execute_result"
    }
   ],
   "source": [
    "other_babies.prglength.mean()"
   ]
  },
  {
   "cell_type": "code",
   "execution_count": 37,
   "id": "655edd85-7330-4685-9f9f-f0e55b0acf67",
   "metadata": {},
   "outputs": [
    {
     "data": {
      "text/plain": [
       "9.807570653184285"
      ]
     },
     "execution_count": 37,
     "metadata": {},
     "output_type": "execute_result"
    }
   ],
   "source": [
    "(other_babies.prglength.mean() - first_babies.prglength.mean())*7*24"
   ]
  },
  {
   "cell_type": "code",
   "execution_count": null,
   "id": "c2e4bb42-45ad-48fc-b67d-c0022de58a48",
   "metadata": {},
   "outputs": [],
   "source": []
  },
  {
   "cell_type": "code",
   "execution_count": null,
   "id": "90e1f8ec-81e2-4abb-8f0b-41b587f420b5",
   "metadata": {},
   "outputs": [],
   "source": []
  },
  {
   "cell_type": "code",
   "execution_count": null,
   "id": "2d03858c-9978-48d5-8e53-ede409c6b4b3",
   "metadata": {},
   "outputs": [],
   "source": []
  },
  {
   "cell_type": "markdown",
   "id": "4a1589b1-4ba5-4a09-8998-f29662a94f10",
   "metadata": {},
   "source": [
    "# Chapter 2"
   ]
  },
  {
   "cell_type": "markdown",
   "id": "8d8ce656-a745-4f50-bde1-17c16e3625e8",
   "metadata": {},
   "source": [
    "## Exercise 2.2"
   ]
  },
  {
   "cell_type": "code",
   "execution_count": 21,
   "id": "3def7feb-a05d-42f8-b25c-3932b56abe68",
   "metadata": {},
   "outputs": [
    {
     "data": {
      "text/plain": [
       "13.71001084267691"
      ]
     },
     "execution_count": 21,
     "metadata": {},
     "output_type": "execute_result"
    }
   ],
   "source": [
    "first_babies['prglength'].std()"
   ]
  },
  {
   "cell_type": "code",
   "execution_count": 27,
   "id": "7a38c750-4269-4769-b920-440dcd767e53",
   "metadata": {},
   "outputs": [
    {
     "data": {
      "text/plain": [
       "13.755943399887038"
      ]
     },
     "execution_count": 27,
     "metadata": {},
     "output_type": "execute_result"
    }
   ],
   "source": [
    "other_babies['prglength'].std()"
   ]
  },
  {
   "cell_type": "code",
   "execution_count": 38,
   "id": "2949df37-9a2f-4fd1-91a0-255e181ba9e9",
   "metadata": {},
   "outputs": [
    {
     "data": {
      "text/plain": [
       "7.716669611301413"
      ]
     },
     "execution_count": 38,
     "metadata": {},
     "output_type": "execute_result"
    }
   ],
   "source": [
    "(other_babies['prglength'].std() - first_babies['prglength'].std())*7.0*24.0"
   ]
  },
  {
   "cell_type": "code",
   "execution_count": null,
   "id": "908243fc-0b10-418c-8a0d-b5ce8cfe24c0",
   "metadata": {},
   "outputs": [],
   "source": []
  },
  {
   "cell_type": "code",
   "execution_count": null,
   "id": "93cb0f6b-3a64-42f1-b501-19b533c87bca",
   "metadata": {},
   "outputs": [],
   "source": []
  },
  {
   "cell_type": "code",
   "execution_count": null,
   "id": "b094971e-4445-4a56-9ab0-0d24b87a3b42",
   "metadata": {},
   "outputs": [],
   "source": []
  },
  {
   "cell_type": "code",
   "execution_count": 18,
   "id": "d3611902-8803-4923-8c76-9d392c10ccbd",
   "metadata": {},
   "outputs": [
    {
     "data": {
      "text/plain": [
       "<AxesSubplot:xlabel='prglength', ylabel='Density'>"
      ]
     },
     "execution_count": 18,
     "metadata": {},
     "output_type": "execute_result"
    },
    {
     "data": {
      "image/png": "[encoded data removed]",
      "text/plain": [
       "<Figure size 432x288 with 1 Axes>"
      ]
     },
     "metadata": {
      "needs_background": "light"
     },
     "output_type": "display_data"
    }
   ],
   "source": [
    "sns.kdeplot(x='prglength', hue='first_child', data=df, fill=True)"
   ]
  },
  {
   "cell_type": "code",
   "execution_count": 49,
   "id": "368c780b-69b3-42f6-b88c-0e71e4c5a747",
   "metadata": {},
   "outputs": [
    {
     "data": {
      "text/plain": [
       "<AxesSubplot:xlabel='first_child', ylabel='prglength'>"
      ]
     },
     "execution_count": 49,
     "metadata": {},
     "output_type": "execute_result"
    },
    {
     "data": {
      "image/png": "[encoded data removed]",
      "text/plain": [
       "<Figure size 432x288 with 1 Axes>"
      ]
     },
     "metadata": {
      "needs_background": "light"
     },
     "output_type": "display_data"
    }
   ],
   "source": [
    "sns.violinplot(y='prglength', x='first_child', data=df)"
   ]
  }
 ],
 "metadata": {
  "kernelspec": {
   "display_name": "test",
   "language": "python",
   "name": "test"
  },
  "language_info": {
   "codemirror_mode": {
    "name": "ipython",
    "version": 3
   },
   "file_extension": ".py",
   "mimetype": "text/x-python",
   "name": "python",
   "nbconvert_exporter": "python",
   "pygments_lexer": "ipython3",
   "version": "3.10.0"
  }
 },
 "nbformat": 4,
 "nbformat_minor": 5
}
