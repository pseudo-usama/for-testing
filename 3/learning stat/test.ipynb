{
 "cells": [
  {
   "cell_type": "code",
   "execution_count": 1,
   "id": "f1583736-b575-46ba-b114-389ca94e9519",
   "metadata": {},
   "outputs": [],
   "source": [
    "expectation = 3.5"
   ]
  },
  {
   "cell_type": "code",
   "execution_count": 11,
   "id": "eff38339-3d37-4bd4-ae3f-2fdc56a6b492",
   "metadata": {},
   "outputs": [],
   "source": [
    "sides = [1, 2, 3, 4, 5, 6]\n",
    "probability_of_each = 1/len(sides)"
   ]
  },
  {
   "cell_type": "code",
   "execution_count": 7,
   "id": "9fe6506c-548e-4d98-ad9e-de8ad2aac74e",
   "metadata": {},
   "outputs": [
    {
     "ename": "NameError",
     "evalue": "name 'reduce' is not defined",
     "output_type": "error",
     "traceback": [
      "\u001b[1;31m---------------------------------------------------------------------------\u001b[0m",
      "\u001b[1;31mNameError\u001b[0m                                 Traceback (most recent call last)",
      "\u001b[1;32mF:\\else\\Windows\\DELLTE~1/ipykernel_15700/922984016.py\u001b[0m in \u001b[0;36m<module>\u001b[1;34m\u001b[0m\n\u001b[1;32m----> 1\u001b[1;33m \u001b[0ma\u001b[0m\u001b[1;33m=\u001b[0m\u001b[0mreduce\u001b[0m\u001b[1;33m(\u001b[0m\u001b[1;32mlambda\u001b[0m \u001b[0mside\u001b[0m\u001b[1;33m:\u001b[0m \u001b[1;33m(\u001b[0m\u001b[0mexpectation\u001b[0m \u001b[1;33m-\u001b[0m \u001b[0mside\u001b[0m\u001b[1;33m)\u001b[0m\u001b[1;33m**\u001b[0m\u001b[1;36m2\u001b[0m\u001b[1;33m,\u001b[0m \u001b[0msides\u001b[0m\u001b[1;33m)\u001b[0m\u001b[1;33m\u001b[0m\u001b[1;33m\u001b[0m\u001b[0m\n\u001b[0m",
      "\u001b[1;31mNameError\u001b[0m: name 'reduce' is not defined"
     ]
    }
   ],
   "source": [
    "reduce(lambda side: (expectation - side)**2, sides)"
   ]
  },
  {
   "cell_type": "code",
   "execution_count": 13,
   "id": "2cb77804-0d34-49f8-a1c8-7c8df455ed97",
   "metadata": {},
   "outputs": [],
   "source": [
    "temp = 0\n",
    "\n",
    "for side in sides:\n",
    "    temp += probability_of_each * (expectation - side)**2"
   ]
  },
  {
   "cell_type": "code",
   "execution_count": 14,
   "id": "910f994b-3a5f-487a-aec4-4f5fe8f04d05",
   "metadata": {},
   "outputs": [
    {
     "data": {
      "text/plain": [
       "2.9166666666666665"
      ]
     },
     "execution_count": 14,
     "metadata": {},
     "output_type": "execute_result"
    }
   ],
   "source": [
    "temp"
   ]
  }
 ],
 "metadata": {
  "kernelspec": {
   "display_name": "test",
   "language": "python",
   "name": "test"
  },
  "language_info": {
   "codemirror_mode": {
    "name": "ipython",
    "version": 3
   },
   "file_extension": ".py",
   "mimetype": "text/x-python",
   "name": "python",
   "nbconvert_exporter": "python",
   "pygments_lexer": "ipython3",
   "version": "3.10.0"
  }
 },
 "nbformat": 4,
 "nbformat_minor": 5
}
