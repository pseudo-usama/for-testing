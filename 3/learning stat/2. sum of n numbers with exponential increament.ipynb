{
 "cells": [
  {
   "cell_type": "code",
   "execution_count": 1,
   "id": "a1afc716-de14-4a41-9f31-2ea7c79ba9a3",
   "metadata": {},
   "outputs": [],
   "source": [
    "import numpy as np\n",
    "import matplotlib.pyplot as plt\n",
    "from ipywidgets import Layout, interact, IntSlider"
   ]
  },
  {
   "cell_type": "code",
   "execution_count": 6,
   "id": "1586cd10-cd2e-4966-9ecc-fa698c9129cf",
   "metadata": {},
   "outputs": [
    {
     "data": {
      "application/vnd.jupyter.widget-view+json": {
       "model_id": "77dbdf24344e440f8e2d4573a2d6fd6a",
       "version_major": 2,
       "version_minor": 0
      },
      "text/plain": [
       "interactive(children=(IntSlider(value=5, description='power', layout=Layout(width='500px'), max=60, min=1), In…"
      ]
     },
     "metadata": {},
     "output_type": "display_data"
    }
   ],
   "source": [
    "@interact(\n",
    "    power=IntSlider(min=1, max=60, value=5, layout=Layout(width='500px')),\n",
    "    base=IntSlider(min=2, max=10, value=2, layout=Layout(width='500px'))\n",
    ")\n",
    "def _(power, base):\n",
    "    N = base ** power\n",
    "    i = 2\n",
    "    no_of_iterations = 0\n",
    "\n",
    "    while i <= N:\n",
    "        i = i ** base\n",
    "        no_of_iterations += 1\n",
    "\n",
    "    print(f'                 N : {N}')\n",
    "    print(f'Actuall iterations : {no_of_iterations}')\n",
    "    print(f'              Log{base} : {np.log(N)/np.log(base)}')"
   ]
  }
 ],
 "metadata": {
  "kernelspec": {
   "display_name": "test",
   "language": "python",
   "name": "test"
  },
  "language_info": {
   "codemirror_mode": {
    "name": "ipython",
    "version": 3
   },
   "file_extension": ".py",
   "mimetype": "text/x-python",
   "name": "python",
   "nbconvert_exporter": "python",
   "pygments_lexer": "ipython3",
   "version": "3.10.0"
  }
 },
 "nbformat": 4,
 "nbformat_minor": 5
}
