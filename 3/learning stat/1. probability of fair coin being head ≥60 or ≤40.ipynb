{
 "cells": [
  {
   "cell_type": "code",
   "execution_count": 79,
   "id": "a44db72b-e111-483e-9332-e0d10bc7709e",
   "metadata": {},
   "outputs": [],
   "source": [
    "from math import comb\n",
    "from ipywidgets import interact, interactive, fixed, interact_manual, IntSlider, FloatSlider, IntRangeSlider\n",
    "import ipywidgets as widgets"
   ]
  },
  {
   "cell_type": "code",
   "execution_count": 99,
   "id": "e39a7731-f8bb-4a64-afe0-8afa2504ee24",
   "metadata": {},
   "outputs": [],
   "source": [
    "def binomial_probability(n, k, p):\n",
    "    return comb(n, k) * (p**k) * ((1-p)**(n-k))"
   ]
  },
  {
   "cell_type": "code",
   "execution_count": null,
   "id": "b4950705-0e91-4746-8380-ade80570748e",
   "metadata": {},
   "outputs": [],
   "source": []
  },
  {
   "cell_type": "code",
   "execution_count": null,
   "id": "d75f1a55-4e18-4f2b-9c67-5804156d20b4",
   "metadata": {},
   "outputs": [],
   "source": []
  },
  {
   "cell_type": "code",
   "execution_count": 88,
   "id": "11db3031-ec4b-406c-ba91-2ce15be2537e",
   "metadata": {},
   "outputs": [
    {
     "data": {
      "application/vnd.jupyter.widget-view+json": {
       "model_id": "bf2c2b975cb2446781c89cfccf99cef7",
       "version_major": 2,
       "version_minor": 0
      },
      "text/plain": [
       "interactive(children=(IntSlider(value=100, description='n', min=1), IntRangeSlider(value=(40, 60), description…"
      ]
     },
     "metadata": {},
     "output_type": "display_data"
    }
   ],
   "source": [
    "@interact(\n",
    "    n=IntSlider(min=1, max=100, step=1, value=100),\n",
    "    k=IntRangeSlider(min=1, max=100, step=1, value=[40, 60]),\n",
    "    p=FloatSlider(min=0, max=1, step=0.01, value=0.5)\n",
    ")\n",
    "def _(n, k, p):\n",
    "    print(sum([\n",
    "        binomial_probability(n, k, p)\n",
    "        for k in list(range(0, k[0]+1)) + list(range(k[1]+1, 101))\n",
    "    ]))"
   ]
  },
  {
   "cell_type": "code",
   "execution_count": null,
   "id": "b3e3c0f2-7691-424a-814c-c7dfa395bb48",
   "metadata": {},
   "outputs": [],
   "source": []
  },
  {
   "cell_type": "code",
   "execution_count": null,
   "id": "4763ad00-7e0b-478c-be5a-cb0691a1db1b",
   "metadata": {},
   "outputs": [],
   "source": []
  },
  {
   "cell_type": "code",
   "execution_count": null,
   "id": "080083ee-70b3-48e5-87e9-06ddac561f18",
   "metadata": {},
   "outputs": [],
   "source": []
  },
  {
   "cell_type": "code",
   "execution_count": null,
   "id": "8c8bc48a-82d6-4199-841d-0e1934a39206",
   "metadata": {},
   "outputs": [],
   "source": []
  },
  {
   "cell_type": "code",
   "execution_count": 66,
   "id": "febc266c-0768-44cd-87d6-f9254509a877",
   "metadata": {},
   "outputs": [
    {
     "data": {
      "application/vnd.jupyter.widget-view+json": {
       "model_id": "efbab16b5f074cd18a0555d01dec7659",
       "version_major": 2,
       "version_minor": 0
      },
      "text/plain": [
       "interactive(children=(IntSlider(value=10, description='n', max=10, min=1), IntSlider(value=10, description='k'…"
      ]
     },
     "metadata": {},
     "output_type": "display_data"
    }
   ],
   "source": [
    "@interact(\n",
    "    n=IntSlider(min=1, max=10, step=1, value=10),\n",
    "    k=IntSlider(min=1, max=10, step=1, value=10),\n",
    "    p=FloatSlider(min=0, max=1, step=0.01, value=0.5)\n",
    ")\n",
    "def _(n, k, p):\n",
    "    print(binomial_probability(n, k, p))"
   ]
  },
  {
   "cell_type": "code",
   "execution_count": null,
   "id": "37ee5203-adc2-49bd-a26f-0c9997d93219",
   "metadata": {},
   "outputs": [],
   "source": []
  },
  {
   "cell_type": "code",
   "execution_count": null,
   "id": "4c2bcc1f-f09b-40c5-bbc5-98488fd6253c",
   "metadata": {},
   "outputs": [],
   "source": []
  },
  {
   "cell_type": "code",
   "execution_count": null,
   "id": "72612a52-56c0-4c0b-8643-4f0c46025b02",
   "metadata": {},
   "outputs": [],
   "source": []
  },
  {
   "cell_type": "code",
   "execution_count": 110,
   "id": "1e75842f-9213-454a-ad66-717c3cfa845c",
   "metadata": {},
   "outputs": [
    {
     "data": {
      "text/plain": [
       "2.8484221067306403e-68"
      ]
     },
     "execution_count": 110,
     "metadata": {},
     "output_type": "execute_result"
    }
   ],
   "source": [
    "n = 200\n",
    "p = 1/10\n",
    "\n",
    "sum([\n",
    "    binomial_probability(n, k, p)\n",
    "    for k in range(121, 201)\n",
    "])"
   ]
  }
 ],
 "metadata": {
  "kernelspec": {
   "display_name": "test",
   "language": "python",
   "name": "test"
  },
  "language_info": {
   "codemirror_mode": {
    "name": "ipython",
    "version": 3
   },
   "file_extension": ".py",
   "mimetype": "text/x-python",
   "name": "python",
   "nbconvert_exporter": "python",
   "pygments_lexer": "ipython3",
   "version": "3.10.0"
  }
 },
 "nbformat": 4,
 "nbformat_minor": 5
}
