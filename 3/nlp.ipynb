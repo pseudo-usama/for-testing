{
 "cells": [
  {
   "cell_type": "code",
   "execution_count": 1,
   "id": "fccf6166",
   "metadata": {},
   "outputs": [],
   "source": [
    "import pandas as pd"
   ]
  },
  {
   "cell_type": "code",
   "execution_count": 2,
   "id": "23f774b1",
   "metadata": {},
   "outputs": [],
   "source": [
    "text=pd.read_csv('sample.txt',header= None)"
   ]
  },
  {
   "cell_type": "code",
   "execution_count": 3,
   "id": "75ab1e2d",
   "metadata": {},
   "outputs": [
    {
     "name": "stdout",
     "output_type": "stream",
     "text": [
      "[\"hello i'm faisal Saleem. I'm doing M.phill DS from Pucit.\"]\n",
      "['hello', \"i'm\", 'faisal', 'Saleem.', \"I'm\", 'doing', 'M.phill', 'DS', 'from', 'Pucit.']\n",
      "[\"I'm from sheikhupura.\"]\n",
      "[\"I'm\", 'from', 'sheikhupura.']\n",
      "['A cat jump over the dog.']\n",
      "['A', 'cat', 'jump', 'over', 'the', 'dog.']\n",
      "['i love sheikhupura.']\n",
      "['i', 'love', 'sheikhupura.']\n",
      "[\"i don't like M.phill\"]\n",
      "['i', \"don't\", 'like', 'M.phill']\n",
      "['a dog jum over the cat.']\n",
      "['a', 'dog', 'jum', 'over', 'the', 'cat.']\n",
      "['low lower lowest']\n",
      "['low', 'lower', 'lowest']\n",
      "['wide wider widest']\n",
      "['wide', 'wider', 'widest']\n",
      "['hello', \"i'm\", 'faisal', 'Saleem.', \"I'm\", 'doing', 'M.phill', 'DS', 'from', 'Pucit.', \"I'm\", 'from', 'sheikhupura.', 'A', 'cat', 'jump', 'over', 'the', 'dog.', 'i', 'love', 'sheikhupura.', 'i', \"don't\", 'like', 'M.phill', 'a', 'dog', 'jum', 'over', 'the', 'cat.', 'low', 'lower', 'lowest', 'wide', 'wider', 'widest']\n"
     ]
    }
   ],
   "source": [
    "corpus=[]\n",
    "for row in text.values:\n",
    "    print(row)\n",
    "    tokens = row[0].split(\" \")\n",
    "    print(tokens)\n",
    "    for token in tokens:\n",
    "        corpus.append(token)\n",
    "print(corpus)"
   ]
  },
  {
   "cell_type": "code",
   "execution_count": null,
   "id": "61798c22",
   "metadata": {},
   "outputs": [],
   "source": []
  },
  {
   "cell_type": "code",
   "execution_count": 4,
   "id": "cf8ee867",
   "metadata": {},
   "outputs": [
    {
     "name": "stdout",
     "output_type": "stream",
     "text": [
      "['v', 'w', 's', 'm', 'D', 't', 'l', 'I', 'c', 'k', 'S', 'u', 'n', 'f', 'i', 'e', 'a', 'o', 'M', 'r', '.', 'g', 'd', 'j', 'h', \"'\", 'p', 'A', 'P']\n",
      "prior ['h e l l o', \"i ' m\", 'f a i s a l', 'S a l e e m .', \"I ' m\", 'd o i n g', 'M . p h i l l', 'D S', 'f r o m', 'P u c i t .', \"I ' m\", 'f r o m', 's h e i k h u p u r a .', 'A', 'c a t', 'j u m p', 'o v e r', 't h e', 'd o g .', 'i', 'l o v e', 's h e i k h u p u r a .', 'i', \"d o n ' t\", 'l i k e', 'M . p h i l l', 'a', 'd o g', 'j u m', 'o v e r', 't h e', 'c a t .', 'l o w', 'l o w e r', 'l o w e s t', 'w i d e', 'w i d e r', 'w i d e s t']\n"
     ]
    },
    {
     "data": {
      "text/plain": [
       "['h e l l o </w>',\n",
       " \"i ' m </w>\",\n",
       " 'f a i s a l </w>',\n",
       " 'S a l e e m . </w>',\n",
       " \"I ' m </w>\",\n",
       " 'd o i n g </w>',\n",
       " 'M . p h i l l </w>',\n",
       " 'D S </w>',\n",
       " 'f r o m </w>',\n",
       " 'P u c i t . </w>',\n",
       " \"I ' m </w>\",\n",
       " 'f r o m </w>',\n",
       " 's h e i k h u p u r a . </w>',\n",
       " 'A </w>',\n",
       " 'c a t </w>',\n",
       " 'j u m p </w>',\n",
       " 'o v e r </w>',\n",
       " 't h e </w>',\n",
       " 'd o g . </w>',\n",
       " 'i </w>',\n",
       " 'l o v e </w>',\n",
       " 's h e i k h u p u r a . </w>',\n",
       " 'i </w>',\n",
       " \"d o n ' t </w>\",\n",
       " 'l i k e </w>',\n",
       " 'M . p h i l l </w>',\n",
       " 'a </w>',\n",
       " 'd o g </w>',\n",
       " 'j u m </w>',\n",
       " 'o v e r </w>',\n",
       " 't h e </w>',\n",
       " 'c a t . </w>',\n",
       " 'l o w </w>',\n",
       " 'l o w e r </w>',\n",
       " 'l o w e s t </w>',\n",
       " 'w i d e </w>',\n",
       " 'w i d e r </w>',\n",
       " 'w i d e s t </w>']"
      ]
     },
     "execution_count": 4,
     "metadata": {},
     "output_type": "execute_result"
    }
   ],
   "source": [
    "#initlialize the vocabulary\n",
    "vocab = list(set(\" \".join(corpus)))\n",
    "# print(vocab)\n",
    "vocab.remove(' ')\n",
    "print(vocab)\n",
    "\n",
    "#split the word into characters\n",
    "corpus = [' '.join(token) for token in corpus]\n",
    "print('prior',corpus)\n",
    "\n",
    "#appending </w>\n",
    "corpus=[token+' </w>' for token in corpus]\n",
    "corpus"
   ]
  },
  {
   "cell_type": "code",
   "execution_count": 5,
   "id": "d8d18b34",
   "metadata": {},
   "outputs": [
    {
     "name": "stdout",
     "output_type": "stream",
     "text": [
      "Corpus: {'h e l l o </w>': 1, \"i ' m </w>\": 1, 'f a i s a l </w>': 1, 'S a l e e m . </w>': 1, \"I ' m </w>\": 2, 'd o i n g </w>': 1, 'M . p h i l l </w>': 2, 'D S </w>': 1, 'f r o m </w>': 2, 'P u c i t . </w>': 1, 's h e i k h u p u r a . </w>': 2, 'A </w>': 1, 'c a t </w>': 1, 'j u m p </w>': 1, 'o v e r </w>': 2, 't h e </w>': 2, 'd o g . </w>': 1, 'i </w>': 2, 'l o v e </w>': 1, \"d o n ' t </w>\": 1, 'l i k e </w>': 1, 'a </w>': 1, 'd o g </w>': 1, 'j u m </w>': 1, 'c a t . </w>': 1, 'l o w </w>': 1, 'l o w e r </w>': 1, 'l o w e s t </w>': 1, 'w i d e </w>': 1, 'w i d e r </w>': 1, 'w i d e s t </w>': 1}\n"
     ]
    }
   ],
   "source": [
    "import collections\n",
    "\n",
    "#returns frequency of each word\n",
    "corpus = collections.Counter(corpus)\n",
    "\n",
    "#convert counter object to dictionary\n",
    "corpus = dict(corpus)\n",
    "print(\"Corpus:\",corpus)"
   ]
  },
  {
   "cell_type": "code",
   "execution_count": 88,
   "id": "0e65d2b5",
   "metadata": {},
   "outputs": [],
   "source": [
    "def get_stats(corpus):\n",
    "    pairs = collections.defaultdict(int)\n",
    "    for word, freq in corpus.items():\n",
    "        symbols = word.split()\n",
    "        for i in range(len(symbols)-1):\n",
    "            pairs[symbols[i],symbols[i+1]] += freq\n",
    "    return pairs"
   ]
  },
  {
   "cell_type": "code",
   "execution_count": 89,
   "id": "b02433a9",
   "metadata": {},
   "outputs": [
    {
     "data": {
      "text/plain": [
       "{'h e l l o </w>': 1,\n",
       " \"i ' m </w>\": 1,\n",
       " 'f a i s a l </w>': 1,\n",
       " 'S a l e e m . </w>': 1,\n",
       " \"I ' m </w>\": 2,\n",
       " 'd o i n g </w>': 1,\n",
       " 'M . p h i l l </w>': 2,\n",
       " 'D S </w>': 1,\n",
       " 'f r o m </w>': 2,\n",
       " 'P u c i t . </w>': 1,\n",
       " 's h e i k h u p u r a . </w>': 2,\n",
       " 'A </w>': 1,\n",
       " 'c a t </w>': 1,\n",
       " 'j u m p </w>': 1,\n",
       " 'o v e r </w>': 2,\n",
       " 't h e </w>': 2,\n",
       " 'd o g . </w>': 1,\n",
       " 'i </w>': 2,\n",
       " 'l o v e </w>': 1,\n",
       " \"d o n ' t </w>\": 1,\n",
       " 'l i k e </w>': 1,\n",
       " 'a </w>': 1,\n",
       " 'd o g </w>': 1,\n",
       " 'j u m </w>': 1,\n",
       " 'c a t . </w>': 1,\n",
       " 'l o w </w>': 1,\n",
       " 'l o w e r </w>': 1,\n",
       " 'l o w e s t </w>': 1,\n",
       " 'w i d e </w>': 1,\n",
       " 'w i d e r </w>': 1,\n",
       " 'w i d e s t </w>': 1}"
      ]
     },
     "execution_count": 89,
     "metadata": {},
     "output_type": "execute_result"
    }
   ],
   "source": [
    "corpus"
   ]
  },
  {
   "cell_type": "code",
   "execution_count": 90,
   "id": "62f79f6b",
   "metadata": {},
   "outputs": [],
   "source": [
    "#merges the most frequent pair in the corpus\n",
    "#accepts the corpus and best pair\n",
    "#returns the modified corpus \n",
    "import re\n",
    "def merge_vocab(pair, corpus_in):\n",
    "    corpus_out = {}\n",
    "    bigram = re.escape(' '.join(pair))\n",
    "    p = re.compile(r'(?<!\\S)' + bigram + r'(?!\\S)')\n",
    "    \n",
    "    for word in corpus_in:\n",
    "        w_out = p.sub(''.join(pair), word)\n",
    "        corpus_out[w_out] = corpus_in[word]\n",
    "    \n",
    "    return corpus_out"
   ]
  },
  {
   "cell_type": "code",
   "execution_count": 91,
   "id": "a1676195",
   "metadata": {},
   "outputs": [
    {
     "name": "stdout",
     "output_type": "stream",
     "text": [
      "defaultdict(<class 'int'>, {('h', 'e'): 5, ('e', 'l'): 1, ('l', 'l'): 3, ('l', 'o'): 5, ('o', '</w>'): 1, ('i', \"'\"): 1, (\"'\", 'm'): 3, ('m', '</w>'): 6, ('f', 'a'): 1, ('a', 'i'): 1, ('i', 's'): 1, ('s', 'a'): 1, ('a', 'l'): 2, ('l', '</w>'): 3, ('S', 'a'): 1, ('l', 'e'): 1, ('e', 'e'): 1, ('e', 'm'): 1, ('m', '.'): 1, ('.', '</w>'): 6, ('I', \"'\"): 2, ('d', 'o'): 4, ('o', 'i'): 1, ('i', 'n'): 1, ('n', 'g'): 1, ('g', '</w>'): 2, ('M', '.'): 2, ('.', 'p'): 2, ('p', 'h'): 2, ('h', 'i'): 2, ('i', 'l'): 2, ('D', 'S'): 1, ('S', '</w>'): 1, ('f', 'r'): 2, ('r', 'o'): 2, ('o', 'm'): 2, ('P', 'u'): 1, ('u', 'c'): 1, ('c', 'i'): 1, ('i', 't'): 1, ('t', '.'): 2, ('s', 'h'): 2, ('e', 'i'): 2, ('i', 'k'): 3, ('k', 'h'): 2, ('h', 'u'): 2, ('u', 'p'): 2, ('p', 'u'): 2, ('u', 'r'): 2, ('r', 'a'): 2, ('a', '.'): 2, ('A', '</w>'): 1, ('c', 'a'): 2, ('a', 't'): 2, ('t', '</w>'): 4, ('j', 'u'): 2, ('u', 'm'): 2, ('m', 'p'): 1, ('p', '</w>'): 1, ('o', 'v'): 3, ('v', 'e'): 3, ('e', 'r'): 4, ('r', '</w>'): 4, ('t', 'h'): 2, ('e', '</w>'): 5, ('o', 'g'): 2, ('g', '.'): 1, ('i', '</w>'): 2, ('o', 'n'): 1, ('n', \"'\"): 1, (\"'\", 't'): 1, ('l', 'i'): 1, ('k', 'e'): 1, ('a', '</w>'): 1, ('o', 'w'): 3, ('w', '</w>'): 1, ('w', 'e'): 2, ('e', 's'): 2, ('s', 't'): 2, ('w', 'i'): 3, ('i', 'd'): 3, ('d', 'e'): 3})\n"
     ]
    }
   ],
   "source": [
    "pairs = get_stats(corpus)\n",
    "print(pairs)"
   ]
  },
  {
   "cell_type": "code",
   "execution_count": 92,
   "id": "27bc61b6",
   "metadata": {},
   "outputs": [
    {
     "name": "stdout",
     "output_type": "stream",
     "text": [
      "Most Frequent pair: ('m', '</w>')\n"
     ]
    }
   ],
   "source": [
    "#compute the best pair\n",
    "best = max(pairs, key=pairs.get)\n",
    "print(\"Most Frequent pair:\",best)"
   ]
  },
  {
   "cell_type": "code",
   "execution_count": 93,
   "id": "77688a90",
   "metadata": {},
   "outputs": [
    {
     "name": "stdout",
     "output_type": "stream",
     "text": [
      "After Merging: {'h e l l o </w>': 1, \"i ' m</w>\": 1, 'f a i s a l </w>': 1, 'S a l e e m . </w>': 1, \"I ' m</w>\": 2, 'd o i n g </w>': 1, 'M . p h i l l </w>': 2, 'D S </w>': 1, 'f r o m</w>': 2, 'P u c i t . </w>': 1, 's h e i k h u p u r a . </w>': 2, 'A </w>': 1, 'c a t </w>': 1, 'j u m p </w>': 1, 'o v e r </w>': 2, 't h e </w>': 2, 'd o g . </w>': 1, 'i </w>': 2, 'l o v e </w>': 1, \"d o n ' t </w>\": 1, 'l i k e </w>': 1, 'a </w>': 1, 'd o g </w>': 1, 'j u m</w>': 1, 'c a t . </w>': 1, 'l o w </w>': 1, 'l o w e r </w>': 1, 'l o w e s t </w>': 1, 'w i d e </w>': 1, 'w i d e r </w>': 1, 'w i d e s t </w>': 1}\n"
     ]
    }
   ],
   "source": [
    "#merge the frequent pair in corpus\n",
    "corpus = merge_vocab(best, corpus)\n",
    "print(\"After Merging:\", corpus)\n",
    "\n",
    "#convert a tuple to a string\n",
    "best = \"\".join(list(best))\n",
    "\n",
    "#append to merge list and vocabulary\n",
    "merges = []\n",
    "merges.append(best)\n",
    "vocab.append(best)"
   ]
  },
  {
   "cell_type": "code",
   "execution_count": 94,
   "id": "f0adf548",
   "metadata": {},
   "outputs": [
    {
     "name": "stdout",
     "output_type": "stream",
     "text": [
      "BPE Merge Operations: ['m</w>', '.</w>', 'he', 'lo', 'do', 't</w>', 'er', 'er</w>', \"'m</w>\", 'l</w>', 'ik']\n"
     ]
    }
   ],
   "source": [
    "num_merges = 10\n",
    "for i in range(num_merges):\n",
    "    \n",
    "    #compute frequency of bigrams in a corpus\n",
    "    pairs = get_stats(corpus)\n",
    "    \n",
    "    #compute the best pair\n",
    "    best = max(pairs, key=pairs.get)\n",
    "    \n",
    "    #merge the frequent pair in corpus\n",
    "    corpus = merge_vocab(best, corpus)\n",
    "    \n",
    "    #append to merge list and vocabulary\n",
    "    merges.append(best)\n",
    "    vocab.append(best)\n",
    "\n",
    "#convert a tuple to a string\n",
    "merges_in_string = [\"\".join(list(i)) for i in merges]\n",
    "print(\"BPE Merge Operations:\",merges_in_string)"
   ]
  },
  {
   "cell_type": "code",
   "execution_count": null,
   "id": "88bb8eb9",
   "metadata": {},
   "outputs": [],
   "source": []
  }
 ],
 "metadata": {
  "kernelspec": {
   "display_name": "Python 3 (ipykernel)",
   "language": "python",
   "name": "python3"
  },
  "language_info": {
   "codemirror_mode": {
    "name": "ipython",
    "version": 3
   },
   "file_extension": ".py",
   "mimetype": "text/x-python",
   "name": "python",
   "nbconvert_exporter": "python",
   "pygments_lexer": "ipython3",
   "version": "3.10.0"
  }
 },
 "nbformat": 4,
 "nbformat_minor": 5
}
